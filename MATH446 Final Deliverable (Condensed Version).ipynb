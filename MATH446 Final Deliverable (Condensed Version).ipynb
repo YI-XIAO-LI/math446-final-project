{
 "cells": [
  {
   "cell_type": "markdown",
   "id": "340ee307",
   "metadata": {},
   "source": [
    "Math446 Final Project | Fall 2021 <br>\n",
    "Nick Labruna, Yixiao Li, Dario Offstein, Samantha Zhang "
   ]
  },
  {
   "cell_type": "markdown",
   "id": "9e8b743d",
   "metadata": {
    "toc": true
   },
   "source": [
    "<h1>Table of Contents<span class=\"tocSkip\"></span></h1>\n",
    "<div class=\"toc\"><ul class=\"toc-item\"><li><span><a href=\"#Introduction\" data-toc-modified-id=\"Introduction-1\"><span class=\"toc-item-num\">1&nbsp;&nbsp;</span>Introduction</a></span><ul class=\"toc-item\"><li><span><a href=\"#Imports\" data-toc-modified-id=\"Imports-1.1\"><span class=\"toc-item-num\">1.1&nbsp;&nbsp;</span>Imports</a></span></li></ul></li><li><span><a href=\"#SushiSwap-Data:-Initialization\" data-toc-modified-id=\"SushiSwap-Data:-Initialization-2\"><span class=\"toc-item-num\">2&nbsp;&nbsp;</span>SushiSwap Data: Initialization</a></span><ul class=\"toc-item\"><li><ul class=\"toc-item\"><li><span><a href=\"#Mints\" data-toc-modified-id=\"Mints-2.0.1\"><span class=\"toc-item-num\">2.0.1&nbsp;&nbsp;</span>Mints</a></span></li><li><span><a href=\"#Burns\" data-toc-modified-id=\"Burns-2.0.2\"><span class=\"toc-item-num\">2.0.2&nbsp;&nbsp;</span>Burns</a></span></li><li><span><a href=\"#Swaps\" data-toc-modified-id=\"Swaps-2.0.3\"><span class=\"toc-item-num\">2.0.3&nbsp;&nbsp;</span>Swaps</a></span></li><li><span><a href=\"#Concatenate-Burns,-Mints,-and-Swaps-into-one-large-dataframe\" data-toc-modified-id=\"Concatenate-Burns,-Mints,-and-Swaps-into-one-large-dataframe-2.0.4\"><span class=\"toc-item-num\">2.0.4&nbsp;&nbsp;</span>Concatenate Burns, Mints, and Swaps into one large dataframe</a></span></li><li><span><a href=\"#Convert-datatypes\" data-toc-modified-id=\"Convert-datatypes-2.0.5\"><span class=\"toc-item-num\">2.0.5&nbsp;&nbsp;</span>Convert datatypes</a></span></li></ul></li></ul></li><li><span><a href=\"#Calculate-Inputs-for-Impermanent-Loss\" data-toc-modified-id=\"Calculate-Inputs-for-Impermanent-Loss-3\"><span class=\"toc-item-num\">3&nbsp;&nbsp;</span>Calculate Inputs for Impermanent Loss</a></span><ul class=\"toc-item\"><li><span><a href=\"#Cumulative-Sum\" data-toc-modified-id=\"Cumulative-Sum-3.1\"><span class=\"toc-item-num\">3.1&nbsp;&nbsp;</span>Cumulative Sum</a></span><ul class=\"toc-item\"><li><span><a href=\"#USDC\" data-toc-modified-id=\"USDC-3.1.1\"><span class=\"toc-item-num\">3.1.1&nbsp;&nbsp;</span>USDC</a></span></li><li><span><a href=\"#ETH\" data-toc-modified-id=\"ETH-3.1.2\"><span class=\"toc-item-num\">3.1.2&nbsp;&nbsp;</span>ETH</a></span></li></ul></li><li><span><a href=\"#ETH-Rate\" data-toc-modified-id=\"ETH-Rate-3.2\"><span class=\"toc-item-num\">3.2&nbsp;&nbsp;</span>ETH Rate</a></span></li><li><span><a href=\"#Personal-Percent-Ownership\" data-toc-modified-id=\"Personal-Percent-Ownership-3.3\"><span class=\"toc-item-num\">3.3&nbsp;&nbsp;</span>Personal Percent Ownership</a></span></li></ul></li><li><span><a href=\"#Net-Value-vs.-Holding\" data-toc-modified-id=\"Net-Value-vs.-Holding-4\"><span class=\"toc-item-num\">4&nbsp;&nbsp;</span>Net Value vs. Holding</a></span><ul class=\"toc-item\"><li><span><a href=\"#Isolate-data-to-only-wallet-addresses-with-1-burn,-1-mint\" data-toc-modified-id=\"Isolate-data-to-only-wallet-addresses-with-1-burn,-1-mint-4.1\"><span class=\"toc-item-num\">4.1&nbsp;&nbsp;</span>Isolate data to only wallet addresses with 1 burn, 1 mint</a></span></li><li><span><a href=\"#Gather-all-data-for-wallets-of-interest\" data-toc-modified-id=\"Gather-all-data-for-wallets-of-interest-4.2\"><span class=\"toc-item-num\">4.2&nbsp;&nbsp;</span>Gather all data for wallets of interest</a></span></li><li><span><a href=\"#Data-Cleaning\" data-toc-modified-id=\"Data-Cleaning-4.3\"><span class=\"toc-item-num\">4.3&nbsp;&nbsp;</span>Data Cleaning</a></span></li><li><span><a href=\"#Calculate-Impermanent-Loss\" data-toc-modified-id=\"Calculate-Impermanent-Loss-4.4\"><span class=\"toc-item-num\">4.4&nbsp;&nbsp;</span>Calculate Impermanent Loss</a></span></li><li><span><a href=\"#Calculate-rate-change\" data-toc-modified-id=\"Calculate-rate-change-4.5\"><span class=\"toc-item-num\">4.5&nbsp;&nbsp;</span>Calculate rate change</a></span></li></ul></li><li><span><a href=\"#Ethereum-MacroData\" data-toc-modified-id=\"Ethereum-MacroData-5\"><span class=\"toc-item-num\">5&nbsp;&nbsp;</span>Ethereum MacroData</a></span><ul class=\"toc-item\"><li><span><a href=\"#Data-Collection\" data-toc-modified-id=\"Data-Collection-5.1\"><span class=\"toc-item-num\">5.1&nbsp;&nbsp;</span>Data Collection</a></span></li><li><span><a href=\"#Data-Cleaning\" data-toc-modified-id=\"Data-Cleaning-5.2\"><span class=\"toc-item-num\">5.2&nbsp;&nbsp;</span>Data Cleaning</a></span></li></ul></li><li><span><a href=\"#Exploratory-Data-Analysis-on-NVH\" data-toc-modified-id=\"Exploratory-Data-Analysis-on-NVH-6\"><span class=\"toc-item-num\">6&nbsp;&nbsp;</span>Exploratory Data Analysis on NVH</a></span><ul class=\"toc-item\"><li><span><a href=\"#Statistical-Distributions\" data-toc-modified-id=\"Statistical-Distributions-6.1\"><span class=\"toc-item-num\">6.1&nbsp;&nbsp;</span>Statistical Distributions</a></span></li><li><span><a href=\"#Approach-1:-Group-by-quantile\" data-toc-modified-id=\"Approach-1:-Group-by-quantile-6.2\"><span class=\"toc-item-num\">6.2&nbsp;&nbsp;</span>Approach 1: Group by quantile</a></span></li><li><span><a href=\"#Approach-2:-Remove-outliers\" data-toc-modified-id=\"Approach-2:-Remove-outliers-6.3\"><span class=\"toc-item-num\">6.3&nbsp;&nbsp;</span>Approach 2: Remove outliers</a></span></li><li><span><a href=\"#Correlation-with-other-features\" data-toc-modified-id=\"Correlation-with-other-features-6.4\"><span class=\"toc-item-num\">6.4&nbsp;&nbsp;</span>Correlation with other features</a></span><ul class=\"toc-item\"><li><span><a href=\"#Relationship-with-time_in_pool_days\" data-toc-modified-id=\"Relationship-with-time_in_pool_days-6.4.1\"><span class=\"toc-item-num\">6.4.1&nbsp;&nbsp;</span>Relationship with time_in_pool_days</a></span></li><li><span><a href=\"#Relationship-with-eth_rate_burn\" data-toc-modified-id=\"Relationship-with-eth_rate_burn-6.4.2\"><span class=\"toc-item-num\">6.4.2&nbsp;&nbsp;</span>Relationship with eth_rate_burn</a></span></li><li><span><a href=\"#Relationship-with-eth_rate_mint\" data-toc-modified-id=\"Relationship-with-eth_rate_mint-6.4.3\"><span class=\"toc-item-num\">6.4.3&nbsp;&nbsp;</span>Relationship with eth_rate_mint</a></span></li><li><span><a href=\"#Relationship-with-usdc_burned-v.s.-eth_burned\" data-toc-modified-id=\"Relationship-with-usdc_burned-v.s.-eth_burned-6.4.4\"><span class=\"toc-item-num\">6.4.4&nbsp;&nbsp;</span>Relationship with usdc_burned v.s. eth_burned</a></span></li><li><span><a href=\"#Relationship-with-mint_vol-and-burn_vol-(volatility)\" data-toc-modified-id=\"Relationship-with-mint_vol-and-burn_vol-(volatility)-6.4.5\"><span class=\"toc-item-num\">6.4.5&nbsp;&nbsp;</span>Relationship with mint_vol and burn_vol (volatility)</a></span></li></ul></li></ul></li><li><span><a href=\"#Machine-Learning-on-NVH\" data-toc-modified-id=\"Machine-Learning-on-NVH-7\"><span class=\"toc-item-num\">7&nbsp;&nbsp;</span>Machine Learning on NVH</a></span><ul class=\"toc-item\"><li><span><a href=\"#Random-Forrest-on-Raw-Data\" data-toc-modified-id=\"Random-Forrest-on-Raw-Data-7.1\"><span class=\"toc-item-num\">7.1&nbsp;&nbsp;</span>Random Forrest on Raw Data</a></span></li><li><span><a href=\"#Random-Forrest-on-Quartiles\" data-toc-modified-id=\"Random-Forrest-on-Quartiles-7.2\"><span class=\"toc-item-num\">7.2&nbsp;&nbsp;</span>Random Forrest on Quartiles</a></span></li></ul></li></ul></div>"
   ]
  },
  {
   "cell_type": "markdown",
   "id": "68aed47e",
   "metadata": {},
   "source": [
    "# Introduction"
   ]
  },
  {
   "cell_type": "markdown",
   "id": "8f3da7d7",
   "metadata": {},
   "source": [
    "## Imports"
   ]
  },
  {
   "cell_type": "code",
   "execution_count": 1,
   "id": "15e262e7",
   "metadata": {},
   "outputs": [],
   "source": [
    "# Basics\n",
    "import pandas as pd\n",
    "import numpy as np\n",
    "import scipy\n",
    "import time\n",
    "\n",
    "# Files \n",
    "import glob\n",
    "import os\n",
    "import os.path\n",
    "from zipfile import ZipFile\n",
    "\n",
    "# Plotting\n",
    "import matplotlib.pyplot as plt\n",
    "import seaborn as sns\n",
    "\n",
    "# Machine Learning\n",
    "from sklearn.linear_model import LinearRegression\n",
    "from sklearn.model_selection import train_test_split\n",
    "from sklearn.neighbors import KNeighborsClassifier\n",
    "from sklearn.metrics import confusion_matrix\n",
    "from sklearn.decomposition import PCA\n",
    "from sklearn.ensemble import RandomForestClassifier\n",
    "from sklearn.datasets import make_classification\n",
    "from sklearn import linear_model\n",
    "\n",
    "# Statistics\n",
    "from sklearn.metrics import mean_squared_error\n",
    "from sklearn.metrics import r2_score\n",
    "\n",
    "# API\n",
    "from IPython.display import Image\n",
    "from IPython.core.display import HTML \n",
    "import requests"
   ]
  },
  {
   "cell_type": "code",
   "execution_count": 2,
   "id": "a33361f3",
   "metadata": {},
   "outputs": [],
   "source": [
    "pd.set_option('display.max_columns', None)"
   ]
  },
  {
   "cell_type": "markdown",
   "id": "8dbb622e",
   "metadata": {},
   "source": [
    "# SushiSwap Data: Initialization"
   ]
  },
  {
   "cell_type": "markdown",
   "id": "43466fb5",
   "metadata": {},
   "source": [
    "### Mints"
   ]
  },
  {
   "cell_type": "code",
   "execution_count": 3,
   "id": "e43a5aea",
   "metadata": {
    "scrolled": true
   },
   "outputs": [
    {
     "data": {
      "text/html": [
       "<div>\n",
       "<style scoped>\n",
       "    .dataframe tbody tr th:only-of-type {\n",
       "        vertical-align: middle;\n",
       "    }\n",
       "\n",
       "    .dataframe tbody tr th {\n",
       "        vertical-align: top;\n",
       "    }\n",
       "\n",
       "    .dataframe thead th {\n",
       "        text-align: right;\n",
       "    }\n",
       "</style>\n",
       "<table border=\"1\" class=\"dataframe\">\n",
       "  <thead>\n",
       "    <tr style=\"text-align: right;\">\n",
       "      <th></th>\n",
       "      <th>amount0</th>\n",
       "      <th>amount1</th>\n",
       "      <th>amountUSD</th>\n",
       "      <th>feeLiquidity</th>\n",
       "      <th>feeTo</th>\n",
       "      <th>id</th>\n",
       "      <th>liquidity</th>\n",
       "      <th>logIndex</th>\n",
       "      <th>sender</th>\n",
       "      <th>timestamp</th>\n",
       "      <th>to</th>\n",
       "      <th>pair.id</th>\n",
       "      <th>pair.name</th>\n",
       "      <th>transaction.id</th>\n",
       "      <th>action_name</th>\n",
       "    </tr>\n",
       "  </thead>\n",
       "  <tbody>\n",
       "    <tr>\n",
       "      <th>0</th>\n",
       "      <td>574.481660</td>\n",
       "      <td>0.174737</td>\n",
       "      <td>1147.107468</td>\n",
       "      <td>NaN</td>\n",
       "      <td>NaN</td>\n",
       "      <td>0x695d087b62a730ee0793acaaa6e2413357c563eba326...</td>\n",
       "      <td>1.361183e-06</td>\n",
       "      <td>69</td>\n",
       "      <td>0xd9e1ce17f2641f24ae83637ab66a2cca9c378b9f</td>\n",
       "      <td>1633160808</td>\n",
       "      <td>0xe11fc0b43ab98eb91e9836129d1ee7c3bc95df50</td>\n",
       "      <td>0x397ff1542f962076d0bfe58ea045ffa2d347aca0</td>\n",
       "      <td>USDC-WETH</td>\n",
       "      <td>0x695d087b62a730ee0793acaaa6e2413357c563eba326...</td>\n",
       "      <td>MINT</td>\n",
       "    </tr>\n",
       "    <tr>\n",
       "      <th>1</th>\n",
       "      <td>1311.317483</td>\n",
       "      <td>0.400145</td>\n",
       "      <td>2620.918088</td>\n",
       "      <td>NaN</td>\n",
       "      <td>NaN</td>\n",
       "      <td>0x60051f48b99561c8f297559648ecc23558eb6dbe394e...</td>\n",
       "      <td>2.477612e-06</td>\n",
       "      <td>246</td>\n",
       "      <td>0xd9e1ce17f2641f24ae83637ab66a2cca9c378b9f</td>\n",
       "      <td>1633164136</td>\n",
       "      <td>0xe11fc0b43ab98eb91e9836129d1ee7c3bc95df50</td>\n",
       "      <td>0x397ff1542f962076d0bfe58ea045ffa2d347aca0</td>\n",
       "      <td>USDC-WETH</td>\n",
       "      <td>0x60051f48b99561c8f297559648ecc23558eb6dbe394e...</td>\n",
       "      <td>MINT</td>\n",
       "    </tr>\n",
       "    <tr>\n",
       "      <th>2</th>\n",
       "      <td>5593.122562</td>\n",
       "      <td>1.706748</td>\n",
       "      <td>11178.217359</td>\n",
       "      <td>NaN</td>\n",
       "      <td>NaN</td>\n",
       "      <td>0x361ebab5a71583293b74765226ba92dfbb3859906262...</td>\n",
       "      <td>7.807042e-08</td>\n",
       "      <td>100</td>\n",
       "      <td>0xd9e1ce17f2641f24ae83637ab66a2cca9c378b9f</td>\n",
       "      <td>1633164339</td>\n",
       "      <td>0xe11fc0b43ab98eb91e9836129d1ee7c3bc95df50</td>\n",
       "      <td>0x397ff1542f962076d0bfe58ea045ffa2d347aca0</td>\n",
       "      <td>USDC-WETH</td>\n",
       "      <td>0x361ebab5a71583293b74765226ba92dfbb3859906262...</td>\n",
       "      <td>MINT</td>\n",
       "    </tr>\n",
       "    <tr>\n",
       "      <th>3</th>\n",
       "      <td>62330.221361</td>\n",
       "      <td>18.999225</td>\n",
       "      <td>124545.426820</td>\n",
       "      <td>NaN</td>\n",
       "      <td>NaN</td>\n",
       "      <td>0xf8b593af076e445d50c47550645f1e6198d9649997d1...</td>\n",
       "      <td>3.067125e-07</td>\n",
       "      <td>193</td>\n",
       "      <td>0xd9e1ce17f2641f24ae83637ab66a2cca9c378b9f</td>\n",
       "      <td>1633165049</td>\n",
       "      <td>0xe11fc0b43ab98eb91e9836129d1ee7c3bc95df50</td>\n",
       "      <td>0x397ff1542f962076d0bfe58ea045ffa2d347aca0</td>\n",
       "      <td>USDC-WETH</td>\n",
       "      <td>0xf8b593af076e445d50c47550645f1e6198d9649997d1...</td>\n",
       "      <td>MINT</td>\n",
       "    </tr>\n",
       "    <tr>\n",
       "      <th>4</th>\n",
       "      <td>4984.333729</td>\n",
       "      <td>1.518431</td>\n",
       "      <td>9959.231138</td>\n",
       "      <td>NaN</td>\n",
       "      <td>NaN</td>\n",
       "      <td>0xd05ea8f94cf52348c6e42dc00f2b40b2540fea88e0c9...</td>\n",
       "      <td>3.214293e-07</td>\n",
       "      <td>234</td>\n",
       "      <td>0xd9e1ce17f2641f24ae83637ab66a2cca9c378b9f</td>\n",
       "      <td>1633165233</td>\n",
       "      <td>0xe11fc0b43ab98eb91e9836129d1ee7c3bc95df50</td>\n",
       "      <td>0x397ff1542f962076d0bfe58ea045ffa2d347aca0</td>\n",
       "      <td>USDC-WETH</td>\n",
       "      <td>0xd05ea8f94cf52348c6e42dc00f2b40b2540fea88e0c9...</td>\n",
       "      <td>MINT</td>\n",
       "    </tr>\n",
       "  </tbody>\n",
       "</table>\n",
       "</div>"
      ],
      "text/plain": [
       "        amount0    amount1      amountUSD  feeLiquidity  feeTo  \\\n",
       "0    574.481660   0.174737    1147.107468           NaN    NaN   \n",
       "1   1311.317483   0.400145    2620.918088           NaN    NaN   \n",
       "2   5593.122562   1.706748   11178.217359           NaN    NaN   \n",
       "3  62330.221361  18.999225  124545.426820           NaN    NaN   \n",
       "4   4984.333729   1.518431    9959.231138           NaN    NaN   \n",
       "\n",
       "                                                  id     liquidity  logIndex  \\\n",
       "0  0x695d087b62a730ee0793acaaa6e2413357c563eba326...  1.361183e-06        69   \n",
       "1  0x60051f48b99561c8f297559648ecc23558eb6dbe394e...  2.477612e-06       246   \n",
       "2  0x361ebab5a71583293b74765226ba92dfbb3859906262...  7.807042e-08       100   \n",
       "3  0xf8b593af076e445d50c47550645f1e6198d9649997d1...  3.067125e-07       193   \n",
       "4  0xd05ea8f94cf52348c6e42dc00f2b40b2540fea88e0c9...  3.214293e-07       234   \n",
       "\n",
       "                                       sender   timestamp  \\\n",
       "0  0xd9e1ce17f2641f24ae83637ab66a2cca9c378b9f  1633160808   \n",
       "1  0xd9e1ce17f2641f24ae83637ab66a2cca9c378b9f  1633164136   \n",
       "2  0xd9e1ce17f2641f24ae83637ab66a2cca9c378b9f  1633164339   \n",
       "3  0xd9e1ce17f2641f24ae83637ab66a2cca9c378b9f  1633165049   \n",
       "4  0xd9e1ce17f2641f24ae83637ab66a2cca9c378b9f  1633165233   \n",
       "\n",
       "                                           to  \\\n",
       "0  0xe11fc0b43ab98eb91e9836129d1ee7c3bc95df50   \n",
       "1  0xe11fc0b43ab98eb91e9836129d1ee7c3bc95df50   \n",
       "2  0xe11fc0b43ab98eb91e9836129d1ee7c3bc95df50   \n",
       "3  0xe11fc0b43ab98eb91e9836129d1ee7c3bc95df50   \n",
       "4  0xe11fc0b43ab98eb91e9836129d1ee7c3bc95df50   \n",
       "\n",
       "                                      pair.id  pair.name  \\\n",
       "0  0x397ff1542f962076d0bfe58ea045ffa2d347aca0  USDC-WETH   \n",
       "1  0x397ff1542f962076d0bfe58ea045ffa2d347aca0  USDC-WETH   \n",
       "2  0x397ff1542f962076d0bfe58ea045ffa2d347aca0  USDC-WETH   \n",
       "3  0x397ff1542f962076d0bfe58ea045ffa2d347aca0  USDC-WETH   \n",
       "4  0x397ff1542f962076d0bfe58ea045ffa2d347aca0  USDC-WETH   \n",
       "\n",
       "                                      transaction.id action_name  \n",
       "0  0x695d087b62a730ee0793acaaa6e2413357c563eba326...        MINT  \n",
       "1  0x60051f48b99561c8f297559648ecc23558eb6dbe394e...        MINT  \n",
       "2  0x361ebab5a71583293b74765226ba92dfbb3859906262...        MINT  \n",
       "3  0xf8b593af076e445d50c47550645f1e6198d9649997d1...        MINT  \n",
       "4  0xd05ea8f94cf52348c6e42dc00f2b40b2540fea88e0c9...        MINT  "
      ]
     },
     "execution_count": 3,
     "metadata": {},
     "output_type": "execute_result"
    }
   ],
   "source": [
    "mints = pd.concat(map(pd.read_csv, glob.glob('/Users/samantha/MATH446/MATH446_project/sushiswap_data/sushi_mints/*.csv')))\n",
    "mints['action_name'] = 'MINT'\n",
    "mints.head()"
   ]
  },
  {
   "cell_type": "markdown",
   "id": "149461f2",
   "metadata": {},
   "source": [
    "### Burns"
   ]
  },
  {
   "cell_type": "code",
   "execution_count": 4,
   "id": "2c8993ca",
   "metadata": {},
   "outputs": [
    {
     "data": {
      "text/html": [
       "<div>\n",
       "<style scoped>\n",
       "    .dataframe tbody tr th:only-of-type {\n",
       "        vertical-align: middle;\n",
       "    }\n",
       "\n",
       "    .dataframe tbody tr th {\n",
       "        vertical-align: top;\n",
       "    }\n",
       "\n",
       "    .dataframe thead th {\n",
       "        text-align: right;\n",
       "    }\n",
       "</style>\n",
       "<table border=\"1\" class=\"dataframe\">\n",
       "  <thead>\n",
       "    <tr style=\"text-align: right;\">\n",
       "      <th></th>\n",
       "      <th>amount0</th>\n",
       "      <th>amount1</th>\n",
       "      <th>amountUSD</th>\n",
       "      <th>complete</th>\n",
       "      <th>feeLiquidity</th>\n",
       "      <th>feeTo</th>\n",
       "      <th>id</th>\n",
       "      <th>liquidity</th>\n",
       "      <th>logIndex</th>\n",
       "      <th>sender</th>\n",
       "      <th>timestamp</th>\n",
       "      <th>to</th>\n",
       "      <th>pair.id</th>\n",
       "      <th>pair.name</th>\n",
       "      <th>transaction.id</th>\n",
       "      <th>action_name</th>\n",
       "    </tr>\n",
       "  </thead>\n",
       "  <tbody>\n",
       "    <tr>\n",
       "      <th>0</th>\n",
       "      <td>53.155600</td>\n",
       "      <td>0.016220</td>\n",
       "      <td>106.234666</td>\n",
       "      <td>False</td>\n",
       "      <td>9.017815e-10</td>\n",
       "      <td>0xe11fc0b43ab98eb91e9836129d1ee7c3bc95df50</td>\n",
       "      <td>0x936805cb4d012886f76dba41af99490bbfe58090c7d9...</td>\n",
       "      <td>6.391299e-07</td>\n",
       "      <td>18</td>\n",
       "      <td>0x3098cfaaba3795ab98dc2d5066ec4d2584ae7c68</td>\n",
       "      <td>1633164407</td>\n",
       "      <td>0x397ff1542f962076d0bfe58ea045ffa2d347aca0</td>\n",
       "      <td>0x397ff1542f962076d0bfe58ea045ffa2d347aca0</td>\n",
       "      <td>USDC-WETH</td>\n",
       "      <td>0x936805cb4d012886f76dba41af99490bbfe58090c7d9...</td>\n",
       "      <td>BURN</td>\n",
       "    </tr>\n",
       "    <tr>\n",
       "      <th>1</th>\n",
       "      <td>33429.997718</td>\n",
       "      <td>10.199557</td>\n",
       "      <td>66802.066085</td>\n",
       "      <td>False</td>\n",
       "      <td>8.739686e-08</td>\n",
       "      <td>0xe11fc0b43ab98eb91e9836129d1ee7c3bc95df50</td>\n",
       "      <td>0x40ae1f2ec9393cdf0c3dccbac0e280eba5ef0edef736...</td>\n",
       "      <td>4.019222e-04</td>\n",
       "      <td>16</td>\n",
       "      <td>0xe11fc0b43ab98eb91e9836129d1ee7c3bc95df50</td>\n",
       "      <td>1633164768</td>\n",
       "      <td>0x397ff1542f962076d0bfe58ea045ffa2d347aca0</td>\n",
       "      <td>0x397ff1542f962076d0bfe58ea045ffa2d347aca0</td>\n",
       "      <td>USDC-WETH</td>\n",
       "      <td>0x40ae1f2ec9393cdf0c3dccbac0e280eba5ef0edef736...</td>\n",
       "      <td>BURN</td>\n",
       "    </tr>\n",
       "    <tr>\n",
       "      <th>2</th>\n",
       "      <td>34128.894884</td>\n",
       "      <td>10.396624</td>\n",
       "      <td>68332.121333</td>\n",
       "      <td>False</td>\n",
       "      <td>6.024975e-07</td>\n",
       "      <td>0xe11fc0b43ab98eb91e9836129d1ee7c3bc95df50</td>\n",
       "      <td>0x692c11b5a88bafe38e33ed53c9d69f2e654546c1c56a...</td>\n",
       "      <td>4.100051e-04</td>\n",
       "      <td>46</td>\n",
       "      <td>0xa4cf946befa8786a2fd37e7a05060552eb42be24</td>\n",
       "      <td>1633166187</td>\n",
       "      <td>0x397ff1542f962076d0bfe58ea045ffa2d347aca0</td>\n",
       "      <td>0x397ff1542f962076d0bfe58ea045ffa2d347aca0</td>\n",
       "      <td>USDC-WETH</td>\n",
       "      <td>0x692c11b5a88bafe38e33ed53c9d69f2e654546c1c56a...</td>\n",
       "      <td>BURN</td>\n",
       "    </tr>\n",
       "    <tr>\n",
       "      <th>3</th>\n",
       "      <td>33034.686899</td>\n",
       "      <td>10.005131</td>\n",
       "      <td>66068.754569</td>\n",
       "      <td>False</td>\n",
       "      <td>3.261846e-07</td>\n",
       "      <td>0xe11fc0b43ab98eb91e9836129d1ee7c3bc95df50</td>\n",
       "      <td>0x9278010f9e3f51c2a77bea1c4b3cfca76966d332e7e9...</td>\n",
       "      <td>3.957080e-04</td>\n",
       "      <td>211</td>\n",
       "      <td>0x098cb6b899659d6aa08a0f097c4a2bc23ce104e9</td>\n",
       "      <td>1633168107</td>\n",
       "      <td>0x397ff1542f962076d0bfe58ea045ffa2d347aca0</td>\n",
       "      <td>0x397ff1542f962076d0bfe58ea045ffa2d347aca0</td>\n",
       "      <td>USDC-WETH</td>\n",
       "      <td>0x9278010f9e3f51c2a77bea1c4b3cfca76966d332e7e9...</td>\n",
       "      <td>BURN</td>\n",
       "    </tr>\n",
       "    <tr>\n",
       "      <th>4</th>\n",
       "      <td>5096.180410</td>\n",
       "      <td>1.544994</td>\n",
       "      <td>10187.645674</td>\n",
       "      <td>False</td>\n",
       "      <td>3.082823e-07</td>\n",
       "      <td>0xe11fc0b43ab98eb91e9836129d1ee7c3bc95df50</td>\n",
       "      <td>0xd27d9569dabcff02c3e59b080d57acf31195ece647f3...</td>\n",
       "      <td>6.107424e-05</td>\n",
       "      <td>501</td>\n",
       "      <td>0xc2aaa920e4f0b49407007ff5a16d46e824c24b7b</td>\n",
       "      <td>1633178171</td>\n",
       "      <td>0x397ff1542f962076d0bfe58ea045ffa2d347aca0</td>\n",
       "      <td>0x397ff1542f962076d0bfe58ea045ffa2d347aca0</td>\n",
       "      <td>USDC-WETH</td>\n",
       "      <td>0xd27d9569dabcff02c3e59b080d57acf31195ece647f3...</td>\n",
       "      <td>BURN</td>\n",
       "    </tr>\n",
       "  </tbody>\n",
       "</table>\n",
       "</div>"
      ],
      "text/plain": [
       "        amount0    amount1     amountUSD  complete  feeLiquidity  \\\n",
       "0     53.155600   0.016220    106.234666     False  9.017815e-10   \n",
       "1  33429.997718  10.199557  66802.066085     False  8.739686e-08   \n",
       "2  34128.894884  10.396624  68332.121333     False  6.024975e-07   \n",
       "3  33034.686899  10.005131  66068.754569     False  3.261846e-07   \n",
       "4   5096.180410   1.544994  10187.645674     False  3.082823e-07   \n",
       "\n",
       "                                        feeTo  \\\n",
       "0  0xe11fc0b43ab98eb91e9836129d1ee7c3bc95df50   \n",
       "1  0xe11fc0b43ab98eb91e9836129d1ee7c3bc95df50   \n",
       "2  0xe11fc0b43ab98eb91e9836129d1ee7c3bc95df50   \n",
       "3  0xe11fc0b43ab98eb91e9836129d1ee7c3bc95df50   \n",
       "4  0xe11fc0b43ab98eb91e9836129d1ee7c3bc95df50   \n",
       "\n",
       "                                                  id     liquidity  logIndex  \\\n",
       "0  0x936805cb4d012886f76dba41af99490bbfe58090c7d9...  6.391299e-07        18   \n",
       "1  0x40ae1f2ec9393cdf0c3dccbac0e280eba5ef0edef736...  4.019222e-04        16   \n",
       "2  0x692c11b5a88bafe38e33ed53c9d69f2e654546c1c56a...  4.100051e-04        46   \n",
       "3  0x9278010f9e3f51c2a77bea1c4b3cfca76966d332e7e9...  3.957080e-04       211   \n",
       "4  0xd27d9569dabcff02c3e59b080d57acf31195ece647f3...  6.107424e-05       501   \n",
       "\n",
       "                                       sender   timestamp  \\\n",
       "0  0x3098cfaaba3795ab98dc2d5066ec4d2584ae7c68  1633164407   \n",
       "1  0xe11fc0b43ab98eb91e9836129d1ee7c3bc95df50  1633164768   \n",
       "2  0xa4cf946befa8786a2fd37e7a05060552eb42be24  1633166187   \n",
       "3  0x098cb6b899659d6aa08a0f097c4a2bc23ce104e9  1633168107   \n",
       "4  0xc2aaa920e4f0b49407007ff5a16d46e824c24b7b  1633178171   \n",
       "\n",
       "                                           to  \\\n",
       "0  0x397ff1542f962076d0bfe58ea045ffa2d347aca0   \n",
       "1  0x397ff1542f962076d0bfe58ea045ffa2d347aca0   \n",
       "2  0x397ff1542f962076d0bfe58ea045ffa2d347aca0   \n",
       "3  0x397ff1542f962076d0bfe58ea045ffa2d347aca0   \n",
       "4  0x397ff1542f962076d0bfe58ea045ffa2d347aca0   \n",
       "\n",
       "                                      pair.id  pair.name  \\\n",
       "0  0x397ff1542f962076d0bfe58ea045ffa2d347aca0  USDC-WETH   \n",
       "1  0x397ff1542f962076d0bfe58ea045ffa2d347aca0  USDC-WETH   \n",
       "2  0x397ff1542f962076d0bfe58ea045ffa2d347aca0  USDC-WETH   \n",
       "3  0x397ff1542f962076d0bfe58ea045ffa2d347aca0  USDC-WETH   \n",
       "4  0x397ff1542f962076d0bfe58ea045ffa2d347aca0  USDC-WETH   \n",
       "\n",
       "                                      transaction.id action_name  \n",
       "0  0x936805cb4d012886f76dba41af99490bbfe58090c7d9...        BURN  \n",
       "1  0x40ae1f2ec9393cdf0c3dccbac0e280eba5ef0edef736...        BURN  \n",
       "2  0x692c11b5a88bafe38e33ed53c9d69f2e654546c1c56a...        BURN  \n",
       "3  0x9278010f9e3f51c2a77bea1c4b3cfca76966d332e7e9...        BURN  \n",
       "4  0xd27d9569dabcff02c3e59b080d57acf31195ece647f3...        BURN  "
      ]
     },
     "execution_count": 4,
     "metadata": {},
     "output_type": "execute_result"
    }
   ],
   "source": [
    "burns = pd.concat(map(pd.read_csv, glob.glob('/Users/samantha/MATH446/MATH446_project/sushiswap_data/sushi_burns/*.csv')))\n",
    "burns['action_name'] = 'BURN'\n",
    "burns.head()"
   ]
  },
  {
   "cell_type": "markdown",
   "id": "fe6da3fc",
   "metadata": {},
   "source": [
    "### Swaps"
   ]
  },
  {
   "cell_type": "code",
   "execution_count": 5,
   "id": "1e2456c8",
   "metadata": {
    "scrolled": false
   },
   "outputs": [
    {
     "data": {
      "text/html": [
       "<div>\n",
       "<style scoped>\n",
       "    .dataframe tbody tr th:only-of-type {\n",
       "        vertical-align: middle;\n",
       "    }\n",
       "\n",
       "    .dataframe tbody tr th {\n",
       "        vertical-align: top;\n",
       "    }\n",
       "\n",
       "    .dataframe thead th {\n",
       "        text-align: right;\n",
       "    }\n",
       "</style>\n",
       "<table border=\"1\" class=\"dataframe\">\n",
       "  <thead>\n",
       "    <tr style=\"text-align: right;\">\n",
       "      <th></th>\n",
       "      <th>amount0In</th>\n",
       "      <th>amount0Out</th>\n",
       "      <th>amount1In</th>\n",
       "      <th>amount1Out</th>\n",
       "      <th>amountUSD</th>\n",
       "      <th>id</th>\n",
       "      <th>logIndex</th>\n",
       "      <th>sender</th>\n",
       "      <th>timestamp</th>\n",
       "      <th>to</th>\n",
       "      <th>pair.id</th>\n",
       "      <th>pair.name</th>\n",
       "      <th>transaction.id</th>\n",
       "      <th>action_name</th>\n",
       "    </tr>\n",
       "  </thead>\n",
       "  <tbody>\n",
       "    <tr>\n",
       "      <th>0</th>\n",
       "      <td>0.00000</td>\n",
       "      <td>655.691167</td>\n",
       "      <td>0.200000</td>\n",
       "      <td>0.00000</td>\n",
       "      <td>655.739105</td>\n",
       "      <td>0x4d8ef545d36dde6624bcdfdb456f86dcff62ada993c5...</td>\n",
       "      <td>29</td>\n",
       "      <td>0xf9234cb08edb93c0d4a4d4c70cc3ffd070e78e07</td>\n",
       "      <td>1633158467</td>\n",
       "      <td>0x2711569d80dfb93d41016fc0362a9be6e07de24f</td>\n",
       "      <td>0x397ff1542f962076d0bfe58ea045ffa2d347aca0</td>\n",
       "      <td>USDC-WETH</td>\n",
       "      <td>0x4d8ef545d36dde6624bcdfdb456f86dcff62ada993c5...</td>\n",
       "      <td>SWAP</td>\n",
       "    </tr>\n",
       "    <tr>\n",
       "      <th>1</th>\n",
       "      <td>3187.37127</td>\n",
       "      <td>0.000000</td>\n",
       "      <td>0.000000</td>\n",
       "      <td>0.96638</td>\n",
       "      <td>3178.416336</td>\n",
       "      <td>0x8588d600669d558b7f0d01497b4b0d7d52ed68bd6a3a...</td>\n",
       "      <td>233</td>\n",
       "      <td>0xd9e1ce17f2641f24ae83637ab66a2cca9c378b9f</td>\n",
       "      <td>1633158512</td>\n",
       "      <td>0x06da0fd433c1a5d7a4faa01111c044910a184553</td>\n",
       "      <td>0x397ff1542f962076d0bfe58ea045ffa2d347aca0</td>\n",
       "      <td>USDC-WETH</td>\n",
       "      <td>0x8588d600669d558b7f0d01497b4b0d7d52ed68bd6a3a...</td>\n",
       "      <td>SWAP</td>\n",
       "    </tr>\n",
       "    <tr>\n",
       "      <th>2</th>\n",
       "      <td>0.00000</td>\n",
       "      <td>2474.433905</td>\n",
       "      <td>0.754743</td>\n",
       "      <td>0.00000</td>\n",
       "      <td>2472.892613</td>\n",
       "      <td>0x0e003fd28cf7b9aa3fc2f928803bbc9aac3bf89b1d87...</td>\n",
       "      <td>289</td>\n",
       "      <td>0xdef1c0ded9bec7f1a1670819833240f027b25eff</td>\n",
       "      <td>1633158532</td>\n",
       "      <td>0xd59c7ee3bd7f9acf17bfa5bad059ae2ec4eee8f6</td>\n",
       "      <td>0x397ff1542f962076d0bfe58ea045ffa2d347aca0</td>\n",
       "      <td>USDC-WETH</td>\n",
       "      <td>0x0e003fd28cf7b9aa3fc2f928803bbc9aac3bf89b1d87...</td>\n",
       "      <td>SWAP</td>\n",
       "    </tr>\n",
       "    <tr>\n",
       "      <th>3</th>\n",
       "      <td>0.00000</td>\n",
       "      <td>12256.352808</td>\n",
       "      <td>3.738678</td>\n",
       "      <td>0.00000</td>\n",
       "      <td>12250.440134</td>\n",
       "      <td>0x9b9bc6aaece3fc02c558d6cbaacae49f6f02e16bcaf9...</td>\n",
       "      <td>229</td>\n",
       "      <td>0xd9e1ce17f2641f24ae83637ab66a2cca9c378b9f</td>\n",
       "      <td>1633158581</td>\n",
       "      <td>0x64d0bd7620714439ea7a59eeb63d775cfc0449e1</td>\n",
       "      <td>0x397ff1542f962076d0bfe58ea045ffa2d347aca0</td>\n",
       "      <td>USDC-WETH</td>\n",
       "      <td>0x9b9bc6aaece3fc02c558d6cbaacae49f6f02e16bcaf9...</td>\n",
       "      <td>SWAP</td>\n",
       "    </tr>\n",
       "    <tr>\n",
       "      <th>4</th>\n",
       "      <td>0.00000</td>\n",
       "      <td>140.422751</td>\n",
       "      <td>0.042837</td>\n",
       "      <td>0.00000</td>\n",
       "      <td>140.363962</td>\n",
       "      <td>0x0a05c0f953fbf14efb9737bb626cd5ae4c0b2f91751b...</td>\n",
       "      <td>370</td>\n",
       "      <td>0xd9e1ce17f2641f24ae83637ab66a2cca9c378b9f</td>\n",
       "      <td>1633158621</td>\n",
       "      <td>0xbbbdb106a806173d1eea1640961533ff3114d69a</td>\n",
       "      <td>0x397ff1542f962076d0bfe58ea045ffa2d347aca0</td>\n",
       "      <td>USDC-WETH</td>\n",
       "      <td>0x0a05c0f953fbf14efb9737bb626cd5ae4c0b2f91751b...</td>\n",
       "      <td>SWAP</td>\n",
       "    </tr>\n",
       "  </tbody>\n",
       "</table>\n",
       "</div>"
      ],
      "text/plain": [
       "    amount0In    amount0Out  amount1In  amount1Out     amountUSD  \\\n",
       "0     0.00000    655.691167   0.200000     0.00000    655.739105   \n",
       "1  3187.37127      0.000000   0.000000     0.96638   3178.416336   \n",
       "2     0.00000   2474.433905   0.754743     0.00000   2472.892613   \n",
       "3     0.00000  12256.352808   3.738678     0.00000  12250.440134   \n",
       "4     0.00000    140.422751   0.042837     0.00000    140.363962   \n",
       "\n",
       "                                                  id  logIndex  \\\n",
       "0  0x4d8ef545d36dde6624bcdfdb456f86dcff62ada993c5...        29   \n",
       "1  0x8588d600669d558b7f0d01497b4b0d7d52ed68bd6a3a...       233   \n",
       "2  0x0e003fd28cf7b9aa3fc2f928803bbc9aac3bf89b1d87...       289   \n",
       "3  0x9b9bc6aaece3fc02c558d6cbaacae49f6f02e16bcaf9...       229   \n",
       "4  0x0a05c0f953fbf14efb9737bb626cd5ae4c0b2f91751b...       370   \n",
       "\n",
       "                                       sender   timestamp  \\\n",
       "0  0xf9234cb08edb93c0d4a4d4c70cc3ffd070e78e07  1633158467   \n",
       "1  0xd9e1ce17f2641f24ae83637ab66a2cca9c378b9f  1633158512   \n",
       "2  0xdef1c0ded9bec7f1a1670819833240f027b25eff  1633158532   \n",
       "3  0xd9e1ce17f2641f24ae83637ab66a2cca9c378b9f  1633158581   \n",
       "4  0xd9e1ce17f2641f24ae83637ab66a2cca9c378b9f  1633158621   \n",
       "\n",
       "                                           to  \\\n",
       "0  0x2711569d80dfb93d41016fc0362a9be6e07de24f   \n",
       "1  0x06da0fd433c1a5d7a4faa01111c044910a184553   \n",
       "2  0xd59c7ee3bd7f9acf17bfa5bad059ae2ec4eee8f6   \n",
       "3  0x64d0bd7620714439ea7a59eeb63d775cfc0449e1   \n",
       "4  0xbbbdb106a806173d1eea1640961533ff3114d69a   \n",
       "\n",
       "                                      pair.id  pair.name  \\\n",
       "0  0x397ff1542f962076d0bfe58ea045ffa2d347aca0  USDC-WETH   \n",
       "1  0x397ff1542f962076d0bfe58ea045ffa2d347aca0  USDC-WETH   \n",
       "2  0x397ff1542f962076d0bfe58ea045ffa2d347aca0  USDC-WETH   \n",
       "3  0x397ff1542f962076d0bfe58ea045ffa2d347aca0  USDC-WETH   \n",
       "4  0x397ff1542f962076d0bfe58ea045ffa2d347aca0  USDC-WETH   \n",
       "\n",
       "                                      transaction.id action_name  \n",
       "0  0x4d8ef545d36dde6624bcdfdb456f86dcff62ada993c5...        SWAP  \n",
       "1  0x8588d600669d558b7f0d01497b4b0d7d52ed68bd6a3a...        SWAP  \n",
       "2  0x0e003fd28cf7b9aa3fc2f928803bbc9aac3bf89b1d87...        SWAP  \n",
       "3  0x9b9bc6aaece3fc02c558d6cbaacae49f6f02e16bcaf9...        SWAP  \n",
       "4  0x0a05c0f953fbf14efb9737bb626cd5ae4c0b2f91751b...        SWAP  "
      ]
     },
     "execution_count": 5,
     "metadata": {},
     "output_type": "execute_result"
    }
   ],
   "source": [
    "swaps = pd.concat(map(pd.read_csv, glob.glob('/Users/samantha/MATH446/MATH446_project/sushiswap_data/sushi_swaps/*.csv')))\n",
    "swaps['action_name'] = 'SWAP'\n",
    "swaps.head()"
   ]
  },
  {
   "cell_type": "markdown",
   "id": "cb31ffab",
   "metadata": {},
   "source": [
    "### Concatenate Burns, Mints, and Swaps into one large dataframe"
   ]
  },
  {
   "cell_type": "code",
   "execution_count": 6,
   "id": "1b36aa47",
   "metadata": {},
   "outputs": [
    {
     "data": {
      "text/html": [
       "<div>\n",
       "<style scoped>\n",
       "    .dataframe tbody tr th:only-of-type {\n",
       "        vertical-align: middle;\n",
       "    }\n",
       "\n",
       "    .dataframe tbody tr th {\n",
       "        vertical-align: top;\n",
       "    }\n",
       "\n",
       "    .dataframe thead th {\n",
       "        text-align: right;\n",
       "    }\n",
       "</style>\n",
       "<table border=\"1\" class=\"dataframe\">\n",
       "  <thead>\n",
       "    <tr style=\"text-align: right;\">\n",
       "      <th></th>\n",
       "      <th>amount0</th>\n",
       "      <th>amount1</th>\n",
       "      <th>amountUSD</th>\n",
       "      <th>complete</th>\n",
       "      <th>feeLiquidity</th>\n",
       "      <th>feeTo</th>\n",
       "      <th>id</th>\n",
       "      <th>liquidity</th>\n",
       "      <th>logIndex</th>\n",
       "      <th>sender</th>\n",
       "      <th>timestamp</th>\n",
       "      <th>to</th>\n",
       "      <th>pair.id</th>\n",
       "      <th>pair.name</th>\n",
       "      <th>transaction.id</th>\n",
       "      <th>action_name</th>\n",
       "      <th>amount0In</th>\n",
       "      <th>amount0Out</th>\n",
       "      <th>amount1In</th>\n",
       "      <th>amount1Out</th>\n",
       "    </tr>\n",
       "  </thead>\n",
       "  <tbody>\n",
       "    <tr>\n",
       "      <th>0</th>\n",
       "      <td>NaN</td>\n",
       "      <td>NaN</td>\n",
       "      <td>5491.167901</td>\n",
       "      <td>NaN</td>\n",
       "      <td>NaN</td>\n",
       "      <td>NaN</td>\n",
       "      <td>0xe2795bffac25dc445729a551b113fd2593bd05366a38...</td>\n",
       "      <td>NaN</td>\n",
       "      <td>7</td>\n",
       "      <td>0xd9e1ce17f2641f24ae83637ab66a2cca9c378b9f</td>\n",
       "      <td>1599721625</td>\n",
       "      <td>0x702851277acff6745d4c600ff38d3b0f517bc970</td>\n",
       "      <td>0x397ff1542f962076d0bfe58ea045ffa2d347aca0</td>\n",
       "      <td>USDC-WETH</td>\n",
       "      <td>0xe2795bffac25dc445729a551b113fd2593bd05366a38...</td>\n",
       "      <td>SWAP</td>\n",
       "      <td>0.00000</td>\n",
       "      <td>5519.604847</td>\n",
       "      <td>15.000000</td>\n",
       "      <td>0.000000</td>\n",
       "    </tr>\n",
       "    <tr>\n",
       "      <th>1</th>\n",
       "      <td>NaN</td>\n",
       "      <td>NaN</td>\n",
       "      <td>9052.049171</td>\n",
       "      <td>NaN</td>\n",
       "      <td>NaN</td>\n",
       "      <td>NaN</td>\n",
       "      <td>0x98ad2ce4e852e71f078bf094389d65b13dcae781bac1...</td>\n",
       "      <td>NaN</td>\n",
       "      <td>49</td>\n",
       "      <td>0x850e8f0e5b83750b1881bf5b50d37f1c73f4aeaf</td>\n",
       "      <td>1599721757</td>\n",
       "      <td>0x850e8f0e5b83750b1881bf5b50d37f1c73f4aeaf</td>\n",
       "      <td>0x397ff1542f962076d0bfe58ea045ffa2d347aca0</td>\n",
       "      <td>USDC-WETH</td>\n",
       "      <td>0x98ad2ce4e852e71f078bf094389d65b13dcae781bac1...</td>\n",
       "      <td>SWAP</td>\n",
       "      <td>0.00000</td>\n",
       "      <td>9104.348748</td>\n",
       "      <td>24.745000</td>\n",
       "      <td>0.000000</td>\n",
       "    </tr>\n",
       "    <tr>\n",
       "      <th>0</th>\n",
       "      <td>5453.846114</td>\n",
       "      <td>14.779887</td>\n",
       "      <td>10828.877678</td>\n",
       "      <td>NaN</td>\n",
       "      <td>NaN</td>\n",
       "      <td>NaN</td>\n",
       "      <td>0x52bcbdf36c0be477bd2969c448db91ff31f12ece30ac...</td>\n",
       "      <td>0.000001</td>\n",
       "      <td>52</td>\n",
       "      <td>0xd9e1ce17f2641f24ae83637ab66a2cca9c378b9f</td>\n",
       "      <td>1599721820</td>\n",
       "      <td>0x54844afe358ca98e4d09aae869f25bfe072e1b1a</td>\n",
       "      <td>0x397ff1542f962076d0bfe58ea045ffa2d347aca0</td>\n",
       "      <td>USDC-WETH</td>\n",
       "      <td>0x52bcbdf36c0be477bd2969c448db91ff31f12ece30ac...</td>\n",
       "      <td>MINT</td>\n",
       "      <td>NaN</td>\n",
       "      <td>NaN</td>\n",
       "      <td>NaN</td>\n",
       "      <td>NaN</td>\n",
       "    </tr>\n",
       "    <tr>\n",
       "      <th>2</th>\n",
       "      <td>NaN</td>\n",
       "      <td>NaN</td>\n",
       "      <td>6764.014394</td>\n",
       "      <td>NaN</td>\n",
       "      <td>NaN</td>\n",
       "      <td>NaN</td>\n",
       "      <td>0x8607e89c83a2f5d88e06ed22540244362ac3e4327ac2...</td>\n",
       "      <td>NaN</td>\n",
       "      <td>108</td>\n",
       "      <td>0xd9e1ce17f2641f24ae83637ab66a2cca9c378b9f</td>\n",
       "      <td>1599721867</td>\n",
       "      <td>0xd29537bdc04c589a743e004f966bc14106f7d05d</td>\n",
       "      <td>0x397ff1542f962076d0bfe58ea045ffa2d347aca0</td>\n",
       "      <td>USDC-WETH</td>\n",
       "      <td>0x8607e89c83a2f5d88e06ed22540244362ac3e4327ac2...</td>\n",
       "      <td>SWAP</td>\n",
       "      <td>0.00000</td>\n",
       "      <td>6802.704066</td>\n",
       "      <td>18.491849</td>\n",
       "      <td>0.000000</td>\n",
       "    </tr>\n",
       "    <tr>\n",
       "      <th>3</th>\n",
       "      <td>NaN</td>\n",
       "      <td>NaN</td>\n",
       "      <td>59428.297491</td>\n",
       "      <td>NaN</td>\n",
       "      <td>NaN</td>\n",
       "      <td>NaN</td>\n",
       "      <td>0xbfa95ea7d45747fdcbf3cadca19b7f3aeae1f124b031...</td>\n",
       "      <td>NaN</td>\n",
       "      <td>69</td>\n",
       "      <td>0xd9e1ce17f2641f24ae83637ab66a2cca9c378b9f</td>\n",
       "      <td>1599721929</td>\n",
       "      <td>0x06da0fd433c1a5d7a4faa01111c044910a184553</td>\n",
       "      <td>0x397ff1542f962076d0bfe58ea045ffa2d347aca0</td>\n",
       "      <td>USDC-WETH</td>\n",
       "      <td>0xbfa95ea7d45747fdcbf3cadca19b7f3aeae1f124b031...</td>\n",
       "      <td>SWAP</td>\n",
       "      <td>59971.20692</td>\n",
       "      <td>0.000000</td>\n",
       "      <td>0.000000</td>\n",
       "      <td>161.968976</td>\n",
       "    </tr>\n",
       "  </tbody>\n",
       "</table>\n",
       "</div>"
      ],
      "text/plain": [
       "       amount0    amount1     amountUSD complete  feeLiquidity feeTo  \\\n",
       "0          NaN        NaN   5491.167901      NaN           NaN   NaN   \n",
       "1          NaN        NaN   9052.049171      NaN           NaN   NaN   \n",
       "0  5453.846114  14.779887  10828.877678      NaN           NaN   NaN   \n",
       "2          NaN        NaN   6764.014394      NaN           NaN   NaN   \n",
       "3          NaN        NaN  59428.297491      NaN           NaN   NaN   \n",
       "\n",
       "                                                  id  liquidity  logIndex  \\\n",
       "0  0xe2795bffac25dc445729a551b113fd2593bd05366a38...        NaN         7   \n",
       "1  0x98ad2ce4e852e71f078bf094389d65b13dcae781bac1...        NaN        49   \n",
       "0  0x52bcbdf36c0be477bd2969c448db91ff31f12ece30ac...   0.000001        52   \n",
       "2  0x8607e89c83a2f5d88e06ed22540244362ac3e4327ac2...        NaN       108   \n",
       "3  0xbfa95ea7d45747fdcbf3cadca19b7f3aeae1f124b031...        NaN        69   \n",
       "\n",
       "                                       sender   timestamp  \\\n",
       "0  0xd9e1ce17f2641f24ae83637ab66a2cca9c378b9f  1599721625   \n",
       "1  0x850e8f0e5b83750b1881bf5b50d37f1c73f4aeaf  1599721757   \n",
       "0  0xd9e1ce17f2641f24ae83637ab66a2cca9c378b9f  1599721820   \n",
       "2  0xd9e1ce17f2641f24ae83637ab66a2cca9c378b9f  1599721867   \n",
       "3  0xd9e1ce17f2641f24ae83637ab66a2cca9c378b9f  1599721929   \n",
       "\n",
       "                                           to  \\\n",
       "0  0x702851277acff6745d4c600ff38d3b0f517bc970   \n",
       "1  0x850e8f0e5b83750b1881bf5b50d37f1c73f4aeaf   \n",
       "0  0x54844afe358ca98e4d09aae869f25bfe072e1b1a   \n",
       "2  0xd29537bdc04c589a743e004f966bc14106f7d05d   \n",
       "3  0x06da0fd433c1a5d7a4faa01111c044910a184553   \n",
       "\n",
       "                                      pair.id  pair.name  \\\n",
       "0  0x397ff1542f962076d0bfe58ea045ffa2d347aca0  USDC-WETH   \n",
       "1  0x397ff1542f962076d0bfe58ea045ffa2d347aca0  USDC-WETH   \n",
       "0  0x397ff1542f962076d0bfe58ea045ffa2d347aca0  USDC-WETH   \n",
       "2  0x397ff1542f962076d0bfe58ea045ffa2d347aca0  USDC-WETH   \n",
       "3  0x397ff1542f962076d0bfe58ea045ffa2d347aca0  USDC-WETH   \n",
       "\n",
       "                                      transaction.id action_name    amount0In  \\\n",
       "0  0xe2795bffac25dc445729a551b113fd2593bd05366a38...        SWAP      0.00000   \n",
       "1  0x98ad2ce4e852e71f078bf094389d65b13dcae781bac1...        SWAP      0.00000   \n",
       "0  0x52bcbdf36c0be477bd2969c448db91ff31f12ece30ac...        MINT          NaN   \n",
       "2  0x8607e89c83a2f5d88e06ed22540244362ac3e4327ac2...        SWAP      0.00000   \n",
       "3  0xbfa95ea7d45747fdcbf3cadca19b7f3aeae1f124b031...        SWAP  59971.20692   \n",
       "\n",
       "    amount0Out  amount1In  amount1Out  \n",
       "0  5519.604847  15.000000    0.000000  \n",
       "1  9104.348748  24.745000    0.000000  \n",
       "0          NaN        NaN         NaN  \n",
       "2  6802.704066  18.491849    0.000000  \n",
       "3     0.000000   0.000000  161.968976  "
      ]
     },
     "execution_count": 6,
     "metadata": {},
     "output_type": "execute_result"
    }
   ],
   "source": [
    "all_data = pd.concat([burns, mints, swaps])\n",
    "all_data = all_data.sort_values(by='timestamp')\n",
    "all_data.head()"
   ]
  },
  {
   "cell_type": "markdown",
   "id": "5cd6e90f",
   "metadata": {},
   "source": [
    "### Convert datatypes"
   ]
  },
  {
   "cell_type": "code",
   "execution_count": 7,
   "id": "1bb0d604",
   "metadata": {},
   "outputs": [],
   "source": [
    "all_data['timestamp'] = pd.to_datetime(all_data['timestamp'],unit='s')"
   ]
  },
  {
   "cell_type": "markdown",
   "id": "e934fb7b",
   "metadata": {},
   "source": [
    "# Net Value vs. Holding"
   ]
  },
  {
   "cell_type": "markdown",
   "id": "787d1765",
   "metadata": {},
   "source": [
    "We isolate our data to only include wallet addresses that had 1 burn and 1 mint in the pool. Using this subset of our data, we calcualte their overall gain/loss in USDC to examine the relationship between time spent in pool and overall amount earned."
   ]
  },
  {
   "cell_type": "markdown",
   "id": "ef97d835",
   "metadata": {},
   "source": [
    "## Isolate data to only wallet addresses with 1 burn, 1 mint"
   ]
  },
  {
   "cell_type": "code",
   "execution_count": 17,
   "id": "61fc4b77",
   "metadata": {},
   "outputs": [],
   "source": [
    "mints = pd.concat(map(pd.read_csv, glob.glob('/Users/samantha/MATH446/MATH446_project/sushiswap_data/sushi_mints/*.csv')))\n",
    "mints['action_name'] = 'MINT'\n",
    "burns = pd.concat(map(pd.read_csv, glob.glob('/Users/samantha/MATH446/MATH446_project/sushiswap_data/sushi_burns/*.csv')))\n",
    "burns['action_name'] = 'BURN'"
   ]
  },
  {
   "cell_type": "code",
   "execution_count": 18,
   "id": "8033cad1",
   "metadata": {},
   "outputs": [
    {
     "data": {
      "text/html": [
       "<div>\n",
       "<style scoped>\n",
       "    .dataframe tbody tr th:only-of-type {\n",
       "        vertical-align: middle;\n",
       "    }\n",
       "\n",
       "    .dataframe tbody tr th {\n",
       "        vertical-align: top;\n",
       "    }\n",
       "\n",
       "    .dataframe thead th {\n",
       "        text-align: right;\n",
       "    }\n",
       "</style>\n",
       "<table border=\"1\" class=\"dataframe\">\n",
       "  <thead>\n",
       "    <tr style=\"text-align: right;\">\n",
       "      <th></th>\n",
       "      <th>amount0</th>\n",
       "      <th>amount1</th>\n",
       "      <th>amountUSD</th>\n",
       "      <th>complete</th>\n",
       "      <th>feeLiquidity</th>\n",
       "      <th>feeTo</th>\n",
       "      <th>id</th>\n",
       "      <th>liquidity</th>\n",
       "      <th>logIndex</th>\n",
       "      <th>sender</th>\n",
       "      <th>timestamp</th>\n",
       "      <th>to</th>\n",
       "      <th>pair.id</th>\n",
       "      <th>pair.name</th>\n",
       "      <th>transaction.id</th>\n",
       "      <th>action_name</th>\n",
       "    </tr>\n",
       "  </thead>\n",
       "  <tbody>\n",
       "    <tr>\n",
       "      <th>0</th>\n",
       "      <td>53.155600</td>\n",
       "      <td>0.016220</td>\n",
       "      <td>106.234666</td>\n",
       "      <td>False</td>\n",
       "      <td>9.017815e-10</td>\n",
       "      <td>0xe11fc0b43ab98eb91e9836129d1ee7c3bc95df50</td>\n",
       "      <td>0x936805cb4d012886f76dba41af99490bbfe58090c7d9...</td>\n",
       "      <td>6.391299e-07</td>\n",
       "      <td>18</td>\n",
       "      <td>0x3098cfaaba3795ab98dc2d5066ec4d2584ae7c68</td>\n",
       "      <td>1633164407</td>\n",
       "      <td>0x397ff1542f962076d0bfe58ea045ffa2d347aca0</td>\n",
       "      <td>0x397ff1542f962076d0bfe58ea045ffa2d347aca0</td>\n",
       "      <td>USDC-WETH</td>\n",
       "      <td>0x936805cb4d012886f76dba41af99490bbfe58090c7d9...</td>\n",
       "      <td>BURN</td>\n",
       "    </tr>\n",
       "    <tr>\n",
       "      <th>1</th>\n",
       "      <td>33429.997718</td>\n",
       "      <td>10.199557</td>\n",
       "      <td>66802.066085</td>\n",
       "      <td>False</td>\n",
       "      <td>8.739686e-08</td>\n",
       "      <td>0xe11fc0b43ab98eb91e9836129d1ee7c3bc95df50</td>\n",
       "      <td>0x40ae1f2ec9393cdf0c3dccbac0e280eba5ef0edef736...</td>\n",
       "      <td>4.019222e-04</td>\n",
       "      <td>16</td>\n",
       "      <td>0xe11fc0b43ab98eb91e9836129d1ee7c3bc95df50</td>\n",
       "      <td>1633164768</td>\n",
       "      <td>0x397ff1542f962076d0bfe58ea045ffa2d347aca0</td>\n",
       "      <td>0x397ff1542f962076d0bfe58ea045ffa2d347aca0</td>\n",
       "      <td>USDC-WETH</td>\n",
       "      <td>0x40ae1f2ec9393cdf0c3dccbac0e280eba5ef0edef736...</td>\n",
       "      <td>BURN</td>\n",
       "    </tr>\n",
       "    <tr>\n",
       "      <th>2</th>\n",
       "      <td>34128.894884</td>\n",
       "      <td>10.396624</td>\n",
       "      <td>68332.121333</td>\n",
       "      <td>False</td>\n",
       "      <td>6.024975e-07</td>\n",
       "      <td>0xe11fc0b43ab98eb91e9836129d1ee7c3bc95df50</td>\n",
       "      <td>0x692c11b5a88bafe38e33ed53c9d69f2e654546c1c56a...</td>\n",
       "      <td>4.100051e-04</td>\n",
       "      <td>46</td>\n",
       "      <td>0xa4cf946befa8786a2fd37e7a05060552eb42be24</td>\n",
       "      <td>1633166187</td>\n",
       "      <td>0x397ff1542f962076d0bfe58ea045ffa2d347aca0</td>\n",
       "      <td>0x397ff1542f962076d0bfe58ea045ffa2d347aca0</td>\n",
       "      <td>USDC-WETH</td>\n",
       "      <td>0x692c11b5a88bafe38e33ed53c9d69f2e654546c1c56a...</td>\n",
       "      <td>BURN</td>\n",
       "    </tr>\n",
       "    <tr>\n",
       "      <th>3</th>\n",
       "      <td>33034.686899</td>\n",
       "      <td>10.005131</td>\n",
       "      <td>66068.754569</td>\n",
       "      <td>False</td>\n",
       "      <td>3.261846e-07</td>\n",
       "      <td>0xe11fc0b43ab98eb91e9836129d1ee7c3bc95df50</td>\n",
       "      <td>0x9278010f9e3f51c2a77bea1c4b3cfca76966d332e7e9...</td>\n",
       "      <td>3.957080e-04</td>\n",
       "      <td>211</td>\n",
       "      <td>0x098cb6b899659d6aa08a0f097c4a2bc23ce104e9</td>\n",
       "      <td>1633168107</td>\n",
       "      <td>0x397ff1542f962076d0bfe58ea045ffa2d347aca0</td>\n",
       "      <td>0x397ff1542f962076d0bfe58ea045ffa2d347aca0</td>\n",
       "      <td>USDC-WETH</td>\n",
       "      <td>0x9278010f9e3f51c2a77bea1c4b3cfca76966d332e7e9...</td>\n",
       "      <td>BURN</td>\n",
       "    </tr>\n",
       "    <tr>\n",
       "      <th>4</th>\n",
       "      <td>5096.180410</td>\n",
       "      <td>1.544994</td>\n",
       "      <td>10187.645674</td>\n",
       "      <td>False</td>\n",
       "      <td>3.082823e-07</td>\n",
       "      <td>0xe11fc0b43ab98eb91e9836129d1ee7c3bc95df50</td>\n",
       "      <td>0xd27d9569dabcff02c3e59b080d57acf31195ece647f3...</td>\n",
       "      <td>6.107424e-05</td>\n",
       "      <td>501</td>\n",
       "      <td>0xc2aaa920e4f0b49407007ff5a16d46e824c24b7b</td>\n",
       "      <td>1633178171</td>\n",
       "      <td>0x397ff1542f962076d0bfe58ea045ffa2d347aca0</td>\n",
       "      <td>0x397ff1542f962076d0bfe58ea045ffa2d347aca0</td>\n",
       "      <td>USDC-WETH</td>\n",
       "      <td>0xd27d9569dabcff02c3e59b080d57acf31195ece647f3...</td>\n",
       "      <td>BURN</td>\n",
       "    </tr>\n",
       "  </tbody>\n",
       "</table>\n",
       "</div>"
      ],
      "text/plain": [
       "        amount0    amount1     amountUSD complete  feeLiquidity  \\\n",
       "0     53.155600   0.016220    106.234666    False  9.017815e-10   \n",
       "1  33429.997718  10.199557  66802.066085    False  8.739686e-08   \n",
       "2  34128.894884  10.396624  68332.121333    False  6.024975e-07   \n",
       "3  33034.686899  10.005131  66068.754569    False  3.261846e-07   \n",
       "4   5096.180410   1.544994  10187.645674    False  3.082823e-07   \n",
       "\n",
       "                                        feeTo  \\\n",
       "0  0xe11fc0b43ab98eb91e9836129d1ee7c3bc95df50   \n",
       "1  0xe11fc0b43ab98eb91e9836129d1ee7c3bc95df50   \n",
       "2  0xe11fc0b43ab98eb91e9836129d1ee7c3bc95df50   \n",
       "3  0xe11fc0b43ab98eb91e9836129d1ee7c3bc95df50   \n",
       "4  0xe11fc0b43ab98eb91e9836129d1ee7c3bc95df50   \n",
       "\n",
       "                                                  id     liquidity  logIndex  \\\n",
       "0  0x936805cb4d012886f76dba41af99490bbfe58090c7d9...  6.391299e-07        18   \n",
       "1  0x40ae1f2ec9393cdf0c3dccbac0e280eba5ef0edef736...  4.019222e-04        16   \n",
       "2  0x692c11b5a88bafe38e33ed53c9d69f2e654546c1c56a...  4.100051e-04        46   \n",
       "3  0x9278010f9e3f51c2a77bea1c4b3cfca76966d332e7e9...  3.957080e-04       211   \n",
       "4  0xd27d9569dabcff02c3e59b080d57acf31195ece647f3...  6.107424e-05       501   \n",
       "\n",
       "                                       sender   timestamp  \\\n",
       "0  0x3098cfaaba3795ab98dc2d5066ec4d2584ae7c68  1633164407   \n",
       "1  0xe11fc0b43ab98eb91e9836129d1ee7c3bc95df50  1633164768   \n",
       "2  0xa4cf946befa8786a2fd37e7a05060552eb42be24  1633166187   \n",
       "3  0x098cb6b899659d6aa08a0f097c4a2bc23ce104e9  1633168107   \n",
       "4  0xc2aaa920e4f0b49407007ff5a16d46e824c24b7b  1633178171   \n",
       "\n",
       "                                           to  \\\n",
       "0  0x397ff1542f962076d0bfe58ea045ffa2d347aca0   \n",
       "1  0x397ff1542f962076d0bfe58ea045ffa2d347aca0   \n",
       "2  0x397ff1542f962076d0bfe58ea045ffa2d347aca0   \n",
       "3  0x397ff1542f962076d0bfe58ea045ffa2d347aca0   \n",
       "4  0x397ff1542f962076d0bfe58ea045ffa2d347aca0   \n",
       "\n",
       "                                      pair.id  pair.name  \\\n",
       "0  0x397ff1542f962076d0bfe58ea045ffa2d347aca0  USDC-WETH   \n",
       "1  0x397ff1542f962076d0bfe58ea045ffa2d347aca0  USDC-WETH   \n",
       "2  0x397ff1542f962076d0bfe58ea045ffa2d347aca0  USDC-WETH   \n",
       "3  0x397ff1542f962076d0bfe58ea045ffa2d347aca0  USDC-WETH   \n",
       "4  0x397ff1542f962076d0bfe58ea045ffa2d347aca0  USDC-WETH   \n",
       "\n",
       "                                      transaction.id action_name  \n",
       "0  0x936805cb4d012886f76dba41af99490bbfe58090c7d9...        BURN  \n",
       "1  0x40ae1f2ec9393cdf0c3dccbac0e280eba5ef0edef736...        BURN  \n",
       "2  0x692c11b5a88bafe38e33ed53c9d69f2e654546c1c56a...        BURN  \n",
       "3  0x9278010f9e3f51c2a77bea1c4b3cfca76966d332e7e9...        BURN  \n",
       "4  0xd27d9569dabcff02c3e59b080d57acf31195ece647f3...        BURN  "
      ]
     },
     "execution_count": 18,
     "metadata": {},
     "output_type": "execute_result"
    }
   ],
   "source": [
    "burnmint_only = pd.concat([burns, mints])\n",
    "burnmint_only.head()"
   ]
  },
  {
   "cell_type": "code",
   "execution_count": 19,
   "id": "dc9df362",
   "metadata": {
    "scrolled": false
   },
   "outputs": [
    {
     "data": {
      "text/html": [
       "<div>\n",
       "<style scoped>\n",
       "    .dataframe tbody tr th:only-of-type {\n",
       "        vertical-align: middle;\n",
       "    }\n",
       "\n",
       "    .dataframe tbody tr th {\n",
       "        vertical-align: top;\n",
       "    }\n",
       "\n",
       "    .dataframe thead th {\n",
       "        text-align: right;\n",
       "    }\n",
       "</style>\n",
       "<table border=\"1\" class=\"dataframe\">\n",
       "  <thead>\n",
       "    <tr style=\"text-align: right;\">\n",
       "      <th></th>\n",
       "      <th>total_burns</th>\n",
       "    </tr>\n",
       "    <tr>\n",
       "      <th>wallet_address</th>\n",
       "      <th></th>\n",
       "    </tr>\n",
       "  </thead>\n",
       "  <tbody>\n",
       "    <tr>\n",
       "      <th>0x0000000000000d9054f605ca65a2647c2b521422</th>\n",
       "      <td>1.0</td>\n",
       "    </tr>\n",
       "    <tr>\n",
       "      <th>0x0000000000007f150bd6f54c40a34d7c3d5e9f56</th>\n",
       "      <td>9.0</td>\n",
       "    </tr>\n",
       "    <tr>\n",
       "      <th>0x0000021e9fb06e0a6cb1c238548d140b0dc258c7</th>\n",
       "      <td>1.0</td>\n",
       "    </tr>\n",
       "    <tr>\n",
       "      <th>0x000006eee6e39015cb523aebdd4d0b1855aba682</th>\n",
       "      <td>1.0</td>\n",
       "    </tr>\n",
       "    <tr>\n",
       "      <th>0x000f75539c2bc3941e4a29acb1d9a8254eff427f</th>\n",
       "      <td>1.0</td>\n",
       "    </tr>\n",
       "  </tbody>\n",
       "</table>\n",
       "</div>"
      ],
      "text/plain": [
       "                                            total_burns\n",
       "wallet_address                                         \n",
       "0x0000000000000d9054f605ca65a2647c2b521422          1.0\n",
       "0x0000000000007f150bd6f54c40a34d7c3d5e9f56          9.0\n",
       "0x0000021e9fb06e0a6cb1c238548d140b0dc258c7          1.0\n",
       "0x000006eee6e39015cb523aebdd4d0b1855aba682          1.0\n",
       "0x000f75539c2bc3941e4a29acb1d9a8254eff427f          1.0"
      ]
     },
     "execution_count": 19,
     "metadata": {},
     "output_type": "execute_result"
    }
   ],
   "source": [
    "by_wallet_sender = burnmint_only.groupby('sender').action_name.value_counts().unstack().reset_index()\n",
    "by_wallet_sender.columns = ['wallet_address', 'total_burns', 'total_mints']\n",
    "by_wallet_sender = by_wallet_sender.set_index('wallet_address', drop=True).drop(['total_mints'], axis=1)\n",
    "by_wallet_sender.head()"
   ]
  },
  {
   "cell_type": "code",
   "execution_count": 20,
   "id": "407f48e3",
   "metadata": {},
   "outputs": [
    {
     "data": {
      "text/html": [
       "<div>\n",
       "<style scoped>\n",
       "    .dataframe tbody tr th:only-of-type {\n",
       "        vertical-align: middle;\n",
       "    }\n",
       "\n",
       "    .dataframe tbody tr th {\n",
       "        vertical-align: top;\n",
       "    }\n",
       "\n",
       "    .dataframe thead th {\n",
       "        text-align: right;\n",
       "    }\n",
       "</style>\n",
       "<table border=\"1\" class=\"dataframe\">\n",
       "  <thead>\n",
       "    <tr style=\"text-align: right;\">\n",
       "      <th></th>\n",
       "      <th>total_mints</th>\n",
       "    </tr>\n",
       "    <tr>\n",
       "      <th>wallet_address</th>\n",
       "      <th></th>\n",
       "    </tr>\n",
       "  </thead>\n",
       "  <tbody>\n",
       "    <tr>\n",
       "      <th>0x005d64b3fedd6d53edf19142087d51c7ac6ba595</th>\n",
       "      <td>1.0</td>\n",
       "    </tr>\n",
       "    <tr>\n",
       "      <th>0x00a4481a861c428c489924e721f727f1587d0fd0</th>\n",
       "      <td>1.0</td>\n",
       "    </tr>\n",
       "    <tr>\n",
       "      <th>0x01f5a090daad0cdbaf33409da01687db0cbba353</th>\n",
       "      <td>1.0</td>\n",
       "    </tr>\n",
       "    <tr>\n",
       "      <th>0x01f908db631d558540372f6bbc51ef0afc7d7be3</th>\n",
       "      <td>1.0</td>\n",
       "    </tr>\n",
       "    <tr>\n",
       "      <th>0x029ce969b27513ad1868d74bebe59d82d5917e17</th>\n",
       "      <td>1.0</td>\n",
       "    </tr>\n",
       "  </tbody>\n",
       "</table>\n",
       "</div>"
      ],
      "text/plain": [
       "                                            total_mints\n",
       "wallet_address                                         \n",
       "0x005d64b3fedd6d53edf19142087d51c7ac6ba595          1.0\n",
       "0x00a4481a861c428c489924e721f727f1587d0fd0          1.0\n",
       "0x01f5a090daad0cdbaf33409da01687db0cbba353          1.0\n",
       "0x01f908db631d558540372f6bbc51ef0afc7d7be3          1.0\n",
       "0x029ce969b27513ad1868d74bebe59d82d5917e17          1.0"
      ]
     },
     "execution_count": 20,
     "metadata": {},
     "output_type": "execute_result"
    }
   ],
   "source": [
    "by_wallet_to = burnmint_only.groupby('to').action_name.value_counts().unstack().reset_index()\n",
    "by_wallet_to.columns = ['wallet_address', 'total_burns', 'total_mints']\n",
    "by_wallet_to = by_wallet_to.set_index('wallet_address', drop=True).drop(['total_burns'], axis=1)\n",
    "by_wallet_to.head()"
   ]
  },
  {
   "cell_type": "code",
   "execution_count": 21,
   "id": "a03b4001",
   "metadata": {},
   "outputs": [
    {
     "data": {
      "text/html": [
       "<div>\n",
       "<style scoped>\n",
       "    .dataframe tbody tr th:only-of-type {\n",
       "        vertical-align: middle;\n",
       "    }\n",
       "\n",
       "    .dataframe tbody tr th {\n",
       "        vertical-align: top;\n",
       "    }\n",
       "\n",
       "    .dataframe thead th {\n",
       "        text-align: right;\n",
       "    }\n",
       "</style>\n",
       "<table border=\"1\" class=\"dataframe\">\n",
       "  <thead>\n",
       "    <tr style=\"text-align: right;\">\n",
       "      <th></th>\n",
       "      <th>total_burns</th>\n",
       "      <th>total_mints</th>\n",
       "    </tr>\n",
       "    <tr>\n",
       "      <th>wallet_address</th>\n",
       "      <th></th>\n",
       "      <th></th>\n",
       "    </tr>\n",
       "  </thead>\n",
       "  <tbody>\n",
       "    <tr>\n",
       "      <th>0x0000000000000d9054f605ca65a2647c2b521422</th>\n",
       "      <td>1.0</td>\n",
       "      <td>NaN</td>\n",
       "    </tr>\n",
       "    <tr>\n",
       "      <th>0x0000000000007f150bd6f54c40a34d7c3d5e9f56</th>\n",
       "      <td>9.0</td>\n",
       "      <td>NaN</td>\n",
       "    </tr>\n",
       "    <tr>\n",
       "      <th>0x0000021e9fb06e0a6cb1c238548d140b0dc258c7</th>\n",
       "      <td>1.0</td>\n",
       "      <td>NaN</td>\n",
       "    </tr>\n",
       "    <tr>\n",
       "      <th>0x000006eee6e39015cb523aebdd4d0b1855aba682</th>\n",
       "      <td>1.0</td>\n",
       "      <td>NaN</td>\n",
       "    </tr>\n",
       "    <tr>\n",
       "      <th>0x000f75539c2bc3941e4a29acb1d9a8254eff427f</th>\n",
       "      <td>1.0</td>\n",
       "      <td>NaN</td>\n",
       "    </tr>\n",
       "  </tbody>\n",
       "</table>\n",
       "</div>"
      ],
      "text/plain": [
       "                                            total_burns  total_mints\n",
       "wallet_address                                                      \n",
       "0x0000000000000d9054f605ca65a2647c2b521422          1.0          NaN\n",
       "0x0000000000007f150bd6f54c40a34d7c3d5e9f56          9.0          NaN\n",
       "0x0000021e9fb06e0a6cb1c238548d140b0dc258c7          1.0          NaN\n",
       "0x000006eee6e39015cb523aebdd4d0b1855aba682          1.0          NaN\n",
       "0x000f75539c2bc3941e4a29acb1d9a8254eff427f          1.0          NaN"
      ]
     },
     "execution_count": 21,
     "metadata": {},
     "output_type": "execute_result"
    }
   ],
   "source": [
    "total_burns_mints = by_wallet_sender.merge(by_wallet_to, how='outer', left_index=True, right_index=True)\n",
    "total_burns_mints.head()"
   ]
  },
  {
   "cell_type": "code",
   "execution_count": 22,
   "id": "fc14bded",
   "metadata": {},
   "outputs": [
    {
     "data": {
      "text/html": [
       "<div>\n",
       "<style scoped>\n",
       "    .dataframe tbody tr th:only-of-type {\n",
       "        vertical-align: middle;\n",
       "    }\n",
       "\n",
       "    .dataframe tbody tr th {\n",
       "        vertical-align: top;\n",
       "    }\n",
       "\n",
       "    .dataframe thead th {\n",
       "        text-align: right;\n",
       "    }\n",
       "</style>\n",
       "<table border=\"1\" class=\"dataframe\">\n",
       "  <thead>\n",
       "    <tr style=\"text-align: right;\">\n",
       "      <th></th>\n",
       "      <th>wallet_address</th>\n",
       "      <th>total_burns</th>\n",
       "      <th>total_mints</th>\n",
       "    </tr>\n",
       "  </thead>\n",
       "  <tbody>\n",
       "    <tr>\n",
       "      <th>0</th>\n",
       "      <td>0x005d64b3fedd6d53edf19142087d51c7ac6ba595</td>\n",
       "      <td>1.0</td>\n",
       "      <td>1.0</td>\n",
       "    </tr>\n",
       "    <tr>\n",
       "      <th>1</th>\n",
       "      <td>0x01f908db631d558540372f6bbc51ef0afc7d7be3</td>\n",
       "      <td>1.0</td>\n",
       "      <td>1.0</td>\n",
       "    </tr>\n",
       "    <tr>\n",
       "      <th>2</th>\n",
       "      <td>0x029ce969b27513ad1868d74bebe59d82d5917e17</td>\n",
       "      <td>1.0</td>\n",
       "      <td>1.0</td>\n",
       "    </tr>\n",
       "    <tr>\n",
       "      <th>3</th>\n",
       "      <td>0x03086e6c6c6f446b05daeae62fe65eba1850e731</td>\n",
       "      <td>1.0</td>\n",
       "      <td>1.0</td>\n",
       "    </tr>\n",
       "    <tr>\n",
       "      <th>4</th>\n",
       "      <td>0x0337f1e4ef2a0835f68900e32746eb49d3d921d7</td>\n",
       "      <td>1.0</td>\n",
       "      <td>1.0</td>\n",
       "    </tr>\n",
       "  </tbody>\n",
       "</table>\n",
       "</div>"
      ],
      "text/plain": [
       "                               wallet_address  total_burns  total_mints\n",
       "0  0x005d64b3fedd6d53edf19142087d51c7ac6ba595          1.0          1.0\n",
       "1  0x01f908db631d558540372f6bbc51ef0afc7d7be3          1.0          1.0\n",
       "2  0x029ce969b27513ad1868d74bebe59d82d5917e17          1.0          1.0\n",
       "3  0x03086e6c6c6f446b05daeae62fe65eba1850e731          1.0          1.0\n",
       "4  0x0337f1e4ef2a0835f68900e32746eb49d3d921d7          1.0          1.0"
      ]
     },
     "execution_count": 22,
     "metadata": {},
     "output_type": "execute_result"
    }
   ],
   "source": [
    "oneburnonemint = total_burns_mints[(total_burns_mints['total_burns']==1) \n",
    "                  & (total_burns_mints['total_mints']==1)]\n",
    "oneburnonemint = oneburnonemint.reset_index()\n",
    "oneburnonemint.head()"
   ]
  },
  {
   "cell_type": "code",
   "execution_count": 23,
   "id": "950df941",
   "metadata": {},
   "outputs": [],
   "source": [
    "wallets_of_interest = oneburnonemint['wallet_address'].tolist()"
   ]
  },
  {
   "cell_type": "markdown",
   "id": "74e76ff3",
   "metadata": {},
   "source": [
    "## Gather all data for wallets of interest"
   ]
  },
  {
   "cell_type": "code",
   "execution_count": 24,
   "id": "b0680443",
   "metadata": {},
   "outputs": [],
   "source": [
    "mints_of_interest = all_data.loc[all_data['to'].isin(wallets_of_interest)]\n",
    "burns_of_interest = all_data.loc[all_data['sender'].isin(wallets_of_interest)]\n",
    "frames_int = [burns_of_interest,mints_of_interest] # this actually unintentionally gathered all swaps too for these wallets\n",
    "new_data = pd.concat(frames_int) # use same code from above to combine into one dataframe\n",
    "new_data = new_data.sort_index() # sort so we have chronological order instead of mints then burns\n",
    "new_data = new_data.reset_index() #gets rid of old index"
   ]
  },
  {
   "cell_type": "code",
   "execution_count": 25,
   "id": "299f3e81",
   "metadata": {},
   "outputs": [
    {
     "data": {
      "text/html": [
       "<div>\n",
       "<style scoped>\n",
       "    .dataframe tbody tr th:only-of-type {\n",
       "        vertical-align: middle;\n",
       "    }\n",
       "\n",
       "    .dataframe tbody tr th {\n",
       "        vertical-align: top;\n",
       "    }\n",
       "\n",
       "    .dataframe thead th {\n",
       "        text-align: right;\n",
       "    }\n",
       "</style>\n",
       "<table border=\"1\" class=\"dataframe\">\n",
       "  <thead>\n",
       "    <tr style=\"text-align: right;\">\n",
       "      <th></th>\n",
       "      <th>amount0</th>\n",
       "      <th>amount1</th>\n",
       "      <th>amountUSD</th>\n",
       "      <th>sender</th>\n",
       "      <th>timestamp</th>\n",
       "      <th>to</th>\n",
       "      <th>pair.id</th>\n",
       "      <th>pair.name</th>\n",
       "      <th>action_name</th>\n",
       "      <th>amount0In</th>\n",
       "      <th>amount0Out</th>\n",
       "      <th>amount1In</th>\n",
       "      <th>amount1Out</th>\n",
       "      <th>newly_added_usdc</th>\n",
       "      <th>newly_added_eth</th>\n",
       "      <th>eth_rate</th>\n",
       "    </tr>\n",
       "  </thead>\n",
       "  <tbody>\n",
       "    <tr>\n",
       "      <th>0</th>\n",
       "      <td>3312.980000</td>\n",
       "      <td>8.977265</td>\n",
       "      <td>6574.955985</td>\n",
       "      <td>0xd9e1ce17f2641f24ae83637ab66a2cca9c378b9f</td>\n",
       "      <td>2020-09-10 07:23:23</td>\n",
       "      <td>0x7bd141bd5384c42a9c929711ce5dba0a74dbac99</td>\n",
       "      <td>0x397ff1542f962076d0bfe58ea045ffa2d347aca0</td>\n",
       "      <td>USDC-WETH</td>\n",
       "      <td>MINT</td>\n",
       "      <td>0.0</td>\n",
       "      <td>0.0</td>\n",
       "      <td>0.0</td>\n",
       "      <td>0.0</td>\n",
       "      <td>3312.980000</td>\n",
       "      <td>8.977265</td>\n",
       "      <td>369.014817</td>\n",
       "    </tr>\n",
       "    <tr>\n",
       "      <th>1</th>\n",
       "      <td>809.859855</td>\n",
       "      <td>2.201034</td>\n",
       "      <td>1607.196655</td>\n",
       "      <td>0xd9e1ce17f2641f24ae83637ab66a2cca9c378b9f</td>\n",
       "      <td>2020-09-10 10:29:02</td>\n",
       "      <td>0xa0c044688d6a9505d8250bb0be07e2a12865cfef</td>\n",
       "      <td>0x397ff1542f962076d0bfe58ea045ffa2d347aca0</td>\n",
       "      <td>USDC-WETH</td>\n",
       "      <td>MINT</td>\n",
       "      <td>0.0</td>\n",
       "      <td>0.0</td>\n",
       "      <td>0.0</td>\n",
       "      <td>0.0</td>\n",
       "      <td>809.859855</td>\n",
       "      <td>2.201034</td>\n",
       "      <td>368.707855</td>\n",
       "    </tr>\n",
       "    <tr>\n",
       "      <th>2</th>\n",
       "      <td>446779.096772</td>\n",
       "      <td>1200.000000</td>\n",
       "      <td>885185.849138</td>\n",
       "      <td>0xd9e1ce17f2641f24ae83637ab66a2cca9c378b9f</td>\n",
       "      <td>2020-09-10 14:39:52</td>\n",
       "      <td>0x3ada347a2c817d4dae26535f817a4141bce34378</td>\n",
       "      <td>0x397ff1542f962076d0bfe58ea045ffa2d347aca0</td>\n",
       "      <td>USDC-WETH</td>\n",
       "      <td>MINT</td>\n",
       "      <td>0.0</td>\n",
       "      <td>0.0</td>\n",
       "      <td>0.0</td>\n",
       "      <td>0.0</td>\n",
       "      <td>446779.096772</td>\n",
       "      <td>1200.000000</td>\n",
       "      <td>369.905234</td>\n",
       "    </tr>\n",
       "    <tr>\n",
       "      <th>3</th>\n",
       "      <td>409.547505</td>\n",
       "      <td>1.100000</td>\n",
       "      <td>811.141200</td>\n",
       "      <td>0xd9e1ce17f2641f24ae83637ab66a2cca9c378b9f</td>\n",
       "      <td>2020-09-10 14:40:14</td>\n",
       "      <td>0x6addaa208ea7c6e413f0c514dc1ba7510390c500</td>\n",
       "      <td>0x397ff1542f962076d0bfe58ea045ffa2d347aca0</td>\n",
       "      <td>USDC-WETH</td>\n",
       "      <td>MINT</td>\n",
       "      <td>0.0</td>\n",
       "      <td>0.0</td>\n",
       "      <td>0.0</td>\n",
       "      <td>0.0</td>\n",
       "      <td>409.547505</td>\n",
       "      <td>1.100000</td>\n",
       "      <td>369.905237</td>\n",
       "    </tr>\n",
       "    <tr>\n",
       "      <th>4</th>\n",
       "      <td>20000.000000</td>\n",
       "      <td>53.746302</td>\n",
       "      <td>39612.152030</td>\n",
       "      <td>0xd9e1ce17f2641f24ae83637ab66a2cca9c378b9f</td>\n",
       "      <td>2020-09-10 14:45:27</td>\n",
       "      <td>0x432106a096c8d2afda1aa8199e408e8c10447e1a</td>\n",
       "      <td>0x397ff1542f962076d0bfe58ea045ffa2d347aca0</td>\n",
       "      <td>USDC-WETH</td>\n",
       "      <td>MINT</td>\n",
       "      <td>0.0</td>\n",
       "      <td>0.0</td>\n",
       "      <td>0.0</td>\n",
       "      <td>0.0</td>\n",
       "      <td>20000.000000</td>\n",
       "      <td>53.746302</td>\n",
       "      <td>369.851424</td>\n",
       "    </tr>\n",
       "  </tbody>\n",
       "</table>\n",
       "</div>"
      ],
      "text/plain": [
       "         amount0      amount1      amountUSD  \\\n",
       "0    3312.980000     8.977265    6574.955985   \n",
       "1     809.859855     2.201034    1607.196655   \n",
       "2  446779.096772  1200.000000  885185.849138   \n",
       "3     409.547505     1.100000     811.141200   \n",
       "4   20000.000000    53.746302   39612.152030   \n",
       "\n",
       "                                       sender           timestamp  \\\n",
       "0  0xd9e1ce17f2641f24ae83637ab66a2cca9c378b9f 2020-09-10 07:23:23   \n",
       "1  0xd9e1ce17f2641f24ae83637ab66a2cca9c378b9f 2020-09-10 10:29:02   \n",
       "2  0xd9e1ce17f2641f24ae83637ab66a2cca9c378b9f 2020-09-10 14:39:52   \n",
       "3  0xd9e1ce17f2641f24ae83637ab66a2cca9c378b9f 2020-09-10 14:40:14   \n",
       "4  0xd9e1ce17f2641f24ae83637ab66a2cca9c378b9f 2020-09-10 14:45:27   \n",
       "\n",
       "                                           to  \\\n",
       "0  0x7bd141bd5384c42a9c929711ce5dba0a74dbac99   \n",
       "1  0xa0c044688d6a9505d8250bb0be07e2a12865cfef   \n",
       "2  0x3ada347a2c817d4dae26535f817a4141bce34378   \n",
       "3  0x6addaa208ea7c6e413f0c514dc1ba7510390c500   \n",
       "4  0x432106a096c8d2afda1aa8199e408e8c10447e1a   \n",
       "\n",
       "                                      pair.id  pair.name action_name  \\\n",
       "0  0x397ff1542f962076d0bfe58ea045ffa2d347aca0  USDC-WETH        MINT   \n",
       "1  0x397ff1542f962076d0bfe58ea045ffa2d347aca0  USDC-WETH        MINT   \n",
       "2  0x397ff1542f962076d0bfe58ea045ffa2d347aca0  USDC-WETH        MINT   \n",
       "3  0x397ff1542f962076d0bfe58ea045ffa2d347aca0  USDC-WETH        MINT   \n",
       "4  0x397ff1542f962076d0bfe58ea045ffa2d347aca0  USDC-WETH        MINT   \n",
       "\n",
       "   amount0In  amount0Out  amount1In  amount1Out  newly_added_usdc  \\\n",
       "0        0.0         0.0        0.0         0.0       3312.980000   \n",
       "1        0.0         0.0        0.0         0.0        809.859855   \n",
       "2        0.0         0.0        0.0         0.0     446779.096772   \n",
       "3        0.0         0.0        0.0         0.0        409.547505   \n",
       "4        0.0         0.0        0.0         0.0      20000.000000   \n",
       "\n",
       "   newly_added_eth    eth_rate  \n",
       "0         8.977265  369.014817  \n",
       "1         2.201034  368.707855  \n",
       "2      1200.000000  369.905234  \n",
       "3         1.100000  369.905237  \n",
       "4        53.746302  369.851424  "
      ]
     },
     "execution_count": 25,
     "metadata": {},
     "output_type": "execute_result"
    }
   ],
   "source": [
    "burn_mints = new_data[new_data['action_name'] != 'SWAP'] # get rid of swaps\n",
    "burn_mints = burn_mints.drop(['level_0', 'liquidity', 'index', 'complete', 'feeLiquidity', 'feeTo', 'id', 'logIndex', 'transaction.id', 'cum_sum_usdc', 'cum_sum_eth', 'personal_perc'], axis=1)\n",
    "burn_mints = burn_mints.reset_index(drop=True)\n",
    "burn_mints.head()"
   ]
  },
  {
   "cell_type": "markdown",
   "id": "e52568a1",
   "metadata": {},
   "source": [
    "We used this for loop to gather the data from new_data (which is grouped by transaction) into our dataframe that has information about the wallets. By generating lists for all the relevant data, and then appending it to the wallets_of_interest dataframe, we are able to have all relevant data in one place, based on wallet address. "
   ]
  },
  {
   "cell_type": "code",
   "execution_count": 26,
   "id": "8d8b56d0",
   "metadata": {},
   "outputs": [],
   "source": [
    "# calculate the time in pool & actual gains\n",
    "time_in_pool = []\n",
    "actual_gains = []\n",
    "burn_times = []\n",
    "mint_times = []\n",
    "mint_amount_eth = []\n",
    "mint_amount_usdc = []\n",
    "burn_amount_eth = []\n",
    "burn_amount_usdc = []\n",
    "for wallet in wallets_of_interest:\n",
    "    for i in range(len(burn_mints)):\n",
    "        if burn_mints['action_name'][i] != 'SWAP':\n",
    "            if burn_mints['sender'][i] == wallet:\n",
    "                burn_time = burn_mints['timestamp'][i]\n",
    "                amount_out = burn_mints['amountUSD'][i]\n",
    "                burn_times.append(burn_time)  \n",
    "                eth_burned = - burn_mints['newly_added_eth'][i]\n",
    "                burn_amount_eth.append(eth_burned)\n",
    "                usdc_burned = - burn_mints['newly_added_usdc'][i]\n",
    "                burn_amount_usdc.append(usdc_burned)\n",
    "            elif burn_mints['to'][i] == wallet:\n",
    "                mint_time = burn_mints['timestamp'][i]\n",
    "                amount_in = burn_mints['amountUSD'][i]\n",
    "                mint_times.append(mint_time)\n",
    "                eth_minted = burn_mints['newly_added_eth'][i]\n",
    "                mint_amount_eth.append(eth_minted)\n",
    "                usdc_minted = burn_mints['newly_added_usdc'][i]\n",
    "                mint_amount_usdc.append(usdc_minted)\n",
    "    time_stayed = burn_time - mint_time\n",
    "    time_in_pool.append(time_stayed)   \n",
    "    actual_gain = amount_out - amount_in\n",
    "    actual_gains.append(actual_gain)"
   ]
  },
  {
   "cell_type": "code",
   "execution_count": 27,
   "id": "8e2cd751",
   "metadata": {
    "scrolled": true
   },
   "outputs": [],
   "source": [
    "oneburnonemint['time_in_pool'] = time_in_pool\n",
    "oneburnonemint['actual_gain'] = actual_gains\n",
    "oneburnonemint['mint_time'] = mint_times\n",
    "oneburnonemint['burn_time'] = burn_times\n",
    "oneburnonemint['eth_minted'] = mint_amount_eth\n",
    "oneburnonemint['usdc_minted'] = mint_amount_usdc\n",
    "oneburnonemint['eth_burned'] = burn_amount_eth\n",
    "oneburnonemint['usdc_burned'] = burn_amount_usdc"
   ]
  },
  {
   "cell_type": "markdown",
   "id": "315a72b7",
   "metadata": {},
   "source": [
    "Little bit of cleaning. We got negative amounts of time for 6 wallets, which would only be possible if some data were missing and they had more than 1 burn and/or mint in reality. "
   ]
  },
  {
   "cell_type": "code",
   "execution_count": 28,
   "id": "acebaa54",
   "metadata": {},
   "outputs": [
    {
     "data": {
      "text/html": [
       "<div>\n",
       "<style scoped>\n",
       "    .dataframe tbody tr th:only-of-type {\n",
       "        vertical-align: middle;\n",
       "    }\n",
       "\n",
       "    .dataframe tbody tr th {\n",
       "        vertical-align: top;\n",
       "    }\n",
       "\n",
       "    .dataframe thead th {\n",
       "        text-align: right;\n",
       "    }\n",
       "</style>\n",
       "<table border=\"1\" class=\"dataframe\">\n",
       "  <thead>\n",
       "    <tr style=\"text-align: right;\">\n",
       "      <th></th>\n",
       "      <th>wallet_address</th>\n",
       "      <th>total_burns</th>\n",
       "      <th>total_mints</th>\n",
       "      <th>time_in_pool</th>\n",
       "      <th>actual_gain</th>\n",
       "      <th>mint_time</th>\n",
       "      <th>burn_time</th>\n",
       "      <th>eth_minted</th>\n",
       "      <th>usdc_minted</th>\n",
       "      <th>eth_burned</th>\n",
       "      <th>usdc_burned</th>\n",
       "    </tr>\n",
       "  </thead>\n",
       "  <tbody>\n",
       "    <tr>\n",
       "      <th>0</th>\n",
       "      <td>0x005d64b3fedd6d53edf19142087d51c7ac6ba595</td>\n",
       "      <td>1.0</td>\n",
       "      <td>1.0</td>\n",
       "      <td>21 days 00:21:14</td>\n",
       "      <td>8727.888427</td>\n",
       "      <td>2021-03-15 18:28:23</td>\n",
       "      <td>2021-04-05 18:49:37</td>\n",
       "      <td>24.976903</td>\n",
       "      <td>44328.961122</td>\n",
       "      <td>23.154603</td>\n",
       "      <td>48629.035651</td>\n",
       "    </tr>\n",
       "    <tr>\n",
       "      <th>1</th>\n",
       "      <td>0x01f908db631d558540372f6bbc51ef0afc7d7be3</td>\n",
       "      <td>1.0</td>\n",
       "      <td>1.0</td>\n",
       "      <td>18 days 23:13:28</td>\n",
       "      <td>32263.201288</td>\n",
       "      <td>2021-03-15 18:41:21</td>\n",
       "      <td>2021-04-03 17:54:49</td>\n",
       "      <td>6.004405</td>\n",
       "      <td>10672.613397</td>\n",
       "      <td>13.155506</td>\n",
       "      <td>26796.573335</td>\n",
       "    </tr>\n",
       "    <tr>\n",
       "      <th>2</th>\n",
       "      <td>0x029ce969b27513ad1868d74bebe59d82d5917e17</td>\n",
       "      <td>1.0</td>\n",
       "      <td>1.0</td>\n",
       "      <td>13 days 21:01:17</td>\n",
       "      <td>8862.996540</td>\n",
       "      <td>2021-03-15 18:19:54</td>\n",
       "      <td>2021-03-29 15:21:11</td>\n",
       "      <td>300.000000</td>\n",
       "      <td>531107.179242</td>\n",
       "      <td>301.830800</td>\n",
       "      <td>534878.617463</td>\n",
       "    </tr>\n",
       "    <tr>\n",
       "      <th>3</th>\n",
       "      <td>0x03086e6c6c6f446b05daeae62fe65eba1850e731</td>\n",
       "      <td>1.0</td>\n",
       "      <td>1.0</td>\n",
       "      <td>6 days 20:47:11</td>\n",
       "      <td>-5370.129147</td>\n",
       "      <td>2020-09-15 06:05:57</td>\n",
       "      <td>2020-09-22 02:53:08</td>\n",
       "      <td>274.955417</td>\n",
       "      <td>103062.834106</td>\n",
       "      <td>289.760290</td>\n",
       "      <td>99079.314746</td>\n",
       "    </tr>\n",
       "    <tr>\n",
       "      <th>4</th>\n",
       "      <td>0x0337f1e4ef2a0835f68900e32746eb49d3d921d7</td>\n",
       "      <td>1.0</td>\n",
       "      <td>1.0</td>\n",
       "      <td>70 days 17:47:37</td>\n",
       "      <td>397.366969</td>\n",
       "      <td>2021-03-16 17:51:52</td>\n",
       "      <td>2021-05-26 11:39:29</td>\n",
       "      <td>0.288283</td>\n",
       "      <td>510.000000</td>\n",
       "      <td>0.251146</td>\n",
       "      <td>708.631503</td>\n",
       "    </tr>\n",
       "  </tbody>\n",
       "</table>\n",
       "</div>"
      ],
      "text/plain": [
       "                               wallet_address  total_burns  total_mints  \\\n",
       "0  0x005d64b3fedd6d53edf19142087d51c7ac6ba595          1.0          1.0   \n",
       "1  0x01f908db631d558540372f6bbc51ef0afc7d7be3          1.0          1.0   \n",
       "2  0x029ce969b27513ad1868d74bebe59d82d5917e17          1.0          1.0   \n",
       "3  0x03086e6c6c6f446b05daeae62fe65eba1850e731          1.0          1.0   \n",
       "4  0x0337f1e4ef2a0835f68900e32746eb49d3d921d7          1.0          1.0   \n",
       "\n",
       "      time_in_pool   actual_gain           mint_time           burn_time  \\\n",
       "0 21 days 00:21:14   8727.888427 2021-03-15 18:28:23 2021-04-05 18:49:37   \n",
       "1 18 days 23:13:28  32263.201288 2021-03-15 18:41:21 2021-04-03 17:54:49   \n",
       "2 13 days 21:01:17   8862.996540 2021-03-15 18:19:54 2021-03-29 15:21:11   \n",
       "3  6 days 20:47:11  -5370.129147 2020-09-15 06:05:57 2020-09-22 02:53:08   \n",
       "4 70 days 17:47:37    397.366969 2021-03-16 17:51:52 2021-05-26 11:39:29   \n",
       "\n",
       "   eth_minted    usdc_minted  eth_burned    usdc_burned  \n",
       "0   24.976903   44328.961122   23.154603   48629.035651  \n",
       "1    6.004405   10672.613397   13.155506   26796.573335  \n",
       "2  300.000000  531107.179242  301.830800  534878.617463  \n",
       "3  274.955417  103062.834106  289.760290   99079.314746  \n",
       "4    0.288283     510.000000    0.251146     708.631503  "
      ]
     },
     "execution_count": 28,
     "metadata": {},
     "output_type": "execute_result"
    }
   ],
   "source": [
    "oneburnonemint = oneburnonemint[oneburnonemint['time_in_pool'] > pd.Timedelta(0)] # got a negative amount of time for 6 wallets so we remove those\n",
    "oneburnonemint = oneburnonemint.reset_index(drop=True) # reset index with our remaining 282 wallets\n",
    "oneburnonemint.head()"
   ]
  },
  {
   "cell_type": "code",
   "execution_count": 29,
   "id": "c54ddd48",
   "metadata": {},
   "outputs": [],
   "source": [
    "# calculate the rate of eth when the mints and burns took place for each transaction\n",
    "oneburnonemint['eth_rate_mint'] = oneburnonemint['usdc_minted'] / oneburnonemint['eth_minted']\n",
    "oneburnonemint['eth_rate_burn'] = oneburnonemint['usdc_burned'] / oneburnonemint['eth_burned']"
   ]
  },
  {
   "cell_type": "markdown",
   "id": "500deca7",
   "metadata": {},
   "source": [
    "## Data Cleaning"
   ]
  },
  {
   "cell_type": "code",
   "execution_count": 30,
   "id": "298457b8",
   "metadata": {
    "scrolled": true
   },
   "outputs": [
    {
     "data": {
      "text/plain": [
       "wallet_address             object\n",
       "total_burns               float64\n",
       "total_mints               float64\n",
       "time_in_pool      timedelta64[ns]\n",
       "actual_gain               float64\n",
       "mint_time          datetime64[ns]\n",
       "burn_time          datetime64[ns]\n",
       "eth_minted                float64\n",
       "usdc_minted               float64\n",
       "eth_burned                float64\n",
       "usdc_burned               float64\n",
       "eth_rate_mint             float64\n",
       "eth_rate_burn             float64\n",
       "dtype: object"
      ]
     },
     "execution_count": 30,
     "metadata": {},
     "output_type": "execute_result"
    }
   ],
   "source": [
    "oneburnonemint.dtypes"
   ]
  },
  {
   "cell_type": "markdown",
   "id": "5fbf1fa9",
   "metadata": {},
   "source": [
    "Create another column of `time_in_pool` expressed in days in order to perform linear regression later on"
   ]
  },
  {
   "cell_type": "code",
   "execution_count": 31,
   "id": "a4849439",
   "metadata": {},
   "outputs": [],
   "source": [
    "oneburnonemint['time_in_pool_days'] = oneburnonemint['time_in_pool'] / pd.to_timedelta(1, unit='D')"
   ]
  },
  {
   "cell_type": "markdown",
   "id": "b82c3fc6",
   "metadata": {},
   "source": [
    "## Calculate Impermanent Loss"
   ]
  },
  {
   "cell_type": "markdown",
   "id": "76f5d4c5",
   "metadata": {},
   "source": [
    "Impermanent Loss = (value if held - value after providing liquidity) / value if held <br>\n",
    "Impermanent Loss = ((eth_minted * new_eth_rate + usdc_minted) - (eth_burned * new_eth_rate + usdc_burned)) / (eth_minted * new_eth_rate + usdc_minted)"
   ]
  },
  {
   "cell_type": "code",
   "execution_count": 32,
   "id": "973787b3",
   "metadata": {},
   "outputs": [],
   "source": [
    "oneburnonemint['impermanent_loss'] = ((oneburnonemint['eth_minted']*oneburnonemint['eth_rate_burn'] + oneburnonemint['usdc_minted']) - \\\n",
    "                                      (oneburnonemint['eth_burned']*oneburnonemint['eth_rate_burn'] + oneburnonemint['usdc_burned'])) / \\\n",
    "                                    (oneburnonemint['eth_minted']*oneburnonemint['eth_rate_burn'] + oneburnonemint['usdc_minted'])\n"
   ]
  },
  {
   "cell_type": "code",
   "execution_count": 33,
   "id": "48c0192c",
   "metadata": {},
   "outputs": [],
   "source": [
    "#calculated the hold value and liquidity value separately to double check our data\n",
    "oneburnonemint['hold_value'] = oneburnonemint['eth_minted']*oneburnonemint['eth_rate_burn'] + oneburnonemint['usdc_minted']\n",
    "oneburnonemint['liq_value'] = oneburnonemint['eth_burned']*oneburnonemint['eth_rate_burn'] + oneburnonemint['usdc_burned']"
   ]
  },
  {
   "cell_type": "code",
   "execution_count": 34,
   "id": "4e270ece",
   "metadata": {},
   "outputs": [
    {
     "data": {
      "text/plain": [
       "count    282.000000\n",
       "mean      -3.194850\n",
       "std       27.793975\n",
       "min     -324.529877\n",
       "25%       -0.007491\n",
       "50%       -0.000651\n",
       "75%       -0.000026\n",
       "max        0.400974\n",
       "Name: impermanent_loss, dtype: float64"
      ]
     },
     "execution_count": 34,
     "metadata": {},
     "output_type": "execute_result"
    }
   ],
   "source": [
    "oneburnonemint['impermanent_loss'].describe()"
   ]
  },
  {
   "cell_type": "markdown",
   "id": "e7504e49",
   "metadata": {},
   "source": [
    "Clearly not the result we were expecting. Impermanent loss should be positive because we are subtracting liquidity value from value if held. Even below, where we look at impermanent loss among wallets who burned less ETH than they minted, most of them made money. "
   ]
  },
  {
   "cell_type": "code",
   "execution_count": 35,
   "id": "b2cc86cf",
   "metadata": {},
   "outputs": [
    {
     "data": {
      "text/plain": [
       "count    164.000000\n",
       "mean       0.001763\n",
       "std        0.041202\n",
       "min       -0.103102\n",
       "25%       -0.004948\n",
       "50%       -0.000273\n",
       "75%       -0.000014\n",
       "max        0.400974\n",
       "Name: impermanent_loss, dtype: float64"
      ]
     },
     "execution_count": 35,
     "metadata": {},
     "output_type": "execute_result"
    }
   ],
   "source": [
    "oneburnonemint.loc[oneburnonemint['eth_burned'] \\\n",
    "                        < oneburnonemint['eth_minted']]['impermanent_loss'].describe()"
   ]
  },
  {
   "cell_type": "markdown",
   "id": "bc5a9db3",
   "metadata": {},
   "source": [
    "At this point, we realized that the BURN amounts also had the amount of fees that the liquidity provider had earned included. This means that when we see a negative number in our \"impermanent loss\" column, that indicates that the wallet address beat the market by providing liquidity. "
   ]
  },
  {
   "cell_type": "code",
   "execution_count": 36,
   "id": "65d62ccd",
   "metadata": {
    "scrolled": true
   },
   "outputs": [
    {
     "data": {
      "text/plain": [
       "41"
      ]
     },
     "execution_count": 36,
     "metadata": {},
     "output_type": "execute_result"
    }
   ],
   "source": [
    "len(oneburnonemint.loc[oneburnonemint['impermanent_loss'] > 0])"
   ]
  },
  {
   "cell_type": "markdown",
   "id": "ffae7a93",
   "metadata": {},
   "source": [
    "only 41 wallets lost money by providing liquidity"
   ]
  },
  {
   "cell_type": "markdown",
   "id": "cae8f3cd",
   "metadata": {},
   "source": [
    "## Calculate rate change"
   ]
  },
  {
   "cell_type": "code",
   "execution_count": 37,
   "id": "6532d034",
   "metadata": {},
   "outputs": [
    {
     "data": {
      "text/html": [
       "<div>\n",
       "<style scoped>\n",
       "    .dataframe tbody tr th:only-of-type {\n",
       "        vertical-align: middle;\n",
       "    }\n",
       "\n",
       "    .dataframe tbody tr th {\n",
       "        vertical-align: top;\n",
       "    }\n",
       "\n",
       "    .dataframe thead th {\n",
       "        text-align: right;\n",
       "    }\n",
       "</style>\n",
       "<table border=\"1\" class=\"dataframe\">\n",
       "  <thead>\n",
       "    <tr style=\"text-align: right;\">\n",
       "      <th></th>\n",
       "      <th>wallet_address</th>\n",
       "      <th>total_burns</th>\n",
       "      <th>total_mints</th>\n",
       "      <th>time_in_pool</th>\n",
       "      <th>actual_gain</th>\n",
       "      <th>mint_time</th>\n",
       "      <th>burn_time</th>\n",
       "      <th>eth_minted</th>\n",
       "      <th>usdc_minted</th>\n",
       "      <th>eth_burned</th>\n",
       "      <th>usdc_burned</th>\n",
       "      <th>eth_rate_mint</th>\n",
       "      <th>eth_rate_burn</th>\n",
       "      <th>time_in_pool_days</th>\n",
       "      <th>impermanent_loss</th>\n",
       "      <th>hold_value</th>\n",
       "      <th>liq_value</th>\n",
       "      <th>rate_change</th>\n",
       "    </tr>\n",
       "  </thead>\n",
       "  <tbody>\n",
       "    <tr>\n",
       "      <th>0</th>\n",
       "      <td>0x005d64b3fedd6d53edf19142087d51c7ac6ba595</td>\n",
       "      <td>1.0</td>\n",
       "      <td>1.0</td>\n",
       "      <td>21 days 00:21:14</td>\n",
       "      <td>8727.888427</td>\n",
       "      <td>2021-03-15 18:28:23</td>\n",
       "      <td>2021-04-05 18:49:37</td>\n",
       "      <td>24.976903</td>\n",
       "      <td>44328.961122</td>\n",
       "      <td>23.154603</td>\n",
       "      <td>48629.035651</td>\n",
       "      <td>1774.798115</td>\n",
       "      <td>2100.188671</td>\n",
       "      <td>21.014745</td>\n",
       "      <td>-0.004886</td>\n",
       "      <td>9.678517e+04</td>\n",
       "      <td>9.725807e+04</td>\n",
       "      <td>325.390556</td>\n",
       "    </tr>\n",
       "    <tr>\n",
       "      <th>1</th>\n",
       "      <td>0x01f908db631d558540372f6bbc51ef0afc7d7be3</td>\n",
       "      <td>1.0</td>\n",
       "      <td>1.0</td>\n",
       "      <td>18 days 23:13:28</td>\n",
       "      <td>32263.201288</td>\n",
       "      <td>2021-03-15 18:41:21</td>\n",
       "      <td>2021-04-03 17:54:49</td>\n",
       "      <td>6.004405</td>\n",
       "      <td>10672.613397</td>\n",
       "      <td>13.155506</td>\n",
       "      <td>26796.573335</td>\n",
       "      <td>1777.463818</td>\n",
       "      <td>2036.909381</td>\n",
       "      <td>18.967685</td>\n",
       "      <td>-1.340001</td>\n",
       "      <td>2.290304e+04</td>\n",
       "      <td>5.359315e+04</td>\n",
       "      <td>259.445563</td>\n",
       "    </tr>\n",
       "    <tr>\n",
       "      <th>2</th>\n",
       "      <td>0x029ce969b27513ad1868d74bebe59d82d5917e17</td>\n",
       "      <td>1.0</td>\n",
       "      <td>1.0</td>\n",
       "      <td>13 days 21:01:17</td>\n",
       "      <td>8862.996540</td>\n",
       "      <td>2021-03-15 18:19:54</td>\n",
       "      <td>2021-03-29 15:21:11</td>\n",
       "      <td>300.000000</td>\n",
       "      <td>531107.179242</td>\n",
       "      <td>301.830800</td>\n",
       "      <td>534878.617463</td>\n",
       "      <td>1770.357264</td>\n",
       "      <td>1772.114104</td>\n",
       "      <td>13.875891</td>\n",
       "      <td>-0.006602</td>\n",
       "      <td>1.062741e+06</td>\n",
       "      <td>1.069757e+06</td>\n",
       "      <td>1.756840</td>\n",
       "    </tr>\n",
       "    <tr>\n",
       "      <th>3</th>\n",
       "      <td>0x03086e6c6c6f446b05daeae62fe65eba1850e731</td>\n",
       "      <td>1.0</td>\n",
       "      <td>1.0</td>\n",
       "      <td>6 days 20:47:11</td>\n",
       "      <td>-5370.129147</td>\n",
       "      <td>2020-09-15 06:05:57</td>\n",
       "      <td>2020-09-22 02:53:08</td>\n",
       "      <td>274.955417</td>\n",
       "      <td>103062.834106</td>\n",
       "      <td>289.760290</td>\n",
       "      <td>99079.314746</td>\n",
       "      <td>374.834710</td>\n",
       "      <td>341.935449</td>\n",
       "      <td>6.866100</td>\n",
       "      <td>-0.005474</td>\n",
       "      <td>1.970798e+05</td>\n",
       "      <td>1.981586e+05</td>\n",
       "      <td>-32.899261</td>\n",
       "    </tr>\n",
       "    <tr>\n",
       "      <th>4</th>\n",
       "      <td>0x0337f1e4ef2a0835f68900e32746eb49d3d921d7</td>\n",
       "      <td>1.0</td>\n",
       "      <td>1.0</td>\n",
       "      <td>70 days 17:47:37</td>\n",
       "      <td>397.366969</td>\n",
       "      <td>2021-03-16 17:51:52</td>\n",
       "      <td>2021-05-26 11:39:29</td>\n",
       "      <td>0.288283</td>\n",
       "      <td>510.000000</td>\n",
       "      <td>0.251146</td>\n",
       "      <td>708.631503</td>\n",
       "      <td>1769.095511</td>\n",
       "      <td>2821.596332</td>\n",
       "      <td>70.741400</td>\n",
       "      <td>-0.070911</td>\n",
       "      <td>1.323418e+03</td>\n",
       "      <td>1.417263e+03</td>\n",
       "      <td>1052.500821</td>\n",
       "    </tr>\n",
       "  </tbody>\n",
       "</table>\n",
       "</div>"
      ],
      "text/plain": [
       "                               wallet_address  total_burns  total_mints  \\\n",
       "0  0x005d64b3fedd6d53edf19142087d51c7ac6ba595          1.0          1.0   \n",
       "1  0x01f908db631d558540372f6bbc51ef0afc7d7be3          1.0          1.0   \n",
       "2  0x029ce969b27513ad1868d74bebe59d82d5917e17          1.0          1.0   \n",
       "3  0x03086e6c6c6f446b05daeae62fe65eba1850e731          1.0          1.0   \n",
       "4  0x0337f1e4ef2a0835f68900e32746eb49d3d921d7          1.0          1.0   \n",
       "\n",
       "      time_in_pool   actual_gain           mint_time           burn_time  \\\n",
       "0 21 days 00:21:14   8727.888427 2021-03-15 18:28:23 2021-04-05 18:49:37   \n",
       "1 18 days 23:13:28  32263.201288 2021-03-15 18:41:21 2021-04-03 17:54:49   \n",
       "2 13 days 21:01:17   8862.996540 2021-03-15 18:19:54 2021-03-29 15:21:11   \n",
       "3  6 days 20:47:11  -5370.129147 2020-09-15 06:05:57 2020-09-22 02:53:08   \n",
       "4 70 days 17:47:37    397.366969 2021-03-16 17:51:52 2021-05-26 11:39:29   \n",
       "\n",
       "   eth_minted    usdc_minted  eth_burned    usdc_burned  eth_rate_mint  \\\n",
       "0   24.976903   44328.961122   23.154603   48629.035651    1774.798115   \n",
       "1    6.004405   10672.613397   13.155506   26796.573335    1777.463818   \n",
       "2  300.000000  531107.179242  301.830800  534878.617463    1770.357264   \n",
       "3  274.955417  103062.834106  289.760290   99079.314746     374.834710   \n",
       "4    0.288283     510.000000    0.251146     708.631503    1769.095511   \n",
       "\n",
       "   eth_rate_burn  time_in_pool_days  impermanent_loss    hold_value  \\\n",
       "0    2100.188671          21.014745         -0.004886  9.678517e+04   \n",
       "1    2036.909381          18.967685         -1.340001  2.290304e+04   \n",
       "2    1772.114104          13.875891         -0.006602  1.062741e+06   \n",
       "3     341.935449           6.866100         -0.005474  1.970798e+05   \n",
       "4    2821.596332          70.741400         -0.070911  1.323418e+03   \n",
       "\n",
       "      liq_value  rate_change  \n",
       "0  9.725807e+04   325.390556  \n",
       "1  5.359315e+04   259.445563  \n",
       "2  1.069757e+06     1.756840  \n",
       "3  1.981586e+05   -32.899261  \n",
       "4  1.417263e+03  1052.500821  "
      ]
     },
     "execution_count": 37,
     "metadata": {},
     "output_type": "execute_result"
    }
   ],
   "source": [
    "oneburnonemint['rate_change'] = oneburnonemint['eth_rate_burn'] - oneburnonemint['eth_rate_mint']\n",
    "oneburnonemint.head()"
   ]
  },
  {
   "cell_type": "markdown",
   "id": "ace16f6d",
   "metadata": {},
   "source": [
    "# Ethereum MacroData"
   ]
  },
  {
   "cell_type": "markdown",
   "id": "84a61001",
   "metadata": {},
   "source": [
    "We define a new metric, Net Value vs. Holding, as impermanent loss when taking liquidity into account: <br>\n",
    "Net value vs. holding = Impermanent Loss - Transaction fees gained as liquidity provider"
   ]
  },
  {
   "cell_type": "markdown",
   "id": "345d1207",
   "metadata": {},
   "source": [
    "## Data Collection"
   ]
  },
  {
   "cell_type": "markdown",
   "id": "9485622d",
   "metadata": {},
   "source": [
    "Collect additional data on market conditions of Ethereum, such as historic price and volatility <br> \n",
    "- Vol index: https://t3index.com/indices/bit-vol/\n",
    "- Price data: https://www.investing.com/crypto/ethereum/historical-data"
   ]
  },
  {
   "cell_type": "code",
   "execution_count": 38,
   "id": "78b3d3fc",
   "metadata": {},
   "outputs": [],
   "source": [
    "eth_vol = pd.read_csv('/Users/samantha/MATH446/MATH446_project/random_data/eth_features/ethvol.csv')\n",
    "eth_price = pd.read_csv('/Users/samantha/MATH446/MATH446_project/random_data/eth_features/ethprice.csv')"
   ]
  },
  {
   "cell_type": "code",
   "execution_count": 39,
   "id": "d092e2d3",
   "metadata": {},
   "outputs": [],
   "source": [
    "masterdf = oneburnonemint.copy()"
   ]
  },
  {
   "cell_type": "code",
   "execution_count": 40,
   "id": "479b8159",
   "metadata": {},
   "outputs": [
    {
     "data": {
      "text/html": [
       "<div>\n",
       "<style scoped>\n",
       "    .dataframe tbody tr th:only-of-type {\n",
       "        vertical-align: middle;\n",
       "    }\n",
       "\n",
       "    .dataframe tbody tr th {\n",
       "        vertical-align: top;\n",
       "    }\n",
       "\n",
       "    .dataframe thead th {\n",
       "        text-align: right;\n",
       "    }\n",
       "</style>\n",
       "<table border=\"1\" class=\"dataframe\">\n",
       "  <thead>\n",
       "    <tr style=\"text-align: right;\">\n",
       "      <th></th>\n",
       "      <th>Date</th>\n",
       "      <th>Ethereum Volatility Index</th>\n",
       "      <th>Daily_Implied_Move</th>\n",
       "    </tr>\n",
       "  </thead>\n",
       "  <tbody>\n",
       "    <tr>\n",
       "      <th>0</th>\n",
       "      <td>2020-04-15 00:00:00</td>\n",
       "      <td>105.48</td>\n",
       "      <td>4.405181</td>\n",
       "    </tr>\n",
       "    <tr>\n",
       "      <th>1</th>\n",
       "      <td>2020-04-16 00:00:00</td>\n",
       "      <td>103.27</td>\n",
       "      <td>4.312884</td>\n",
       "    </tr>\n",
       "    <tr>\n",
       "      <th>2</th>\n",
       "      <td>2020-04-17 00:00:00</td>\n",
       "      <td>102.55</td>\n",
       "      <td>4.282815</td>\n",
       "    </tr>\n",
       "    <tr>\n",
       "      <th>3</th>\n",
       "      <td>2020-04-18 00:00:00</td>\n",
       "      <td>99.87</td>\n",
       "      <td>4.170889</td>\n",
       "    </tr>\n",
       "    <tr>\n",
       "      <th>4</th>\n",
       "      <td>2020-04-19 00:00:00</td>\n",
       "      <td>101.69</td>\n",
       "      <td>4.246898</td>\n",
       "    </tr>\n",
       "  </tbody>\n",
       "</table>\n",
       "</div>"
      ],
      "text/plain": [
       "                  Date  Ethereum Volatility Index  Daily_Implied_Move\n",
       "0  2020-04-15 00:00:00                     105.48            4.405181\n",
       "1  2020-04-16 00:00:00                     103.27            4.312884\n",
       "2  2020-04-17 00:00:00                     102.55            4.282815\n",
       "3  2020-04-18 00:00:00                      99.87            4.170889\n",
       "4  2020-04-19 00:00:00                     101.69            4.246898"
      ]
     },
     "execution_count": 40,
     "metadata": {},
     "output_type": "execute_result"
    }
   ],
   "source": [
    "iv = []\n",
    "for i in eth_vol['Ethereum Volatility Index']:\n",
    "    impliedmove = i* np.sqrt((1/365)) * np.sqrt((2/np.pi))\n",
    "    iv.append(impliedmove)\n",
    "eth_vol['Daily_Implied_Move'] = iv\n",
    "eth_vol.head()"
   ]
  },
  {
   "cell_type": "code",
   "execution_count": 41,
   "id": "d55fd9d8",
   "metadata": {
    "scrolled": true
   },
   "outputs": [],
   "source": [
    "masterdf['mint_time'] = pd.to_datetime(masterdf['mint_time'])\n",
    "masterdf['burn_time'] = pd.to_datetime(masterdf['burn_time'])\n",
    "eth_vol['Date'] =  pd.to_datetime(eth_vol['Date'])"
   ]
  },
  {
   "cell_type": "code",
   "execution_count": 42,
   "id": "09b6d5ae",
   "metadata": {},
   "outputs": [
    {
     "data": {
      "text/html": [
       "<div>\n",
       "<style scoped>\n",
       "    .dataframe tbody tr th:only-of-type {\n",
       "        vertical-align: middle;\n",
       "    }\n",
       "\n",
       "    .dataframe tbody tr th {\n",
       "        vertical-align: top;\n",
       "    }\n",
       "\n",
       "    .dataframe thead th {\n",
       "        text-align: right;\n",
       "    }\n",
       "</style>\n",
       "<table border=\"1\" class=\"dataframe\">\n",
       "  <thead>\n",
       "    <tr style=\"text-align: right;\">\n",
       "      <th></th>\n",
       "      <th>wallet_address</th>\n",
       "      <th>total_burns</th>\n",
       "      <th>total_mints</th>\n",
       "      <th>time_in_pool</th>\n",
       "      <th>actual_gain</th>\n",
       "      <th>mint_time</th>\n",
       "      <th>burn_time</th>\n",
       "      <th>eth_minted</th>\n",
       "      <th>usdc_minted</th>\n",
       "      <th>eth_burned</th>\n",
       "      <th>usdc_burned</th>\n",
       "      <th>eth_rate_mint</th>\n",
       "      <th>eth_rate_burn</th>\n",
       "      <th>time_in_pool_days</th>\n",
       "      <th>impermanent_loss</th>\n",
       "      <th>hold_value</th>\n",
       "      <th>liq_value</th>\n",
       "      <th>rate_change</th>\n",
       "    </tr>\n",
       "  </thead>\n",
       "  <tbody>\n",
       "    <tr>\n",
       "      <th>0</th>\n",
       "      <td>0x005d64b3fedd6d53edf19142087d51c7ac6ba595</td>\n",
       "      <td>1.0</td>\n",
       "      <td>1.0</td>\n",
       "      <td>21 days 00:21:14</td>\n",
       "      <td>8727.888427</td>\n",
       "      <td>2021-03-15 18:28:23</td>\n",
       "      <td>2021-04-05 18:49:37</td>\n",
       "      <td>24.976903</td>\n",
       "      <td>44328.961122</td>\n",
       "      <td>23.154603</td>\n",
       "      <td>48629.035651</td>\n",
       "      <td>1774.798115</td>\n",
       "      <td>2100.188671</td>\n",
       "      <td>21.014745</td>\n",
       "      <td>-0.004886</td>\n",
       "      <td>9.678517e+04</td>\n",
       "      <td>9.725807e+04</td>\n",
       "      <td>325.390556</td>\n",
       "    </tr>\n",
       "    <tr>\n",
       "      <th>1</th>\n",
       "      <td>0x01f908db631d558540372f6bbc51ef0afc7d7be3</td>\n",
       "      <td>1.0</td>\n",
       "      <td>1.0</td>\n",
       "      <td>18 days 23:13:28</td>\n",
       "      <td>32263.201288</td>\n",
       "      <td>2021-03-15 18:41:21</td>\n",
       "      <td>2021-04-03 17:54:49</td>\n",
       "      <td>6.004405</td>\n",
       "      <td>10672.613397</td>\n",
       "      <td>13.155506</td>\n",
       "      <td>26796.573335</td>\n",
       "      <td>1777.463818</td>\n",
       "      <td>2036.909381</td>\n",
       "      <td>18.967685</td>\n",
       "      <td>-1.340001</td>\n",
       "      <td>2.290304e+04</td>\n",
       "      <td>5.359315e+04</td>\n",
       "      <td>259.445563</td>\n",
       "    </tr>\n",
       "    <tr>\n",
       "      <th>2</th>\n",
       "      <td>0x029ce969b27513ad1868d74bebe59d82d5917e17</td>\n",
       "      <td>1.0</td>\n",
       "      <td>1.0</td>\n",
       "      <td>13 days 21:01:17</td>\n",
       "      <td>8862.996540</td>\n",
       "      <td>2021-03-15 18:19:54</td>\n",
       "      <td>2021-03-29 15:21:11</td>\n",
       "      <td>300.000000</td>\n",
       "      <td>531107.179242</td>\n",
       "      <td>301.830800</td>\n",
       "      <td>534878.617463</td>\n",
       "      <td>1770.357264</td>\n",
       "      <td>1772.114104</td>\n",
       "      <td>13.875891</td>\n",
       "      <td>-0.006602</td>\n",
       "      <td>1.062741e+06</td>\n",
       "      <td>1.069757e+06</td>\n",
       "      <td>1.756840</td>\n",
       "    </tr>\n",
       "    <tr>\n",
       "      <th>3</th>\n",
       "      <td>0x03086e6c6c6f446b05daeae62fe65eba1850e731</td>\n",
       "      <td>1.0</td>\n",
       "      <td>1.0</td>\n",
       "      <td>6 days 20:47:11</td>\n",
       "      <td>-5370.129147</td>\n",
       "      <td>2020-09-15 06:05:57</td>\n",
       "      <td>2020-09-22 02:53:08</td>\n",
       "      <td>274.955417</td>\n",
       "      <td>103062.834106</td>\n",
       "      <td>289.760290</td>\n",
       "      <td>99079.314746</td>\n",
       "      <td>374.834710</td>\n",
       "      <td>341.935449</td>\n",
       "      <td>6.866100</td>\n",
       "      <td>-0.005474</td>\n",
       "      <td>1.970798e+05</td>\n",
       "      <td>1.981586e+05</td>\n",
       "      <td>-32.899261</td>\n",
       "    </tr>\n",
       "    <tr>\n",
       "      <th>4</th>\n",
       "      <td>0x0337f1e4ef2a0835f68900e32746eb49d3d921d7</td>\n",
       "      <td>1.0</td>\n",
       "      <td>1.0</td>\n",
       "      <td>70 days 17:47:37</td>\n",
       "      <td>397.366969</td>\n",
       "      <td>2021-03-16 17:51:52</td>\n",
       "      <td>2021-05-26 11:39:29</td>\n",
       "      <td>0.288283</td>\n",
       "      <td>510.000000</td>\n",
       "      <td>0.251146</td>\n",
       "      <td>708.631503</td>\n",
       "      <td>1769.095511</td>\n",
       "      <td>2821.596332</td>\n",
       "      <td>70.741400</td>\n",
       "      <td>-0.070911</td>\n",
       "      <td>1.323418e+03</td>\n",
       "      <td>1.417263e+03</td>\n",
       "      <td>1052.500821</td>\n",
       "    </tr>\n",
       "  </tbody>\n",
       "</table>\n",
       "</div>"
      ],
      "text/plain": [
       "                               wallet_address  total_burns  total_mints  \\\n",
       "0  0x005d64b3fedd6d53edf19142087d51c7ac6ba595          1.0          1.0   \n",
       "1  0x01f908db631d558540372f6bbc51ef0afc7d7be3          1.0          1.0   \n",
       "2  0x029ce969b27513ad1868d74bebe59d82d5917e17          1.0          1.0   \n",
       "3  0x03086e6c6c6f446b05daeae62fe65eba1850e731          1.0          1.0   \n",
       "4  0x0337f1e4ef2a0835f68900e32746eb49d3d921d7          1.0          1.0   \n",
       "\n",
       "      time_in_pool   actual_gain           mint_time           burn_time  \\\n",
       "0 21 days 00:21:14   8727.888427 2021-03-15 18:28:23 2021-04-05 18:49:37   \n",
       "1 18 days 23:13:28  32263.201288 2021-03-15 18:41:21 2021-04-03 17:54:49   \n",
       "2 13 days 21:01:17   8862.996540 2021-03-15 18:19:54 2021-03-29 15:21:11   \n",
       "3  6 days 20:47:11  -5370.129147 2020-09-15 06:05:57 2020-09-22 02:53:08   \n",
       "4 70 days 17:47:37    397.366969 2021-03-16 17:51:52 2021-05-26 11:39:29   \n",
       "\n",
       "   eth_minted    usdc_minted  eth_burned    usdc_burned  eth_rate_mint  \\\n",
       "0   24.976903   44328.961122   23.154603   48629.035651    1774.798115   \n",
       "1    6.004405   10672.613397   13.155506   26796.573335    1777.463818   \n",
       "2  300.000000  531107.179242  301.830800  534878.617463    1770.357264   \n",
       "3  274.955417  103062.834106  289.760290   99079.314746     374.834710   \n",
       "4    0.288283     510.000000    0.251146     708.631503    1769.095511   \n",
       "\n",
       "   eth_rate_burn  time_in_pool_days  impermanent_loss    hold_value  \\\n",
       "0    2100.188671          21.014745         -0.004886  9.678517e+04   \n",
       "1    2036.909381          18.967685         -1.340001  2.290304e+04   \n",
       "2    1772.114104          13.875891         -0.006602  1.062741e+06   \n",
       "3     341.935449           6.866100         -0.005474  1.970798e+05   \n",
       "4    2821.596332          70.741400         -0.070911  1.323418e+03   \n",
       "\n",
       "      liq_value  rate_change  \n",
       "0  9.725807e+04   325.390556  \n",
       "1  5.359315e+04   259.445563  \n",
       "2  1.069757e+06     1.756840  \n",
       "3  1.981586e+05   -32.899261  \n",
       "4  1.417263e+03  1052.500821  "
      ]
     },
     "execution_count": 42,
     "metadata": {},
     "output_type": "execute_result"
    }
   ],
   "source": [
    "masterdf.head()"
   ]
  },
  {
   "cell_type": "code",
   "execution_count": 43,
   "id": "aec91001",
   "metadata": {},
   "outputs": [
    {
     "name": "stderr",
     "output_type": "stream",
     "text": [
      "<ipython-input-43-9c7977f08b08>:13: SettingWithCopyWarning: \n",
      "A value is trying to be set on a copy of a slice from a DataFrame\n",
      "\n",
      "See the caveats in the documentation: https://pandas.pydata.org/pandas-docs/stable/user_guide/indexing.html#returning-a-view-versus-a-copy\n",
      "  masterdf['mint_vol'][mintvolidx-1] = eth_vol['Daily_Implied_Move'][ethvolidx-1]\n"
     ]
    },
    {
     "data": {
      "text/plain": [
       "282"
      ]
     },
     "execution_count": 43,
     "metadata": {},
     "output_type": "execute_result"
    }
   ],
   "source": [
    "listofmintvols = []\n",
    "ethvolidx = 0\n",
    "mintidx = 0\n",
    "iters = 0\n",
    "masterdf['mint_vol'] = 0\n",
    "\n",
    "for j in eth_vol['Date']:\n",
    "    ethvolidx += 1\n",
    "    mintvolidx = 0\n",
    "    for i in masterdf['mint_time']:\n",
    "        mintvolidx += 1\n",
    "        if(i.year == j.year and i.dayofyear == j.dayofyear):\n",
    "            masterdf['mint_vol'][mintvolidx-1] = eth_vol['Daily_Implied_Move'][ethvolidx-1]\n",
    "            #print(wallets['mint_vol'][mintvolidx-1])\n",
    "            #print(eth_vol['Daily_Implied_Move'][ethvolidx-1])\n",
    "            #print(eth_vol['Daily_Implied_Move'][ethvolidx-1])\n",
    "            #listofmintvols.append(eth_vol['Daily_Implied_Move'][mintvolidx-1])\n",
    "            #print(mintvolidx)\n",
    "            iters+=1\n",
    "            \n",
    "for i in masterdf['mint_time']:\n",
    "    mintvolidx+=1\n",
    "    ethvolidx = 0\n",
    "    for j in eth_vol['Date']:\n",
    "        ethvolidx += 1\n",
    "        if(i.year == j.year and i.dayofyear == j.dayofyear):\n",
    "            listofmintvols.append(eth_vol['Daily_Implied_Move'][ethvolidx-1])\n",
    "            #wallets['mint_vol'][mintvolidx-1] = eth_vol['Daily_Implied_Move'][ethvolidx-1]\n",
    "            \n",
    "\n",
    "len(listofmintvols)"
   ]
  },
  {
   "cell_type": "code",
   "execution_count": 44,
   "id": "47da2df8",
   "metadata": {},
   "outputs": [
    {
     "data": {
      "text/plain": [
       "282"
      ]
     },
     "execution_count": 44,
     "metadata": {},
     "output_type": "execute_result"
    }
   ],
   "source": [
    "listofmintvols = []\n",
    "ethvolidx = 0\n",
    "mintidx = 0\n",
    "iters = 0\n",
    "\n",
    "for i in masterdf['mint_time']:\n",
    "    mintvolidx+=1\n",
    "    ethvolidx = 0\n",
    "    for j in eth_vol['Date']:\n",
    "        ethvolidx += 1\n",
    "        if(i.year == j.year and i.dayofyear == j.dayofyear):\n",
    "            listofmintvols.append(eth_vol['Daily_Implied_Move'][ethvolidx-1])\n",
    "            #wallets['mint_vol'][mintvolidx-1] = eth_vol['Daily_Implied_Move'][ethvolidx-1]\n",
    "            \n",
    "len(listofmintvols)"
   ]
  },
  {
   "cell_type": "code",
   "execution_count": 45,
   "id": "1289d954",
   "metadata": {},
   "outputs": [
    {
     "data": {
      "text/plain": [
       "282"
      ]
     },
     "execution_count": 45,
     "metadata": {},
     "output_type": "execute_result"
    }
   ],
   "source": [
    "listofburnvols = []\n",
    "ethvolidx = 0\n",
    "burnvolidx = 0\n",
    "iters = 0\n",
    "\n",
    "for i in masterdf['burn_time']:\n",
    "    burnvolidx+=1\n",
    "    ethvolidx = 0\n",
    "    for j in eth_vol['Date']:\n",
    "        ethvolidx += 1\n",
    "        if(i.year == j.year and i.dayofyear == j.dayofyear):\n",
    "            listofburnvols.append(eth_vol['Daily_Implied_Move'][ethvolidx-1])\n",
    "            #wallets['mint_vol'][mintvolidx-1] = eth_vol['Daily_Implied_Move'][ethvolidx-1]\n",
    "            \n",
    "len(listofburnvols)"
   ]
  },
  {
   "cell_type": "code",
   "execution_count": 46,
   "id": "37d53464",
   "metadata": {},
   "outputs": [],
   "source": [
    "masterdf['mint_vol'] = listofmintvols\n",
    "masterdf['burn_vol'] = listofburnvols"
   ]
  },
  {
   "cell_type": "code",
   "execution_count": 47,
   "id": "ccaa8490",
   "metadata": {},
   "outputs": [],
   "source": [
    "eth_price = eth_price.iloc[::-1]"
   ]
  },
  {
   "cell_type": "code",
   "execution_count": 48,
   "id": "f7b7681b",
   "metadata": {},
   "outputs": [],
   "source": [
    "eth_price['Date'] = pd.date_range(start='9/10/2020', periods=len(eth_price), freq='D')"
   ]
  },
  {
   "cell_type": "code",
   "execution_count": 49,
   "id": "f6370399",
   "metadata": {},
   "outputs": [
    {
     "data": {
      "text/plain": [
       "282"
      ]
     },
     "execution_count": 49,
     "metadata": {},
     "output_type": "execute_result"
    }
   ],
   "source": [
    "listofburnvols = []\n",
    "ethvolidx = 0\n",
    "burnvolidx = 0\n",
    "iters = 0\n",
    "\n",
    "for i in masterdf['burn_time']:\n",
    "    burnvolidx+=1\n",
    "    ethvolidx = 0\n",
    "    for j in eth_vol['Date']:\n",
    "        ethvolidx += 1\n",
    "        if(i.year == j.year and i.dayofyear == j.dayofyear):\n",
    "            listofburnvols.append(eth_vol['Daily_Implied_Move'][ethvolidx-1])\n",
    "            #wallets['mint_vol'][mintvolidx-1] = eth_vol['Daily_Implied_Move'][ethvolidx-1]\n",
    "            \n",
    "len(listofburnvols)"
   ]
  },
  {
   "cell_type": "code",
   "execution_count": 50,
   "id": "5b99c345",
   "metadata": {},
   "outputs": [],
   "source": [
    "newdf = eth_price.reset_index()"
   ]
  },
  {
   "cell_type": "code",
   "execution_count": 51,
   "id": "4dd8c899",
   "metadata": {},
   "outputs": [
    {
     "data": {
      "text/plain": [
       "282"
      ]
     },
     "execution_count": 51,
     "metadata": {},
     "output_type": "execute_result"
    }
   ],
   "source": [
    "listofburnprice = []\n",
    "ethvolidx = 0\n",
    "burnprice = 0\n",
    "iters = 0\n",
    "\n",
    "for i in masterdf['burn_time']:\n",
    "    burnvolidx+=1\n",
    "    ethvolidx = 0\n",
    "    for j in newdf['Date']:\n",
    "        ethvolidx += 1\n",
    "        if(i.year == j.year and i.dayofyear == j.dayofyear):\n",
    "            listofburnprice.append(newdf['Price'][ethvolidx-1])\n",
    "            #wallets['mint_vol'][mintvolidx-1] = eth_vol['Daily_Implied_Move'][ethvolidx-1]\n",
    "            \n",
    "len(listofburnprice)"
   ]
  },
  {
   "cell_type": "code",
   "execution_count": 52,
   "id": "6a46e782",
   "metadata": {},
   "outputs": [],
   "source": [
    "masterdf['Burn_Price'] = listofburnprice"
   ]
  },
  {
   "cell_type": "code",
   "execution_count": 53,
   "id": "ff82c15f",
   "metadata": {},
   "outputs": [],
   "source": [
    "listofmintprice = []\n",
    "ethvolidx = 0\n",
    "burnprice = 0\n",
    "iters = 0\n",
    "burnvolidx = 0\n",
    "\n",
    "for i in masterdf['mint_time']:\n",
    "    burnvolidx+=1\n",
    "    ethvolidx = 0\n",
    "    for j in newdf['Date']:\n",
    "        ethvolidx += 1\n",
    "        if(i.year == j.year and i.dayofyear == j.dayofyear):\n",
    "            listofmintprice.append(newdf['Price'][ethvolidx-1])\n",
    "            #wallets['mint_vol'][mintvolidx-1] = eth_vol['Daily_Implied_Move'][ethvolidx-1]\n",
    "            \n",
    "len(listofmintprice)\n",
    "masterdf['Mint_Price'] = listofmintprice"
   ]
  },
  {
   "cell_type": "code",
   "execution_count": 54,
   "id": "4c5a297d",
   "metadata": {},
   "outputs": [],
   "source": [
    "listofvolumeburn = []\n",
    "ethvolidx = 0\n",
    "burnprice = 0\n",
    "iters = 0\n",
    "burnvolidx = 0\n",
    "\n",
    "for i in masterdf['burn_time']:\n",
    "    burnvolidx+=1\n",
    "    ethvolidx = 0\n",
    "    for j in newdf['Date']:\n",
    "        ethvolidx += 1\n",
    "        if(i.year == j.year and i.dayofyear == j.dayofyear):\n",
    "            listofvolumeburn.append(newdf['Vol.'][ethvolidx-1])\n",
    "            #wallets['mint_vol'][mintvolidx-1] = eth_vol['Daily_Implied_Move'][ethvolidx-1]\n",
    "            \n",
    "len(listofvolumeburn)\n",
    "listofvolumeburn\n",
    "masterdf['Burn_Volume'] = listofvolumeburn"
   ]
  },
  {
   "cell_type": "code",
   "execution_count": 55,
   "id": "e59a1035",
   "metadata": {},
   "outputs": [],
   "source": [
    "listofvolumeburn = []\n",
    "ethvolidx = 0\n",
    "burnprice = 0\n",
    "iters = 0\n",
    "burnvolidx = 0\n",
    "\n",
    "for i in masterdf['mint_time']:\n",
    "    burnvolidx+=1\n",
    "    ethvolidx = 0\n",
    "    for j in newdf['Date']:\n",
    "        ethvolidx += 1\n",
    "        if(i.year == j.year and i.dayofyear == j.dayofyear):\n",
    "            listofvolumeburn.append(newdf['Vol.'][ethvolidx-1])\n",
    "            #wallets['mint_vol'][mintvolidx-1] = eth_vol['Daily_Implied_Move'][ethvolidx-1]\n",
    "            \n",
    "len(listofvolumeburn)\n",
    "masterdf['Mint_Volume'] = listofvolumeburn"
   ]
  },
  {
   "cell_type": "code",
   "execution_count": 56,
   "id": "6473bf2c",
   "metadata": {},
   "outputs": [],
   "source": [
    "listofvolumeburn = []\n",
    "ethvolidx = 0\n",
    "burnprice = 0\n",
    "iters = 0\n",
    "burnvolidx = 0\n",
    "\n",
    "for i in masterdf['mint_time']:\n",
    "    burnvolidx+=1\n",
    "    ethvolidx = 0\n",
    "    for j in newdf['Date']:\n",
    "        ethvolidx += 1\n",
    "        if(i.year == j.year and i.dayofyear == j.dayofyear):\n",
    "            listofvolumeburn.append(newdf['Change %'][ethvolidx-1])\n",
    "            #wallets['mint_vol'][mintvolidx-1] = eth_vol['Daily_Implied_Move'][ethvolidx-1]\n",
    "            \n",
    "len(listofvolumeburn)\n",
    "masterdf['Mint_PerChange'] = listofvolumeburn"
   ]
  },
  {
   "cell_type": "code",
   "execution_count": 57,
   "id": "f40378b8",
   "metadata": {},
   "outputs": [],
   "source": [
    "listofvolumeburn = []\n",
    "ethvolidx = 0\n",
    "burnprice = 0\n",
    "iters = 0\n",
    "burnvolidx = 0\n",
    "\n",
    "for i in masterdf['burn_time']:\n",
    "    burnvolidx+=1\n",
    "    ethvolidx = 0\n",
    "    for j in newdf['Date']:\n",
    "        ethvolidx += 1\n",
    "        if(i.year == j.year and i.dayofyear == j.dayofyear):\n",
    "            listofvolumeburn.append(newdf['Change %'][ethvolidx-1])\n",
    "            #wallets['mint_vol'][mintvolidx-1] = eth_vol['Daily_Implied_Move'][ethvolidx-1]\n",
    "            \n",
    "len(listofvolumeburn)\n",
    "masterdf['Burn_PerChange'] = listofvolumeburn"
   ]
  },
  {
   "cell_type": "markdown",
   "id": "8ced9b38",
   "metadata": {},
   "source": [
    "## Data Cleaning"
   ]
  },
  {
   "cell_type": "code",
   "execution_count": 58,
   "id": "a554ceaf",
   "metadata": {},
   "outputs": [
    {
     "data": {
      "text/html": [
       "<div>\n",
       "<style scoped>\n",
       "    .dataframe tbody tr th:only-of-type {\n",
       "        vertical-align: middle;\n",
       "    }\n",
       "\n",
       "    .dataframe tbody tr th {\n",
       "        vertical-align: top;\n",
       "    }\n",
       "\n",
       "    .dataframe thead th {\n",
       "        text-align: right;\n",
       "    }\n",
       "</style>\n",
       "<table border=\"1\" class=\"dataframe\">\n",
       "  <thead>\n",
       "    <tr style=\"text-align: right;\">\n",
       "      <th></th>\n",
       "      <th>wallet_address</th>\n",
       "      <th>total_burns</th>\n",
       "      <th>total_mints</th>\n",
       "      <th>time_in_pool</th>\n",
       "      <th>actual_gain</th>\n",
       "      <th>mint_time</th>\n",
       "      <th>burn_time</th>\n",
       "      <th>eth_minted</th>\n",
       "      <th>usdc_minted</th>\n",
       "      <th>eth_burned</th>\n",
       "      <th>usdc_burned</th>\n",
       "      <th>eth_rate_mint</th>\n",
       "      <th>eth_rate_burn</th>\n",
       "      <th>time_in_pool_days</th>\n",
       "      <th>impermanent_loss</th>\n",
       "      <th>hold_value</th>\n",
       "      <th>liq_value</th>\n",
       "      <th>rate_change</th>\n",
       "      <th>mint_vol</th>\n",
       "      <th>burn_vol</th>\n",
       "      <th>Burn_Price</th>\n",
       "      <th>Mint_Price</th>\n",
       "      <th>Burn_Volume</th>\n",
       "      <th>Mint_Volume</th>\n",
       "      <th>Mint_PerChange</th>\n",
       "      <th>Burn_PerChange</th>\n",
       "    </tr>\n",
       "  </thead>\n",
       "  <tbody>\n",
       "    <tr>\n",
       "      <th>0</th>\n",
       "      <td>0x005d64b3fedd6d53edf19142087d51c7ac6ba595</td>\n",
       "      <td>1.0</td>\n",
       "      <td>1.0</td>\n",
       "      <td>21 days 00:21:14</td>\n",
       "      <td>8727.888427</td>\n",
       "      <td>2021-03-15 18:28:23</td>\n",
       "      <td>2021-04-05 18:49:37</td>\n",
       "      <td>24.976903</td>\n",
       "      <td>44328.961122</td>\n",
       "      <td>23.154603</td>\n",
       "      <td>48629.035651</td>\n",
       "      <td>1774.798115</td>\n",
       "      <td>2100.188671</td>\n",
       "      <td>21.014745</td>\n",
       "      <td>-0.004886</td>\n",
       "      <td>9.678517e+04</td>\n",
       "      <td>9.725807e+04</td>\n",
       "      <td>325.390556</td>\n",
       "      <td>5.206616</td>\n",
       "      <td>4.030565</td>\n",
       "      <td>2,106.41</td>\n",
       "      <td>1,792.38</td>\n",
       "      <td>2.31M</td>\n",
       "      <td>1.70M</td>\n",
       "      <td>-3.07%</td>\n",
       "      <td>1.47%</td>\n",
       "    </tr>\n",
       "    <tr>\n",
       "      <th>1</th>\n",
       "      <td>0x01f908db631d558540372f6bbc51ef0afc7d7be3</td>\n",
       "      <td>1.0</td>\n",
       "      <td>1.0</td>\n",
       "      <td>18 days 23:13:28</td>\n",
       "      <td>32263.201288</td>\n",
       "      <td>2021-03-15 18:41:21</td>\n",
       "      <td>2021-04-03 17:54:49</td>\n",
       "      <td>6.004405</td>\n",
       "      <td>10672.613397</td>\n",
       "      <td>13.155506</td>\n",
       "      <td>26796.573335</td>\n",
       "      <td>1777.463818</td>\n",
       "      <td>2036.909381</td>\n",
       "      <td>18.967685</td>\n",
       "      <td>-1.340001</td>\n",
       "      <td>2.290304e+04</td>\n",
       "      <td>5.359315e+04</td>\n",
       "      <td>259.445563</td>\n",
       "      <td>5.206616</td>\n",
       "      <td>4.179242</td>\n",
       "      <td>2,008.59</td>\n",
       "      <td>1,792.38</td>\n",
       "      <td>2.01M</td>\n",
       "      <td>1.70M</td>\n",
       "      <td>-3.07%</td>\n",
       "      <td>-5.90%</td>\n",
       "    </tr>\n",
       "    <tr>\n",
       "      <th>2</th>\n",
       "      <td>0x029ce969b27513ad1868d74bebe59d82d5917e17</td>\n",
       "      <td>1.0</td>\n",
       "      <td>1.0</td>\n",
       "      <td>13 days 21:01:17</td>\n",
       "      <td>8862.996540</td>\n",
       "      <td>2021-03-15 18:19:54</td>\n",
       "      <td>2021-03-29 15:21:11</td>\n",
       "      <td>300.000000</td>\n",
       "      <td>531107.179242</td>\n",
       "      <td>301.830800</td>\n",
       "      <td>534878.617463</td>\n",
       "      <td>1770.357264</td>\n",
       "      <td>1772.114104</td>\n",
       "      <td>13.875891</td>\n",
       "      <td>-0.006602</td>\n",
       "      <td>1.062741e+06</td>\n",
       "      <td>1.069757e+06</td>\n",
       "      <td>1.756840</td>\n",
       "      <td>5.206616</td>\n",
       "      <td>3.871865</td>\n",
       "      <td>1,816.69</td>\n",
       "      <td>1,792.38</td>\n",
       "      <td>1.94M</td>\n",
       "      <td>1.70M</td>\n",
       "      <td>-3.07%</td>\n",
       "      <td>7.70%</td>\n",
       "    </tr>\n",
       "    <tr>\n",
       "      <th>3</th>\n",
       "      <td>0x03086e6c6c6f446b05daeae62fe65eba1850e731</td>\n",
       "      <td>1.0</td>\n",
       "      <td>1.0</td>\n",
       "      <td>6 days 20:47:11</td>\n",
       "      <td>-5370.129147</td>\n",
       "      <td>2020-09-15 06:05:57</td>\n",
       "      <td>2020-09-22 02:53:08</td>\n",
       "      <td>274.955417</td>\n",
       "      <td>103062.834106</td>\n",
       "      <td>289.760290</td>\n",
       "      <td>99079.314746</td>\n",
       "      <td>374.834710</td>\n",
       "      <td>341.935449</td>\n",
       "      <td>6.866100</td>\n",
       "      <td>-0.005474</td>\n",
       "      <td>1.970798e+05</td>\n",
       "      <td>1.981586e+05</td>\n",
       "      <td>-32.899261</td>\n",
       "      <td>3.723606</td>\n",
       "      <td>3.376971</td>\n",
       "      <td>344.03</td>\n",
       "      <td>364.01</td>\n",
       "      <td>9.29M</td>\n",
       "      <td>9.06M</td>\n",
       "      <td>-3.37%</td>\n",
       "      <td>0.80%</td>\n",
       "    </tr>\n",
       "    <tr>\n",
       "      <th>4</th>\n",
       "      <td>0x0337f1e4ef2a0835f68900e32746eb49d3d921d7</td>\n",
       "      <td>1.0</td>\n",
       "      <td>1.0</td>\n",
       "      <td>70 days 17:47:37</td>\n",
       "      <td>397.366969</td>\n",
       "      <td>2021-03-16 17:51:52</td>\n",
       "      <td>2021-05-26 11:39:29</td>\n",
       "      <td>0.288283</td>\n",
       "      <td>510.000000</td>\n",
       "      <td>0.251146</td>\n",
       "      <td>708.631503</td>\n",
       "      <td>1769.095511</td>\n",
       "      <td>2821.596332</td>\n",
       "      <td>70.741400</td>\n",
       "      <td>-0.070911</td>\n",
       "      <td>1.323418e+03</td>\n",
       "      <td>1.417263e+03</td>\n",
       "      <td>1052.500821</td>\n",
       "      <td>5.131860</td>\n",
       "      <td>6.692133</td>\n",
       "      <td>2,884.66</td>\n",
       "      <td>1,804.85</td>\n",
       "      <td>2.66M</td>\n",
       "      <td>1.81M</td>\n",
       "      <td>0.70%</td>\n",
       "      <td>6.64%</td>\n",
       "    </tr>\n",
       "  </tbody>\n",
       "</table>\n",
       "</div>"
      ],
      "text/plain": [
       "                               wallet_address  total_burns  total_mints  \\\n",
       "0  0x005d64b3fedd6d53edf19142087d51c7ac6ba595          1.0          1.0   \n",
       "1  0x01f908db631d558540372f6bbc51ef0afc7d7be3          1.0          1.0   \n",
       "2  0x029ce969b27513ad1868d74bebe59d82d5917e17          1.0          1.0   \n",
       "3  0x03086e6c6c6f446b05daeae62fe65eba1850e731          1.0          1.0   \n",
       "4  0x0337f1e4ef2a0835f68900e32746eb49d3d921d7          1.0          1.0   \n",
       "\n",
       "      time_in_pool   actual_gain           mint_time           burn_time  \\\n",
       "0 21 days 00:21:14   8727.888427 2021-03-15 18:28:23 2021-04-05 18:49:37   \n",
       "1 18 days 23:13:28  32263.201288 2021-03-15 18:41:21 2021-04-03 17:54:49   \n",
       "2 13 days 21:01:17   8862.996540 2021-03-15 18:19:54 2021-03-29 15:21:11   \n",
       "3  6 days 20:47:11  -5370.129147 2020-09-15 06:05:57 2020-09-22 02:53:08   \n",
       "4 70 days 17:47:37    397.366969 2021-03-16 17:51:52 2021-05-26 11:39:29   \n",
       "\n",
       "   eth_minted    usdc_minted  eth_burned    usdc_burned  eth_rate_mint  \\\n",
       "0   24.976903   44328.961122   23.154603   48629.035651    1774.798115   \n",
       "1    6.004405   10672.613397   13.155506   26796.573335    1777.463818   \n",
       "2  300.000000  531107.179242  301.830800  534878.617463    1770.357264   \n",
       "3  274.955417  103062.834106  289.760290   99079.314746     374.834710   \n",
       "4    0.288283     510.000000    0.251146     708.631503    1769.095511   \n",
       "\n",
       "   eth_rate_burn  time_in_pool_days  impermanent_loss    hold_value  \\\n",
       "0    2100.188671          21.014745         -0.004886  9.678517e+04   \n",
       "1    2036.909381          18.967685         -1.340001  2.290304e+04   \n",
       "2    1772.114104          13.875891         -0.006602  1.062741e+06   \n",
       "3     341.935449           6.866100         -0.005474  1.970798e+05   \n",
       "4    2821.596332          70.741400         -0.070911  1.323418e+03   \n",
       "\n",
       "      liq_value  rate_change  mint_vol  burn_vol Burn_Price Mint_Price  \\\n",
       "0  9.725807e+04   325.390556  5.206616  4.030565   2,106.41   1,792.38   \n",
       "1  5.359315e+04   259.445563  5.206616  4.179242   2,008.59   1,792.38   \n",
       "2  1.069757e+06     1.756840  5.206616  3.871865   1,816.69   1,792.38   \n",
       "3  1.981586e+05   -32.899261  3.723606  3.376971     344.03     364.01   \n",
       "4  1.417263e+03  1052.500821  5.131860  6.692133   2,884.66   1,804.85   \n",
       "\n",
       "  Burn_Volume Mint_Volume Mint_PerChange Burn_PerChange  \n",
       "0       2.31M       1.70M         -3.07%          1.47%  \n",
       "1       2.01M       1.70M         -3.07%         -5.90%  \n",
       "2       1.94M       1.70M         -3.07%          7.70%  \n",
       "3       9.29M       9.06M         -3.37%          0.80%  \n",
       "4       2.66M       1.81M          0.70%          6.64%  "
      ]
     },
     "execution_count": 58,
     "metadata": {},
     "output_type": "execute_result"
    }
   ],
   "source": [
    "masterdf.head()"
   ]
  },
  {
   "cell_type": "code",
   "execution_count": 59,
   "id": "a6fc616e",
   "metadata": {},
   "outputs": [],
   "source": [
    "#calculate NVH as a percentage\n",
    "masterdf['net_value_vs_holding_percentage'] = (-1*masterdf['impermanent_loss'])*100\n",
    "\n",
    "# calculate NVH as a total dollar amount\n",
    "masterdf['net_value_vs_holding_raw'] = masterdf['liq_value'] - masterdf['hold_value']\n",
    "\n",
    "masterdf['gain_as_percentage'] = (100*masterdf['actual_gain']) /\\\n",
    "                        (masterdf['eth_minted']*masterdf['eth_rate_mint'] + masterdf['usdc_minted'])\n",
    "\n",
    "# convert datetime to int\n",
    "masterdf['time_in_pool_days'] = masterdf['time_in_pool'] / pd.to_timedelta(1, unit='D')"
   ]
  },
  {
   "cell_type": "code",
   "execution_count": 60,
   "id": "47c96989",
   "metadata": {
    "scrolled": true
   },
   "outputs": [],
   "source": [
    "masterdf = masterdf.drop(['total_burns','total_mints','impermanent_loss'],axis=1)"
   ]
  },
  {
   "cell_type": "code",
   "execution_count": 61,
   "id": "116ae681",
   "metadata": {},
   "outputs": [],
   "source": [
    "# Clean number formatting \n",
    "masterdf['Burn_Price']=masterdf['Burn_Price'].str.replace(',','').astype(float)\n",
    "masterdf['Mint_Price']=masterdf['Mint_Price'].str.replace(',','').astype(float)\n",
    "masterdf['Mint_PerChange']=masterdf['Mint_PerChange'].str.replace('%','').astype(float)\n",
    "masterdf['Burn_PerChange']=masterdf['Burn_PerChange'].str.replace('%','').astype(float)\n",
    "masterdf['Mint_PerChange']=masterdf['Mint_PerChange'] / 100\n",
    "masterdf['Burn_PerChange']=masterdf['Burn_PerChange'] / 100\n",
    "masterdf.Burn_Volume = (masterdf.Burn_Volume.replace(r'[KM]+$', '', regex=True).astype(float) * \\\n",
    "           masterdf.Burn_Volume.str.extract(r'[\\d\\.]+([KM]+)', expand=False)\n",
    "             .fillna(1)\n",
    "            .replace(['K','M'], [10**3, 10**6]).astype(int))\n",
    "masterdf.Mint_Volume = (masterdf.Mint_Volume.replace(r'[KM]+$', '', regex=True).astype(float) * \\\n",
    "           masterdf.Mint_Volume.str.extract(r'[\\d\\.]+([KM]+)', expand=False)\n",
    "             .fillna(1)\n",
    "            .replace(['K','M'], [10**3, 10**6]).astype(int))"
   ]
  },
  {
   "cell_type": "code",
   "execution_count": 62,
   "id": "246df462",
   "metadata": {
    "scrolled": true
   },
   "outputs": [
    {
     "data": {
      "text/html": [
       "<div>\n",
       "<style scoped>\n",
       "    .dataframe tbody tr th:only-of-type {\n",
       "        vertical-align: middle;\n",
       "    }\n",
       "\n",
       "    .dataframe tbody tr th {\n",
       "        vertical-align: top;\n",
       "    }\n",
       "\n",
       "    .dataframe thead th {\n",
       "        text-align: right;\n",
       "    }\n",
       "</style>\n",
       "<table border=\"1\" class=\"dataframe\">\n",
       "  <thead>\n",
       "    <tr style=\"text-align: right;\">\n",
       "      <th></th>\n",
       "      <th>wallet_address</th>\n",
       "      <th>time_in_pool</th>\n",
       "      <th>actual_gain</th>\n",
       "      <th>mint_time</th>\n",
       "      <th>burn_time</th>\n",
       "      <th>eth_minted</th>\n",
       "      <th>usdc_minted</th>\n",
       "      <th>eth_burned</th>\n",
       "      <th>usdc_burned</th>\n",
       "      <th>eth_rate_mint</th>\n",
       "      <th>eth_rate_burn</th>\n",
       "      <th>time_in_pool_days</th>\n",
       "      <th>hold_value</th>\n",
       "      <th>liq_value</th>\n",
       "      <th>rate_change</th>\n",
       "      <th>mint_vol</th>\n",
       "      <th>burn_vol</th>\n",
       "      <th>Burn_Price</th>\n",
       "      <th>Mint_Price</th>\n",
       "      <th>Burn_Volume</th>\n",
       "      <th>Mint_Volume</th>\n",
       "      <th>Mint_PerChange</th>\n",
       "      <th>Burn_PerChange</th>\n",
       "      <th>net_value_vs_holding_percentage</th>\n",
       "      <th>net_value_vs_holding_raw</th>\n",
       "      <th>gain_as_percentage</th>\n",
       "    </tr>\n",
       "  </thead>\n",
       "  <tbody>\n",
       "    <tr>\n",
       "      <th>0</th>\n",
       "      <td>0x005d64b3fedd6d53edf19142087d51c7ac6ba595</td>\n",
       "      <td>21 days 00:21:14</td>\n",
       "      <td>8727.888427</td>\n",
       "      <td>2021-03-15 18:28:23</td>\n",
       "      <td>2021-04-05 18:49:37</td>\n",
       "      <td>24.976903</td>\n",
       "      <td>44328.961122</td>\n",
       "      <td>23.154603</td>\n",
       "      <td>48629.035651</td>\n",
       "      <td>1774.798115</td>\n",
       "      <td>2100.188671</td>\n",
       "      <td>21.014745</td>\n",
       "      <td>9.678517e+04</td>\n",
       "      <td>9.725807e+04</td>\n",
       "      <td>325.390556</td>\n",
       "      <td>5.206616</td>\n",
       "      <td>4.030565</td>\n",
       "      <td>2106.41</td>\n",
       "      <td>1792.38</td>\n",
       "      <td>2310000.0</td>\n",
       "      <td>1700000.0</td>\n",
       "      <td>-0.0307</td>\n",
       "      <td>0.0147</td>\n",
       "      <td>0.488608</td>\n",
       "      <td>472.900565</td>\n",
       "      <td>9.844454</td>\n",
       "    </tr>\n",
       "    <tr>\n",
       "      <th>1</th>\n",
       "      <td>0x01f908db631d558540372f6bbc51ef0afc7d7be3</td>\n",
       "      <td>18 days 23:13:28</td>\n",
       "      <td>32263.201288</td>\n",
       "      <td>2021-03-15 18:41:21</td>\n",
       "      <td>2021-04-03 17:54:49</td>\n",
       "      <td>6.004405</td>\n",
       "      <td>10672.613397</td>\n",
       "      <td>13.155506</td>\n",
       "      <td>26796.573335</td>\n",
       "      <td>1777.463818</td>\n",
       "      <td>2036.909381</td>\n",
       "      <td>18.967685</td>\n",
       "      <td>2.290304e+04</td>\n",
       "      <td>5.359315e+04</td>\n",
       "      <td>259.445563</td>\n",
       "      <td>5.206616</td>\n",
       "      <td>4.179242</td>\n",
       "      <td>2008.59</td>\n",
       "      <td>1792.38</td>\n",
       "      <td>2010000.0</td>\n",
       "      <td>1700000.0</td>\n",
       "      <td>-0.0307</td>\n",
       "      <td>-0.0590</td>\n",
       "      <td>134.000112</td>\n",
       "      <td>30690.103527</td>\n",
       "      <td>151.149489</td>\n",
       "    </tr>\n",
       "    <tr>\n",
       "      <th>2</th>\n",
       "      <td>0x029ce969b27513ad1868d74bebe59d82d5917e17</td>\n",
       "      <td>13 days 21:01:17</td>\n",
       "      <td>8862.996540</td>\n",
       "      <td>2021-03-15 18:19:54</td>\n",
       "      <td>2021-03-29 15:21:11</td>\n",
       "      <td>300.000000</td>\n",
       "      <td>531107.179242</td>\n",
       "      <td>301.830800</td>\n",
       "      <td>534878.617463</td>\n",
       "      <td>1770.357264</td>\n",
       "      <td>1772.114104</td>\n",
       "      <td>13.875891</td>\n",
       "      <td>1.062741e+06</td>\n",
       "      <td>1.069757e+06</td>\n",
       "      <td>1.756840</td>\n",
       "      <td>5.206616</td>\n",
       "      <td>3.871865</td>\n",
       "      <td>1816.69</td>\n",
       "      <td>1792.38</td>\n",
       "      <td>1940000.0</td>\n",
       "      <td>1700000.0</td>\n",
       "      <td>-0.0307</td>\n",
       "      <td>0.0770</td>\n",
       "      <td>0.660163</td>\n",
       "      <td>7015.824446</td>\n",
       "      <td>0.834389</td>\n",
       "    </tr>\n",
       "    <tr>\n",
       "      <th>3</th>\n",
       "      <td>0x03086e6c6c6f446b05daeae62fe65eba1850e731</td>\n",
       "      <td>6 days 20:47:11</td>\n",
       "      <td>-5370.129147</td>\n",
       "      <td>2020-09-15 06:05:57</td>\n",
       "      <td>2020-09-22 02:53:08</td>\n",
       "      <td>274.955417</td>\n",
       "      <td>103062.834106</td>\n",
       "      <td>289.760290</td>\n",
       "      <td>99079.314746</td>\n",
       "      <td>374.834710</td>\n",
       "      <td>341.935449</td>\n",
       "      <td>6.866100</td>\n",
       "      <td>1.970798e+05</td>\n",
       "      <td>1.981586e+05</td>\n",
       "      <td>-32.899261</td>\n",
       "      <td>3.723606</td>\n",
       "      <td>3.376971</td>\n",
       "      <td>344.03</td>\n",
       "      <td>364.01</td>\n",
       "      <td>9290000.0</td>\n",
       "      <td>9060000.0</td>\n",
       "      <td>-0.0337</td>\n",
       "      <td>0.0080</td>\n",
       "      <td>0.547388</td>\n",
       "      <td>1078.791236</td>\n",
       "      <td>-2.605269</td>\n",
       "    </tr>\n",
       "    <tr>\n",
       "      <th>4</th>\n",
       "      <td>0x0337f1e4ef2a0835f68900e32746eb49d3d921d7</td>\n",
       "      <td>70 days 17:47:37</td>\n",
       "      <td>397.366969</td>\n",
       "      <td>2021-03-16 17:51:52</td>\n",
       "      <td>2021-05-26 11:39:29</td>\n",
       "      <td>0.288283</td>\n",
       "      <td>510.000000</td>\n",
       "      <td>0.251146</td>\n",
       "      <td>708.631503</td>\n",
       "      <td>1769.095511</td>\n",
       "      <td>2821.596332</td>\n",
       "      <td>70.741400</td>\n",
       "      <td>1.323418e+03</td>\n",
       "      <td>1.417263e+03</td>\n",
       "      <td>1052.500821</td>\n",
       "      <td>5.131860</td>\n",
       "      <td>6.692133</td>\n",
       "      <td>2884.66</td>\n",
       "      <td>1804.85</td>\n",
       "      <td>2660000.0</td>\n",
       "      <td>1810000.0</td>\n",
       "      <td>0.0070</td>\n",
       "      <td>0.0664</td>\n",
       "      <td>7.091109</td>\n",
       "      <td>93.845008</td>\n",
       "      <td>38.957546</td>\n",
       "    </tr>\n",
       "  </tbody>\n",
       "</table>\n",
       "</div>"
      ],
      "text/plain": [
       "                               wallet_address     time_in_pool   actual_gain  \\\n",
       "0  0x005d64b3fedd6d53edf19142087d51c7ac6ba595 21 days 00:21:14   8727.888427   \n",
       "1  0x01f908db631d558540372f6bbc51ef0afc7d7be3 18 days 23:13:28  32263.201288   \n",
       "2  0x029ce969b27513ad1868d74bebe59d82d5917e17 13 days 21:01:17   8862.996540   \n",
       "3  0x03086e6c6c6f446b05daeae62fe65eba1850e731  6 days 20:47:11  -5370.129147   \n",
       "4  0x0337f1e4ef2a0835f68900e32746eb49d3d921d7 70 days 17:47:37    397.366969   \n",
       "\n",
       "            mint_time           burn_time  eth_minted    usdc_minted  \\\n",
       "0 2021-03-15 18:28:23 2021-04-05 18:49:37   24.976903   44328.961122   \n",
       "1 2021-03-15 18:41:21 2021-04-03 17:54:49    6.004405   10672.613397   \n",
       "2 2021-03-15 18:19:54 2021-03-29 15:21:11  300.000000  531107.179242   \n",
       "3 2020-09-15 06:05:57 2020-09-22 02:53:08  274.955417  103062.834106   \n",
       "4 2021-03-16 17:51:52 2021-05-26 11:39:29    0.288283     510.000000   \n",
       "\n",
       "   eth_burned    usdc_burned  eth_rate_mint  eth_rate_burn  time_in_pool_days  \\\n",
       "0   23.154603   48629.035651    1774.798115    2100.188671          21.014745   \n",
       "1   13.155506   26796.573335    1777.463818    2036.909381          18.967685   \n",
       "2  301.830800  534878.617463    1770.357264    1772.114104          13.875891   \n",
       "3  289.760290   99079.314746     374.834710     341.935449           6.866100   \n",
       "4    0.251146     708.631503    1769.095511    2821.596332          70.741400   \n",
       "\n",
       "     hold_value     liq_value  rate_change  mint_vol  burn_vol  Burn_Price  \\\n",
       "0  9.678517e+04  9.725807e+04   325.390556  5.206616  4.030565     2106.41   \n",
       "1  2.290304e+04  5.359315e+04   259.445563  5.206616  4.179242     2008.59   \n",
       "2  1.062741e+06  1.069757e+06     1.756840  5.206616  3.871865     1816.69   \n",
       "3  1.970798e+05  1.981586e+05   -32.899261  3.723606  3.376971      344.03   \n",
       "4  1.323418e+03  1.417263e+03  1052.500821  5.131860  6.692133     2884.66   \n",
       "\n",
       "   Mint_Price  Burn_Volume  Mint_Volume  Mint_PerChange  Burn_PerChange  \\\n",
       "0     1792.38    2310000.0    1700000.0         -0.0307          0.0147   \n",
       "1     1792.38    2010000.0    1700000.0         -0.0307         -0.0590   \n",
       "2     1792.38    1940000.0    1700000.0         -0.0307          0.0770   \n",
       "3      364.01    9290000.0    9060000.0         -0.0337          0.0080   \n",
       "4     1804.85    2660000.0    1810000.0          0.0070          0.0664   \n",
       "\n",
       "   net_value_vs_holding_percentage  net_value_vs_holding_raw  \\\n",
       "0                         0.488608                472.900565   \n",
       "1                       134.000112              30690.103527   \n",
       "2                         0.660163               7015.824446   \n",
       "3                         0.547388               1078.791236   \n",
       "4                         7.091109                 93.845008   \n",
       "\n",
       "   gain_as_percentage  \n",
       "0            9.844454  \n",
       "1          151.149489  \n",
       "2            0.834389  \n",
       "3           -2.605269  \n",
       "4           38.957546  "
      ]
     },
     "execution_count": 62,
     "metadata": {},
     "output_type": "execute_result"
    }
   ],
   "source": [
    "masterdf.head()"
   ]
  },
  {
   "cell_type": "code",
   "execution_count": 63,
   "id": "326d8d0c",
   "metadata": {
    "scrolled": false
   },
   "outputs": [
    {
     "data": {
      "text/plain": [
       "Index(['wallet_address', 'time_in_pool', 'actual_gain', 'mint_time',\n",
       "       'burn_time', 'eth_minted', 'usdc_minted', 'eth_burned', 'usdc_burned',\n",
       "       'eth_rate_mint', 'eth_rate_burn', 'time_in_pool_days', 'hold_value',\n",
       "       'liq_value', 'rate_change', 'mint_vol', 'burn_vol', 'Burn_Price',\n",
       "       'Mint_Price', 'Burn_Volume', 'Mint_Volume', 'Mint_PerChange',\n",
       "       'Burn_PerChange', 'net_value_vs_holding_percentage',\n",
       "       'net_value_vs_holding_raw', 'gain_as_percentage'],\n",
       "      dtype='object')"
      ]
     },
     "execution_count": 63,
     "metadata": {},
     "output_type": "execute_result"
    }
   ],
   "source": [
    "masterdf.columns"
   ]
  },
  {
   "cell_type": "markdown",
   "id": "7f84a999",
   "metadata": {},
   "source": [
    "# Exploratory Data Analysis on NVH"
   ]
  },
  {
   "cell_type": "code",
   "execution_count": 64,
   "id": "62976976",
   "metadata": {},
   "outputs": [
    {
     "data": {
      "text/html": [
       "<div>\n",
       "<style scoped>\n",
       "    .dataframe tbody tr th:only-of-type {\n",
       "        vertical-align: middle;\n",
       "    }\n",
       "\n",
       "    .dataframe tbody tr th {\n",
       "        vertical-align: top;\n",
       "    }\n",
       "\n",
       "    .dataframe thead th {\n",
       "        text-align: right;\n",
       "    }\n",
       "</style>\n",
       "<table border=\"1\" class=\"dataframe\">\n",
       "  <thead>\n",
       "    <tr style=\"text-align: right;\">\n",
       "      <th></th>\n",
       "      <th>time_in_pool</th>\n",
       "      <th>actual_gain</th>\n",
       "      <th>eth_minted</th>\n",
       "      <th>usdc_minted</th>\n",
       "      <th>eth_burned</th>\n",
       "      <th>usdc_burned</th>\n",
       "      <th>eth_rate_mint</th>\n",
       "      <th>eth_rate_burn</th>\n",
       "      <th>time_in_pool_days</th>\n",
       "      <th>hold_value</th>\n",
       "      <th>liq_value</th>\n",
       "      <th>rate_change</th>\n",
       "      <th>mint_vol</th>\n",
       "      <th>burn_vol</th>\n",
       "      <th>Burn_Price</th>\n",
       "      <th>Mint_Price</th>\n",
       "      <th>Burn_Volume</th>\n",
       "      <th>Mint_Volume</th>\n",
       "      <th>Mint_PerChange</th>\n",
       "      <th>Burn_PerChange</th>\n",
       "      <th>net_value_vs_holding_percentage</th>\n",
       "      <th>net_value_vs_holding_raw</th>\n",
       "      <th>gain_as_percentage</th>\n",
       "    </tr>\n",
       "  </thead>\n",
       "  <tbody>\n",
       "    <tr>\n",
       "      <th>count</th>\n",
       "      <td>282</td>\n",
       "      <td>2.820000e+02</td>\n",
       "      <td>282.000000</td>\n",
       "      <td>2.820000e+02</td>\n",
       "      <td>282.000000</td>\n",
       "      <td>2.820000e+02</td>\n",
       "      <td>282.000000</td>\n",
       "      <td>282.000000</td>\n",
       "      <td>282.000000</td>\n",
       "      <td>2.820000e+02</td>\n",
       "      <td>2.820000e+02</td>\n",
       "      <td>282.000000</td>\n",
       "      <td>282.000000</td>\n",
       "      <td>282.000000</td>\n",
       "      <td>282.000000</td>\n",
       "      <td>282.000000</td>\n",
       "      <td>2.820000e+02</td>\n",
       "      <td>2.820000e+02</td>\n",
       "      <td>282.000000</td>\n",
       "      <td>282.000000</td>\n",
       "      <td>282.000000</td>\n",
       "      <td>2.820000e+02</td>\n",
       "      <td>282.000000</td>\n",
       "    </tr>\n",
       "    <tr>\n",
       "      <th>mean</th>\n",
       "      <td>19 days 17:58:18.088652482</td>\n",
       "      <td>5.613464e+04</td>\n",
       "      <td>137.395053</td>\n",
       "      <td>9.696597e+04</td>\n",
       "      <td>193.327384</td>\n",
       "      <td>1.251628e+05</td>\n",
       "      <td>946.069398</td>\n",
       "      <td>1165.257865</td>\n",
       "      <td>19.748820</td>\n",
       "      <td>2.012350e+05</td>\n",
       "      <td>2.503256e+05</td>\n",
       "      <td>219.188467</td>\n",
       "      <td>4.511446</td>\n",
       "      <td>4.205925</td>\n",
       "      <td>1176.424610</td>\n",
       "      <td>953.347057</td>\n",
       "      <td>6.300627e+06</td>\n",
       "      <td>7.557667e+06</td>\n",
       "      <td>0.003740</td>\n",
       "      <td>0.003973</td>\n",
       "      <td>319.485037</td>\n",
       "      <td>4.909062e+04</td>\n",
       "      <td>362.557306</td>\n",
       "    </tr>\n",
       "    <tr>\n",
       "      <th>std</th>\n",
       "      <td>40 days 16:20:35.202732944</td>\n",
       "      <td>4.023000e+05</td>\n",
       "      <td>511.237311</td>\n",
       "      <td>7.351571e+05</td>\n",
       "      <td>719.157691</td>\n",
       "      <td>7.263119e+05</td>\n",
       "      <td>714.040876</td>\n",
       "      <td>988.893738</td>\n",
       "      <td>40.680963</td>\n",
       "      <td>1.403663e+06</td>\n",
       "      <td>1.452624e+06</td>\n",
       "      <td>513.064979</td>\n",
       "      <td>1.067356</td>\n",
       "      <td>1.066671</td>\n",
       "      <td>1001.253624</td>\n",
       "      <td>711.654537</td>\n",
       "      <td>4.503858e+06</td>\n",
       "      <td>6.287566e+06</td>\n",
       "      <td>0.040039</td>\n",
       "      <td>0.052142</td>\n",
       "      <td>2779.397486</td>\n",
       "      <td>3.738429e+05</td>\n",
       "      <td>3150.340357</td>\n",
       "    </tr>\n",
       "    <tr>\n",
       "      <th>min</th>\n",
       "      <td>0 days 00:02:10</td>\n",
       "      <td>-1.488241e+06</td>\n",
       "      <td>0.030000</td>\n",
       "      <td>1.853751e+01</td>\n",
       "      <td>0.052710</td>\n",
       "      <td>1.766431e+01</td>\n",
       "      <td>339.531253</td>\n",
       "      <td>324.483977</td>\n",
       "      <td>0.001505</td>\n",
       "      <td>3.524906e+01</td>\n",
       "      <td>3.532862e+01</td>\n",
       "      <td>-1223.699769</td>\n",
       "      <td>2.756788</td>\n",
       "      <td>2.756788</td>\n",
       "      <td>341.300000</td>\n",
       "      <td>350.830000</td>\n",
       "      <td>5.959600e+05</td>\n",
       "      <td>2.703000e+04</td>\n",
       "      <td>-0.131000</td>\n",
       "      <td>-0.278900</td>\n",
       "      <td>-40.097436</td>\n",
       "      <td>-1.458694e+05</td>\n",
       "      <td>-14.860766</td>\n",
       "    </tr>\n",
       "    <tr>\n",
       "      <th>25%</th>\n",
       "      <td>0 days 18:01:23.750000</td>\n",
       "      <td>1.843414e+00</td>\n",
       "      <td>1.999286</td>\n",
       "      <td>1.708753e+03</td>\n",
       "      <td>2.163105</td>\n",
       "      <td>1.892309e+03</td>\n",
       "      <td>367.959108</td>\n",
       "      <td>369.022991</td>\n",
       "      <td>0.750969</td>\n",
       "      <td>3.528987e+03</td>\n",
       "      <td>3.784618e+03</td>\n",
       "      <td>-0.534191</td>\n",
       "      <td>3.723606</td>\n",
       "      <td>3.622956</td>\n",
       "      <td>373.720000</td>\n",
       "      <td>373.720000</td>\n",
       "      <td>1.872500e+06</td>\n",
       "      <td>1.700000e+06</td>\n",
       "      <td>-0.030700</td>\n",
       "      <td>-0.030700</td>\n",
       "      <td>0.002593</td>\n",
       "      <td>2.291672e-01</td>\n",
       "      <td>0.084427</td>\n",
       "    </tr>\n",
       "    <tr>\n",
       "      <th>50%</th>\n",
       "      <td>3 days 03:41:37</td>\n",
       "      <td>2.750105e+02</td>\n",
       "      <td>11.443564</td>\n",
       "      <td>7.342932e+03</td>\n",
       "      <td>13.145928</td>\n",
       "      <td>9.058564e+03</td>\n",
       "      <td>386.831691</td>\n",
       "      <td>389.233157</td>\n",
       "      <td>3.153900</td>\n",
       "      <td>1.552606e+04</td>\n",
       "      <td>1.811713e+04</td>\n",
       "      <td>9.804380</td>\n",
       "      <td>4.248569</td>\n",
       "      <td>3.847642</td>\n",
       "      <td>392.630000</td>\n",
       "      <td>387.980000</td>\n",
       "      <td>6.610000e+06</td>\n",
       "      <td>7.930000e+06</td>\n",
       "      <td>0.015800</td>\n",
       "      <td>0.007000</td>\n",
       "      <td>0.065100</td>\n",
       "      <td>1.289301e+01</td>\n",
       "      <td>1.763707</td>\n",
       "    </tr>\n",
       "    <tr>\n",
       "      <th>75%</th>\n",
       "      <td>19 days 21:00:26.750000</td>\n",
       "      <td>4.038842e+03</td>\n",
       "      <td>53.969903</td>\n",
       "      <td>2.934719e+04</td>\n",
       "      <td>67.367761</td>\n",
       "      <td>3.926161e+04</td>\n",
       "      <td>1769.091554</td>\n",
       "      <td>1982.765870</td>\n",
       "      <td>19.875310</td>\n",
       "      <td>6.328580e+04</td>\n",
       "      <td>7.852322e+04</td>\n",
       "      <td>257.078923</td>\n",
       "      <td>5.206616</td>\n",
       "      <td>4.427107</td>\n",
       "      <td>1959.992500</td>\n",
       "      <td>1792.380000</td>\n",
       "      <td>1.038000e+07</td>\n",
       "      <td>1.149000e+07</td>\n",
       "      <td>0.037025</td>\n",
       "      <td>0.032275</td>\n",
       "      <td>0.749113</td>\n",
       "      <td>1.802662e+02</td>\n",
       "      <td>19.234426</td>\n",
       "    </tr>\n",
       "    <tr>\n",
       "      <th>max</th>\n",
       "      <td>242 days 16:20:27</td>\n",
       "      <td>4.397719e+06</td>\n",
       "      <td>6566.459282</td>\n",
       "      <td>1.211311e+07</td>\n",
       "      <td>7016.584997</td>\n",
       "      <td>1.137900e+07</td>\n",
       "      <td>3519.197335</td>\n",
       "      <td>4221.417937</td>\n",
       "      <td>242.680868</td>\n",
       "      <td>2.276213e+07</td>\n",
       "      <td>2.275799e+07</td>\n",
       "      <td>3778.906309</td>\n",
       "      <td>8.492126</td>\n",
       "      <td>9.103957</td>\n",
       "      <td>4273.540000</td>\n",
       "      <td>3377.550000</td>\n",
       "      <td>2.686000e+07</td>\n",
       "      <td>4.968000e+07</td>\n",
       "      <td>0.106600</td>\n",
       "      <td>0.259600</td>\n",
       "      <td>32452.987726</td>\n",
       "      <td>4.410653e+06</td>\n",
       "      <td>40116.167528</td>\n",
       "    </tr>\n",
       "  </tbody>\n",
       "</table>\n",
       "</div>"
      ],
      "text/plain": [
       "                     time_in_pool   actual_gain   eth_minted   usdc_minted  \\\n",
       "count                         282  2.820000e+02   282.000000  2.820000e+02   \n",
       "mean   19 days 17:58:18.088652482  5.613464e+04   137.395053  9.696597e+04   \n",
       "std    40 days 16:20:35.202732944  4.023000e+05   511.237311  7.351571e+05   \n",
       "min               0 days 00:02:10 -1.488241e+06     0.030000  1.853751e+01   \n",
       "25%        0 days 18:01:23.750000  1.843414e+00     1.999286  1.708753e+03   \n",
       "50%               3 days 03:41:37  2.750105e+02    11.443564  7.342932e+03   \n",
       "75%       19 days 21:00:26.750000  4.038842e+03    53.969903  2.934719e+04   \n",
       "max             242 days 16:20:27  4.397719e+06  6566.459282  1.211311e+07   \n",
       "\n",
       "        eth_burned   usdc_burned  eth_rate_mint  eth_rate_burn  \\\n",
       "count   282.000000  2.820000e+02     282.000000     282.000000   \n",
       "mean    193.327384  1.251628e+05     946.069398    1165.257865   \n",
       "std     719.157691  7.263119e+05     714.040876     988.893738   \n",
       "min       0.052710  1.766431e+01     339.531253     324.483977   \n",
       "25%       2.163105  1.892309e+03     367.959108     369.022991   \n",
       "50%      13.145928  9.058564e+03     386.831691     389.233157   \n",
       "75%      67.367761  3.926161e+04    1769.091554    1982.765870   \n",
       "max    7016.584997  1.137900e+07    3519.197335    4221.417937   \n",
       "\n",
       "       time_in_pool_days    hold_value     liq_value  rate_change    mint_vol  \\\n",
       "count         282.000000  2.820000e+02  2.820000e+02   282.000000  282.000000   \n",
       "mean           19.748820  2.012350e+05  2.503256e+05   219.188467    4.511446   \n",
       "std            40.680963  1.403663e+06  1.452624e+06   513.064979    1.067356   \n",
       "min             0.001505  3.524906e+01  3.532862e+01 -1223.699769    2.756788   \n",
       "25%             0.750969  3.528987e+03  3.784618e+03    -0.534191    3.723606   \n",
       "50%             3.153900  1.552606e+04  1.811713e+04     9.804380    4.248569   \n",
       "75%            19.875310  6.328580e+04  7.852322e+04   257.078923    5.206616   \n",
       "max           242.680868  2.276213e+07  2.275799e+07  3778.906309    8.492126   \n",
       "\n",
       "         burn_vol   Burn_Price   Mint_Price   Burn_Volume   Mint_Volume  \\\n",
       "count  282.000000   282.000000   282.000000  2.820000e+02  2.820000e+02   \n",
       "mean     4.205925  1176.424610   953.347057  6.300627e+06  7.557667e+06   \n",
       "std      1.066671  1001.253624   711.654537  4.503858e+06  6.287566e+06   \n",
       "min      2.756788   341.300000   350.830000  5.959600e+05  2.703000e+04   \n",
       "25%      3.622956   373.720000   373.720000  1.872500e+06  1.700000e+06   \n",
       "50%      3.847642   392.630000   387.980000  6.610000e+06  7.930000e+06   \n",
       "75%      4.427107  1959.992500  1792.380000  1.038000e+07  1.149000e+07   \n",
       "max      9.103957  4273.540000  3377.550000  2.686000e+07  4.968000e+07   \n",
       "\n",
       "       Mint_PerChange  Burn_PerChange  net_value_vs_holding_percentage  \\\n",
       "count      282.000000      282.000000                       282.000000   \n",
       "mean         0.003740        0.003973                       319.485037   \n",
       "std          0.040039        0.052142                      2779.397486   \n",
       "min         -0.131000       -0.278900                       -40.097436   \n",
       "25%         -0.030700       -0.030700                         0.002593   \n",
       "50%          0.015800        0.007000                         0.065100   \n",
       "75%          0.037025        0.032275                         0.749113   \n",
       "max          0.106600        0.259600                     32452.987726   \n",
       "\n",
       "       net_value_vs_holding_raw  gain_as_percentage  \n",
       "count              2.820000e+02          282.000000  \n",
       "mean               4.909062e+04          362.557306  \n",
       "std                3.738429e+05         3150.340357  \n",
       "min               -1.458694e+05          -14.860766  \n",
       "25%                2.291672e-01            0.084427  \n",
       "50%                1.289301e+01            1.763707  \n",
       "75%                1.802662e+02           19.234426  \n",
       "max                4.410653e+06        40116.167528  "
      ]
     },
     "execution_count": 64,
     "metadata": {},
     "output_type": "execute_result"
    }
   ],
   "source": [
    "masterdf.describe()"
   ]
  },
  {
   "cell_type": "code",
   "execution_count": 853,
   "id": "d6b9ebc9",
   "metadata": {},
   "outputs": [
    {
     "data": {
      "text/plain": [
       "<AxesSubplot:xlabel='eth_burned', ylabel='net_value_vs_holding_percentage'>"
      ]
     },
     "execution_count": 853,
     "metadata": {},
     "output_type": "execute_result"
    },
    {
     "data": {
      "image/png": "[encoded data removed]",
      "text/plain": [
       "<Figure size 432x288 with 1 Axes>"
      ]
     },
     "metadata": {},
     "output_type": "display_data"
    }
   ],
   "source": [
    "masterdf.plot(x='eth_burned',y='net_value_vs_holding_percentage',kind='scatter')"
   ]
  },
  {
   "cell_type": "markdown",
   "id": "a056fc5e",
   "metadata": {},
   "source": [
    "## Statistical Distributions"
   ]
  },
  {
   "cell_type": "code",
   "execution_count": 854,
   "id": "f22e7324",
   "metadata": {},
   "outputs": [],
   "source": [
    "def quartile_analysis(num_quartiles):\n",
    "    quartile_temp_df = masterdf.copy()\n",
    "    quartile_temp_df['y_quartile'] = pd.qcut(quartile_temp_df['net_value_vs_holding_percentage'], \n",
    "                                             num_quartiles, labels=range(num_quartiles))\n",
    "    grouped_quartile_df = quartile_temp_df.groupby('y_quartile').mean()\n",
    "    grouped_quartile_df = grouped_quartile_df.reset_index()\n",
    "    print(grouped_quartile_df.corr().net_value_vs_holding_percentage)\n",
    "    \n",
    "    grouped_quartile_df.plot(x='eth_rate_burn',y='y_quartile',kind='scatter')\n",
    "    grouped_quartile_df.plot(x='eth_burned',y='y_quartile',kind='scatter')"
   ]
  },
  {
   "cell_type": "code",
   "execution_count": 857,
   "id": "aaa65842",
   "metadata": {
    "scrolled": true
   },
   "outputs": [
    {
     "name": "stdout",
     "output_type": "stream",
     "text": [
      "actual_gain                        0.97192\n",
      "eth_minted                        -0.17229\n",
      "usdc_minted                       -0.10160\n",
      "eth_burned                         0.83777\n",
      "usdc_burned                        0.37538\n",
      "eth_rate_mint                     -0.08767\n",
      "eth_rate_burn                     -0.04500\n",
      "time_in_pool_days                  0.13232\n",
      "hold_value                        -0.11168\n",
      "liq_value                          0.37538\n",
      "rate_change                        0.01590\n",
      "mint_vol                           0.00532\n",
      "burn_vol                          -0.13325\n",
      "Burn_Price                        -0.04095\n",
      "Mint_Price                        -0.07975\n",
      "Burn_Volume                       -0.00628\n",
      "Mint_Volume                        0.19082\n",
      "Mint_PerChange                     0.38999\n",
      "Burn_PerChange                    -0.11058\n",
      "net_value_vs_holding_percentage    1.00000\n",
      "net_value_vs_holding_raw           0.99704\n",
      "gain_as_percentage                 0.99991\n",
      "Name: net_value_vs_holding_percentage, dtype: float64\n"
     ]
    },
    {
     "data": {
      "image/png": "[encoded data removed]",
      "text/plain": [
       "<Figure size 432x288 with 1 Axes>"
      ]
     },
     "metadata": {},
     "output_type": "display_data"
    },
    {
     "data": {
      "image/png": "[encoded data removed]",
      "text/plain": [
       "<Figure size 432x288 with 1 Axes>"
      ]
     },
     "metadata": {},
     "output_type": "display_data"
    }
   ],
   "source": [
    "quartile_analysis(20)"
   ]
  },
  {
   "cell_type": "markdown",
   "id": "522c494a",
   "metadata": {},
   "source": [
    "## Approach 1: Group by quantile "
   ]
  },
  {
   "cell_type": "code",
   "execution_count": 65,
   "id": "ad0f87f4",
   "metadata": {},
   "outputs": [],
   "source": [
    "masterdf['y_q'] = pd.qcut(masterdf['net_value_vs_holding_percentage'], 20, labels=range(20))"
   ]
  },
  {
   "cell_type": "code",
   "execution_count": 66,
   "id": "775f8ad3",
   "metadata": {},
   "outputs": [],
   "source": [
    "gdf = masterdf.groupby('y_q').mean()\n",
    "gdf = gdf.reset_index()"
   ]
  },
  {
   "cell_type": "code",
   "execution_count": 67,
   "id": "323869a7",
   "metadata": {},
   "outputs": [
    {
     "data": {
      "text/html": [
       "<div>\n",
       "<style scoped>\n",
       "    .dataframe tbody tr th:only-of-type {\n",
       "        vertical-align: middle;\n",
       "    }\n",
       "\n",
       "    .dataframe tbody tr th {\n",
       "        vertical-align: top;\n",
       "    }\n",
       "\n",
       "    .dataframe thead th {\n",
       "        text-align: right;\n",
       "    }\n",
       "</style>\n",
       "<table border=\"1\" class=\"dataframe\">\n",
       "  <thead>\n",
       "    <tr style=\"text-align: right;\">\n",
       "      <th></th>\n",
       "      <th>y_q</th>\n",
       "      <th>actual_gain</th>\n",
       "      <th>eth_minted</th>\n",
       "      <th>usdc_minted</th>\n",
       "      <th>eth_burned</th>\n",
       "      <th>usdc_burned</th>\n",
       "      <th>eth_rate_mint</th>\n",
       "      <th>eth_rate_burn</th>\n",
       "      <th>time_in_pool_days</th>\n",
       "      <th>hold_value</th>\n",
       "      <th>liq_value</th>\n",
       "      <th>rate_change</th>\n",
       "      <th>mint_vol</th>\n",
       "      <th>burn_vol</th>\n",
       "      <th>Burn_Price</th>\n",
       "      <th>Mint_Price</th>\n",
       "      <th>Burn_Volume</th>\n",
       "      <th>Mint_Volume</th>\n",
       "      <th>Mint_PerChange</th>\n",
       "      <th>Burn_PerChange</th>\n",
       "      <th>net_value_vs_holding_percentage</th>\n",
       "      <th>net_value_vs_holding_raw</th>\n",
       "      <th>gain_as_percentage</th>\n",
       "    </tr>\n",
       "  </thead>\n",
       "  <tbody>\n",
       "    <tr>\n",
       "      <th>0</th>\n",
       "      <td>0</td>\n",
       "      <td>47689.839943</td>\n",
       "      <td>37.884390</td>\n",
       "      <td>20633.771236</td>\n",
       "      <td>21.330444</td>\n",
       "      <td>44472.647769</td>\n",
       "      <td>999.059758</td>\n",
       "      <td>2483.578154</td>\n",
       "      <td>85.690213</td>\n",
       "      <td>1.060049e+05</td>\n",
       "      <td>8.894530e+04</td>\n",
       "      <td>1484.518396</td>\n",
       "      <td>4.498007</td>\n",
       "      <td>5.748619</td>\n",
       "      <td>2514.625333</td>\n",
       "      <td>1008.960667</td>\n",
       "      <td>2.256000e+06</td>\n",
       "      <td>5.166000e+06</td>\n",
       "      <td>0.002353</td>\n",
       "      <td>0.009500</td>\n",
       "      <td>-7.874116</td>\n",
       "      <td>-17059.633450</td>\n",
       "      <td>77.009877</td>\n",
       "    </tr>\n",
       "    <tr>\n",
       "      <th>1</th>\n",
       "      <td>1</td>\n",
       "      <td>-100674.432795</td>\n",
       "      <td>497.412439</td>\n",
       "      <td>890325.318600</td>\n",
       "      <td>528.611506</td>\n",
       "      <td>840707.706694</td>\n",
       "      <td>1153.974523</td>\n",
       "      <td>1214.425119</td>\n",
       "      <td>7.409828</td>\n",
       "      <td>1.681933e+06</td>\n",
       "      <td>1.681415e+06</td>\n",
       "      <td>60.450596</td>\n",
       "      <td>4.810701</td>\n",
       "      <td>4.662591</td>\n",
       "      <td>1251.346429</td>\n",
       "      <td>1165.981429</td>\n",
       "      <td>4.396429e+06</td>\n",
       "      <td>4.461264e+06</td>\n",
       "      <td>0.008207</td>\n",
       "      <td>0.005214</td>\n",
       "      <td>-0.199494</td>\n",
       "      <td>-518.001772</td>\n",
       "      <td>2.674486</td>\n",
       "    </tr>\n",
       "    <tr>\n",
       "      <th>2</th>\n",
       "      <td>2</td>\n",
       "      <td>3728.777091</td>\n",
       "      <td>313.850272</td>\n",
       "      <td>135445.918395</td>\n",
       "      <td>309.755238</td>\n",
       "      <td>137279.697957</td>\n",
       "      <td>841.651777</td>\n",
       "      <td>863.857735</td>\n",
       "      <td>1.366710</td>\n",
       "      <td>2.745742e+05</td>\n",
       "      <td>2.745594e+05</td>\n",
       "      <td>22.205958</td>\n",
       "      <td>4.208118</td>\n",
       "      <td>4.125218</td>\n",
       "      <td>853.532143</td>\n",
       "      <td>831.072857</td>\n",
       "      <td>7.837143e+06</td>\n",
       "      <td>7.835000e+06</td>\n",
       "      <td>-0.006629</td>\n",
       "      <td>-0.004829</td>\n",
       "      <td>-0.004511</td>\n",
       "      <td>-14.843727</td>\n",
       "      <td>0.647787</td>\n",
       "    </tr>\n",
       "    <tr>\n",
       "      <th>3</th>\n",
       "      <td>3</td>\n",
       "      <td>18.979922</td>\n",
       "      <td>37.915449</td>\n",
       "      <td>18258.617309</td>\n",
       "      <td>37.877128</td>\n",
       "      <td>18275.090910</td>\n",
       "      <td>935.098534</td>\n",
       "      <td>935.632252</td>\n",
       "      <td>0.015069</td>\n",
       "      <td>3.655006e+04</td>\n",
       "      <td>3.655018e+04</td>\n",
       "      <td>0.533718</td>\n",
       "      <td>4.440829</td>\n",
       "      <td>4.440829</td>\n",
       "      <td>946.629286</td>\n",
       "      <td>946.629286</td>\n",
       "      <td>6.537857e+06</td>\n",
       "      <td>6.537857e+06</td>\n",
       "      <td>0.004521</td>\n",
       "      <td>0.004521</td>\n",
       "      <td>0.000281</td>\n",
       "      <td>0.118153</td>\n",
       "      <td>0.021303</td>\n",
       "    </tr>\n",
       "    <tr>\n",
       "      <th>4</th>\n",
       "      <td>4</td>\n",
       "      <td>527.935513</td>\n",
       "      <td>304.033215</td>\n",
       "      <td>109576.407217</td>\n",
       "      <td>303.201797</td>\n",
       "      <td>109883.246655</td>\n",
       "      <td>476.538275</td>\n",
       "      <td>477.723113</td>\n",
       "      <td>0.076769</td>\n",
       "      <td>2.197626e+05</td>\n",
       "      <td>2.197665e+05</td>\n",
       "      <td>1.184837</td>\n",
       "      <td>4.101354</td>\n",
       "      <td>4.102845</td>\n",
       "      <td>487.701429</td>\n",
       "      <td>488.877857</td>\n",
       "      <td>1.048786e+07</td>\n",
       "      <td>1.085071e+07</td>\n",
       "      <td>0.017450</td>\n",
       "      <td>0.008329</td>\n",
       "      <td>0.001567</td>\n",
       "      <td>3.891661</td>\n",
       "      <td>0.082230</td>\n",
       "    </tr>\n",
       "  </tbody>\n",
       "</table>\n",
       "</div>"
      ],
      "text/plain": [
       "  y_q    actual_gain  eth_minted    usdc_minted  eth_burned    usdc_burned  \\\n",
       "0   0   47689.839943   37.884390   20633.771236   21.330444   44472.647769   \n",
       "1   1 -100674.432795  497.412439  890325.318600  528.611506  840707.706694   \n",
       "2   2    3728.777091  313.850272  135445.918395  309.755238  137279.697957   \n",
       "3   3      18.979922   37.915449   18258.617309   37.877128   18275.090910   \n",
       "4   4     527.935513  304.033215  109576.407217  303.201797  109883.246655   \n",
       "\n",
       "   eth_rate_mint  eth_rate_burn  time_in_pool_days    hold_value  \\\n",
       "0     999.059758    2483.578154          85.690213  1.060049e+05   \n",
       "1    1153.974523    1214.425119           7.409828  1.681933e+06   \n",
       "2     841.651777     863.857735           1.366710  2.745742e+05   \n",
       "3     935.098534     935.632252           0.015069  3.655006e+04   \n",
       "4     476.538275     477.723113           0.076769  2.197626e+05   \n",
       "\n",
       "      liq_value  rate_change  mint_vol  burn_vol   Burn_Price   Mint_Price  \\\n",
       "0  8.894530e+04  1484.518396  4.498007  5.748619  2514.625333  1008.960667   \n",
       "1  1.681415e+06    60.450596  4.810701  4.662591  1251.346429  1165.981429   \n",
       "2  2.745594e+05    22.205958  4.208118  4.125218   853.532143   831.072857   \n",
       "3  3.655018e+04     0.533718  4.440829  4.440829   946.629286   946.629286   \n",
       "4  2.197665e+05     1.184837  4.101354  4.102845   487.701429   488.877857   \n",
       "\n",
       "    Burn_Volume   Mint_Volume  Mint_PerChange  Burn_PerChange  \\\n",
       "0  2.256000e+06  5.166000e+06        0.002353        0.009500   \n",
       "1  4.396429e+06  4.461264e+06        0.008207        0.005214   \n",
       "2  7.837143e+06  7.835000e+06       -0.006629       -0.004829   \n",
       "3  6.537857e+06  6.537857e+06        0.004521        0.004521   \n",
       "4  1.048786e+07  1.085071e+07        0.017450        0.008329   \n",
       "\n",
       "   net_value_vs_holding_percentage  net_value_vs_holding_raw  \\\n",
       "0                        -7.874116             -17059.633450   \n",
       "1                        -0.199494               -518.001772   \n",
       "2                        -0.004511                -14.843727   \n",
       "3                         0.000281                  0.118153   \n",
       "4                         0.001567                  3.891661   \n",
       "\n",
       "   gain_as_percentage  \n",
       "0           77.009877  \n",
       "1            2.674486  \n",
       "2            0.647787  \n",
       "3            0.021303  \n",
       "4            0.082230  "
      ]
     },
     "execution_count": 67,
     "metadata": {},
     "output_type": "execute_result"
    }
   ],
   "source": [
    "gdf.head()"
   ]
  },
  {
   "cell_type": "code",
   "execution_count": 68,
   "id": "117b9350",
   "metadata": {
    "scrolled": true
   },
   "outputs": [
    {
     "data": {
      "text/plain": [
       "<AxesSubplot:>"
      ]
     },
     "execution_count": 68,
     "metadata": {},
     "output_type": "execute_result"
    },
    {
     "data": {
      "image/png": "[encoded data removed]",
      "text/plain": [
       "<Figure size 432x288 with 1 Axes>"
      ]
     },
     "metadata": {
      "needs_background": "light"
     },
     "output_type": "display_data"
    }
   ],
   "source": [
    "gdf.eth_rate_mint.plot()"
   ]
  },
  {
   "cell_type": "code",
   "execution_count": 69,
   "id": "817abbf9",
   "metadata": {},
   "outputs": [
    {
     "data": {
      "text/plain": [
       "actual_gain                        0.971922\n",
       "eth_minted                        -0.172293\n",
       "usdc_minted                       -0.101604\n",
       "eth_burned                         0.837767\n",
       "usdc_burned                        0.375377\n",
       "eth_rate_mint                     -0.087667\n",
       "eth_rate_burn                     -0.044998\n",
       "time_in_pool_days                  0.132318\n",
       "hold_value                        -0.111679\n",
       "liq_value                          0.375377\n",
       "rate_change                        0.015899\n",
       "mint_vol                           0.005320\n",
       "burn_vol                          -0.133245\n",
       "Burn_Price                        -0.040953\n",
       "Mint_Price                        -0.079747\n",
       "Burn_Volume                       -0.006278\n",
       "Mint_Volume                        0.190822\n",
       "Mint_PerChange                     0.389991\n",
       "Burn_PerChange                    -0.110579\n",
       "net_value_vs_holding_percentage    1.000000\n",
       "net_value_vs_holding_raw           0.997039\n",
       "gain_as_percentage                 0.999911\n",
       "Name: net_value_vs_holding_percentage, dtype: float64"
      ]
     },
     "execution_count": 69,
     "metadata": {},
     "output_type": "execute_result"
    }
   ],
   "source": [
    "# can do classification problem on y_q rather than regression problem on y\n",
    "gdf.corr().net_value_vs_holding_percentage"
   ]
  },
  {
   "cell_type": "code",
   "execution_count": 70,
   "id": "4f422001",
   "metadata": {
    "scrolled": true
   },
   "outputs": [
    {
     "data": {
      "text/plain": [
       "<AxesSubplot:xlabel='eth_rate_burn', ylabel='y_q'>"
      ]
     },
     "execution_count": 70,
     "metadata": {},
     "output_type": "execute_result"
    },
    {
     "data": {
      "image/png": "[encoded data removed]",
      "text/plain": [
       "<Figure size 432x288 with 1 Axes>"
      ]
     },
     "metadata": {
      "needs_background": "light"
     },
     "output_type": "display_data"
    }
   ],
   "source": [
    "gdf.plot(x='eth_rate_burn',y='y_q',kind='scatter')"
   ]
  },
  {
   "cell_type": "code",
   "execution_count": 71,
   "id": "5762b939",
   "metadata": {
    "scrolled": true
   },
   "outputs": [
    {
     "data": {
      "text/plain": [
       "<AxesSubplot:xlabel='eth_burned', ylabel='y_q'>"
      ]
     },
     "execution_count": 71,
     "metadata": {},
     "output_type": "execute_result"
    },
    {
     "data": {
      "image/png": "[encoded data removed]",
      "text/plain": [
       "<Figure size 432x288 with 1 Axes>"
      ]
     },
     "metadata": {
      "needs_background": "light"
     },
     "output_type": "display_data"
    }
   ],
   "source": [
    "gdf.plot(x='eth_burned',y='y_q',kind='scatter')"
   ]
  },
  {
   "cell_type": "code",
   "execution_count": 72,
   "id": "acf4b8c8",
   "metadata": {},
   "outputs": [
    {
     "data": {
      "text/plain": [
       "<AxesSubplot:xlabel='eth_burned', ylabel='y_q'>"
      ]
     },
     "execution_count": 72,
     "metadata": {},
     "output_type": "execute_result"
    },
    {
     "data": {
      "image/png": "[encoded data removed]",
      "text/plain": [
       "<Figure size 432x288 with 1 Axes>"
      ]
     },
     "metadata": {
      "needs_background": "light"
     },
     "output_type": "display_data"
    }
   ],
   "source": [
    "gdf.plot(x='eth_burned',y='y_q',kind='scatter')"
   ]
  },
  {
   "cell_type": "markdown",
   "id": "cf2febbf",
   "metadata": {},
   "source": [
    "## Approach 2: Remove outliers"
   ]
  },
  {
   "cell_type": "code",
   "execution_count": 73,
   "id": "68df0e54",
   "metadata": {
    "scrolled": true
   },
   "outputs": [
    {
     "data": {
      "text/plain": [
       "<AxesSubplot:xlabel='eth_rate_mint', ylabel='net_value_vs_holding_percentage'>"
      ]
     },
     "execution_count": 73,
     "metadata": {},
     "output_type": "execute_result"
    },
    {
     "data": {
      "image/png": "[encoded data removed]",
      "text/plain": [
       "<Figure size 432x288 with 1 Axes>"
      ]
     },
     "metadata": {
      "needs_background": "light"
     },
     "output_type": "display_data"
    }
   ],
   "source": [
    "df = masterdf[masterdf.net_value_vs_holding_percentage < masterdf.net_value_vs_holding_percentage.quantile(0.85)]\n",
    "df = df[df.net_value_vs_holding_percentage > df.net_value_vs_holding_percentage.quantile(.15)]\n",
    "df.plot(x='eth_rate_mint',y='net_value_vs_holding_percentage',kind='scatter')"
   ]
  },
  {
   "cell_type": "code",
   "execution_count": 74,
   "id": "0d9306ae",
   "metadata": {},
   "outputs": [
    {
     "data": {
      "text/plain": [
       "<AxesSubplot:xlabel='eth_burned', ylabel='net_value_vs_holding_percentage'>"
      ]
     },
     "execution_count": 74,
     "metadata": {},
     "output_type": "execute_result"
    },
    {
     "data": {
      "image/png": "[encoded data removed]",
      "text/plain": [
       "<Figure size 432x288 with 1 Axes>"
      ]
     },
     "metadata": {
      "needs_background": "light"
     },
     "output_type": "display_data"
    }
   ],
   "source": [
    "df.plot(x='eth_burned',y='net_value_vs_holding_percentage',kind='scatter')"
   ]
  },
  {
   "cell_type": "code",
   "execution_count": 75,
   "id": "c8b00d3d",
   "metadata": {
    "scrolled": true
   },
   "outputs": [
    {
     "data": {
      "text/plain": [
       "<AxesSubplot:xlabel='eth_rate_burn', ylabel='net_value_vs_holding_percentage'>"
      ]
     },
     "execution_count": 75,
     "metadata": {},
     "output_type": "execute_result"
    },
    {
     "data": {
      "image/png": "[encoded data removed]",
      "text/plain": [
       "<Figure size 432x288 with 1 Axes>"
      ]
     },
     "metadata": {
      "needs_background": "light"
     },
     "output_type": "display_data"
    }
   ],
   "source": [
    "df.plot(x='eth_rate_burn',y='net_value_vs_holding_percentage',kind='scatter')"
   ]
  },
  {
   "cell_type": "markdown",
   "id": "806bf881",
   "metadata": {},
   "source": [
    "## Correlation with other features"
   ]
  },
  {
   "cell_type": "markdown",
   "id": "e4bf99bd-582f-4625-9567-f420a1802f2b",
   "metadata": {},
   "source": [
    "### Relationship with time_in_pool_days"
   ]
  },
  {
   "cell_type": "code",
   "execution_count": 76,
   "id": "15e03e5c-3f36-4cf1-84f1-96a072987edb",
   "metadata": {},
   "outputs": [
    {
     "data": {
      "text/plain": [
       "Text(0, 0.5, 'NVVH quantile')"
      ]
     },
     "execution_count": 76,
     "metadata": {},
     "output_type": "execute_result"
    },
    {
     "data": {
      "image/png": "[encoded data removed]",
      "text/plain": [
       "<Figure size 432x288 with 1 Axes>"
      ]
     },
     "metadata": {
      "needs_background": "light"
     },
     "output_type": "display_data"
    }
   ],
   "source": [
    "df.plot(x='time_in_pool_days',y='y_q',kind='scatter')\n",
    "plt.title('Relationship between time spent in pool and NVVH quantile value')\n",
    "plt.xlabel('time spent in pool (unit: day)')\n",
    "plt.ylabel('NVVH quantile')"
   ]
  },
  {
   "cell_type": "markdown",
   "id": "0e523aad-b4ca-477e-b626-9a91eed8437e",
   "metadata": {},
   "source": [
    "Most people stays in the pool for less than 50 days, and there is a non-linear relationship between NVVH and time in pool. </br>\n",
    "NVVH is relatively high for staying longer in the pool, even though there's no obvious direct cause-and-effect relationship (not necessarily means stay longer can lead to more net gains). </br>"
   ]
  },
  {
   "cell_type": "code",
   "execution_count": 77,
   "id": "831db2d3-b2f5-4963-bfb3-53984cf2ac2e",
   "metadata": {},
   "outputs": [
    {
     "data": {
      "text/plain": [
       "Text(0, 0.5, 'NVVH quantile')"
      ]
     },
     "execution_count": 77,
     "metadata": {},
     "output_type": "execute_result"
    },
    {
     "data": {
      "image/png": "[encoded data removed]",
      "text/plain": [
       "<Figure size 432x288 with 1 Axes>"
      ]
     },
     "metadata": {
      "needs_background": "light"
     },
     "output_type": "display_data"
    }
   ],
   "source": [
    "df['time_q'] = pd.qcut(df['time_in_pool_days'], 20, labels=range(20)) # divide time into quantiles\n",
    "df.plot(x='time_q',y='y_q',kind='scatter')\n",
    "plt.title('Relationship between time spent in pool quantile and NVVH quantile value')\n",
    "plt.xlabel('time spent in pool (quantile scalue)')\n",
    "plt.ylabel('NVVH quantile')"
   ]
  },
  {
   "cell_type": "markdown",
   "id": "1f4f6505-7bee-4a45-a43d-1e7afb6730f1",
   "metadata": {},
   "source": [
    "Reducing the continuous data into quantiles, a higher correlation is discovered. </br>\n",
    "Reasons casuing this relationship may be: </br>\n",
    "    - staying longer in the pool do affect final net gain (potentially more transaction fee gained throughout the process) </br>\n",
    "    - our sample size is relatively small </br>\n",
    "In general, we infer that liquidity provider who stays longer in the pool may be more familiar with the liquidity behavior, thus burning at the relatively good timings. </br>"
   ]
  },
  {
   "cell_type": "markdown",
   "id": "cac2a4cc-6417-4a33-aa40-ece67caf6495",
   "metadata": {},
   "source": [
    "### Relationship with eth_rate_burn"
   ]
  },
  {
   "cell_type": "code",
   "execution_count": 78,
   "id": "0a30220d-7d62-4f73-9b51-cb51aa5792dc",
   "metadata": {},
   "outputs": [
    {
     "data": {
      "text/plain": [
       "Text(0, 0.5, 'NVVH quantile')"
      ]
     },
     "execution_count": 78,
     "metadata": {},
     "output_type": "execute_result"
    },
    {
     "data": {
      "image/png": "[encoded data removed]",
      "text/plain": [
       "<Figure size 432x288 with 1 Axes>"
      ]
     },
     "metadata": {
      "needs_background": "light"
     },
     "output_type": "display_data"
    }
   ],
   "source": [
    "df.plot(x='eth_rate_burn',y='y_q',kind='scatter')\n",
    "plt.title('Relationship between ETH to USDC rate at burn and NVVH quantile value')\n",
    "plt.xlabel('ETH to USDC Rate when burn (how much USDC 1 ETH worth)')\n",
    "plt.ylabel('NVVH quantile')"
   ]
  },
  {
   "cell_type": "markdown",
   "id": "6ea224d7-6edc-436d-a15a-db26c6668dd0",
   "metadata": {},
   "source": [
    "Higher ETH to USDC rate at burn time indicates some relationship to net value especially when rate is greater than 2000 </br>\n",
    "ETH rate fluctuates around 500 - 2000 most of the time, so burning when ETH rate is higher when lead to a higher NVVH </br>"
   ]
  },
  {
   "cell_type": "code",
   "execution_count": 79,
   "id": "a74ff14f-80a2-4bcb-9662-8b50c604b34f",
   "metadata": {},
   "outputs": [
    {
     "data": {
      "text/plain": [
       "Text(0, 0.5, 'NVVH')"
      ]
     },
     "execution_count": 79,
     "metadata": {},
     "output_type": "execute_result"
    },
    {
     "data": {
      "image/png": "[encoded data removed]",
      "text/plain": [
       "<Figure size 432x288 with 1 Axes>"
      ]
     },
     "metadata": {
      "needs_background": "light"
     },
     "output_type": "display_data"
    }
   ],
   "source": [
    "df.plot(x='eth_rate_burn',y='net_value_vs_holding_percentage',kind='scatter')\n",
    "plt.title('Relationship between ETH to USDC rate at burn and NVVH value')\n",
    "plt.xlabel('ETH to USDC Rate when burn (how much USDC 1 ETH worth)')\n",
    "plt.ylabel('NVVH')"
   ]
  },
  {
   "cell_type": "code",
   "execution_count": 80,
   "id": "2a635b42-6e86-4b96-973d-3eaf00c1ecfe",
   "metadata": {},
   "outputs": [],
   "source": [
    "df_temp = df[df.eth_rate_burn > 2000]"
   ]
  },
  {
   "cell_type": "code",
   "execution_count": 81,
   "id": "b8dc1c1c-66ad-47fc-9aab-700ebd2a8166",
   "metadata": {},
   "outputs": [
    {
     "data": {
      "text/plain": [
       "count     45.000000\n",
       "mean      39.615399\n",
       "std       47.894493\n",
       "min        0.006493\n",
       "25%       19.361146\n",
       "50%       21.519329\n",
       "75%       45.048796\n",
       "max      238.721690\n",
       "Name: time_in_pool_days, dtype: float64"
      ]
     },
     "execution_count": 81,
     "metadata": {},
     "output_type": "execute_result"
    }
   ],
   "source": [
    "df_temp.time_in_pool_days.describe()"
   ]
  },
  {
   "cell_type": "markdown",
   "id": "ab8456a4-4b4d-405f-8f6c-77b4f559ec19",
   "metadata": {},
   "source": [
    "### Relationship with eth_rate_mint"
   ]
  },
  {
   "cell_type": "code",
   "execution_count": 82,
   "id": "805f7c09-9b21-422a-aff5-07ccec6d89fd",
   "metadata": {},
   "outputs": [
    {
     "data": {
      "text/plain": [
       "Text(0, 0.5, 'NVVH')"
      ]
     },
     "execution_count": 82,
     "metadata": {},
     "output_type": "execute_result"
    },
    {
     "data": {
      "image/png": "[encoded data removed]",
      "text/plain": [
       "<Figure size 432x288 with 1 Axes>"
      ]
     },
     "metadata": {
      "needs_background": "light"
     },
     "output_type": "display_data"
    }
   ],
   "source": [
    "df.plot(x='eth_rate_mint',y='y_q',kind='scatter')\n",
    "plt.title('Relationship between ETH to USDC rate at mint and NVVH value')\n",
    "plt.xlabel('ETH to USDC Rate when mint (how much USDC 1 ETH worth)')\n",
    "plt.ylabel('NVVH')"
   ]
  },
  {
   "cell_type": "code",
   "execution_count": 83,
   "id": "e21d6ca3-4c36-40d1-906f-2e8444f54991",
   "metadata": {},
   "outputs": [
    {
     "data": {
      "text/plain": [
       "count     8.000000\n",
       "mean     14.064180\n",
       "std      24.130455\n",
       "min       0.006493\n",
       "25%       1.881450\n",
       "50%       3.859896\n",
       "75%      11.377297\n",
       "max      70.952535\n",
       "Name: time_in_pool_days, dtype: float64"
      ]
     },
     "execution_count": 83,
     "metadata": {},
     "output_type": "execute_result"
    }
   ],
   "source": [
    "df_temp = df[df.eth_rate_mint > 2000]\n",
    "df_temp.time_in_pool_days.describe()"
   ]
  },
  {
   "cell_type": "markdown",
   "id": "3812dc52-b7d3-4aac-889f-76a633508f6e",
   "metadata": {},
   "source": [
    "Higher mint ETH to USDC rate means higher risk but may lead to higher gain"
   ]
  },
  {
   "cell_type": "markdown",
   "id": "1e470990-a241-4bcd-b7b3-8980b1d02609",
   "metadata": {},
   "source": [
    "### Relationship with usdc_burned v.s. eth_burned"
   ]
  },
  {
   "cell_type": "code",
   "execution_count": 84,
   "id": "94deab21-b642-4fdc-9b48-09c02f1d3516",
   "metadata": {},
   "outputs": [
    {
     "data": {
      "text/plain": [
       "<AxesSubplot:xlabel='eth_burned', ylabel='y_q'>"
      ]
     },
     "execution_count": 84,
     "metadata": {},
     "output_type": "execute_result"
    },
    {
     "data": {
      "image/png": "[encoded data removed]",
      "text/plain": [
       "<Figure size 432x288 with 1 Axes>"
      ]
     },
     "metadata": {
      "needs_background": "light"
     },
     "output_type": "display_data"
    }
   ],
   "source": [
    "df.plot(x='eth_burned',y='y_q',kind='scatter')"
   ]
  },
  {
   "cell_type": "code",
   "execution_count": 85,
   "id": "cc49d415-da90-40ac-893b-e45861318f20",
   "metadata": {},
   "outputs": [
    {
     "data": {
      "text/plain": [
       "<AxesSubplot:xlabel='usdc_burned', ylabel='y_q'>"
      ]
     },
     "execution_count": 85,
     "metadata": {},
     "output_type": "execute_result"
    },
    {
     "data": {
      "image/png": "[encoded data removed]",
      "text/plain": [
       "<Figure size 432x288 with 1 Axes>"
      ]
     },
     "metadata": {
      "needs_background": "light"
     },
     "output_type": "display_data"
    }
   ],
   "source": [
    "df.plot(x='usdc_burned',y='y_q',kind='scatter')"
   ]
  },
  {
   "cell_type": "markdown",
   "id": "b205260b-0ceb-4d1c-bbbb-2f8ecefbb23f",
   "metadata": {},
   "source": [
    "In general, the amount you burned is not correlated with the net gain you get </br>\n",
    "According to the correlation, usdc_burned is more correlated to the net_value_vs_holding_percentage than eth_burned </br>\n",
    "This is caused by the fact that usdc (being less worthy) has more variance than eth, which makes it a somehow better indicator for influences on NVVH, and it may be better at magnify the correlation </br>"
   ]
  },
  {
   "cell_type": "markdown",
   "id": "10519d7e-04a2-4ee4-994e-ef8e363779a7",
   "metadata": {},
   "source": [
    "### Relationship with mint_vol and burn_vol (volatility)"
   ]
  },
  {
   "cell_type": "code",
   "execution_count": 86,
   "id": "f0bda5b0-7bd1-412a-be0f-af16786dcb91",
   "metadata": {},
   "outputs": [
    {
     "data": {
      "text/plain": [
       "<AxesSubplot:xlabel='mint_vol_q', ylabel='y_q'>"
      ]
     },
     "execution_count": 86,
     "metadata": {},
     "output_type": "execute_result"
    },
    {
     "data": {
      "image/png": "[encoded data removed]",
      "text/plain": [
       "<Figure size 432x288 with 1 Axes>"
      ]
     },
     "metadata": {
      "needs_background": "light"
     },
     "output_type": "display_data"
    }
   ],
   "source": [
    "df['mint_vol_q'] = pd.qcut(df['mint_vol'], 20, labels=range(13), duplicates='drop') \n",
    "df.plot(x='mint_vol_q',y='y_q',kind='scatter')"
   ]
  },
  {
   "cell_type": "code",
   "execution_count": 87,
   "id": "7f4f87c7",
   "metadata": {},
   "outputs": [
    {
     "data": {
      "text/plain": [
       "actual_gain                        0.898321\n",
       "eth_minted                        -0.309383\n",
       "usdc_minted                        0.220123\n",
       "eth_burned                        -0.338785\n",
       "usdc_burned                        0.508186\n",
       "eth_rate_mint                      0.691834\n",
       "eth_rate_burn                      0.796153\n",
       "time_in_pool_days                  0.989677\n",
       "hold_value                         0.491495\n",
       "liq_value                          0.508186\n",
       "rate_change                        0.875411\n",
       "mint_vol                           0.735544\n",
       "burn_vol                           0.240826\n",
       "Burn_Price                         0.790799\n",
       "Mint_Price                         0.689465\n",
       "Burn_Volume                       -0.664604\n",
       "Mint_Volume                       -0.638605\n",
       "Mint_PerChange                    -0.485458\n",
       "Burn_PerChange                    -0.034850\n",
       "net_value_vs_holding_percentage    1.000000\n",
       "net_value_vs_holding_raw           0.910811\n",
       "gain_as_percentage                 0.935952\n",
       "Name: net_value_vs_holding_percentage, dtype: float64"
      ]
     },
     "execution_count": 87,
     "metadata": {},
     "output_type": "execute_result"
    }
   ],
   "source": [
    "gdf_with_clean = df.groupby('y_q').mean() # cleaned frame\n",
    "gdf_with_clean = gdf_with_clean.reset_index()\n",
    "gdf_with_clean.corr().net_value_vs_holding_percentage"
   ]
  },
  {
   "cell_type": "code",
   "execution_count": 88,
   "id": "cbf68d84-fef6-450b-82ff-f3e00a4117e8",
   "metadata": {},
   "outputs": [
    {
     "data": {
      "text/plain": [
       "Text(0, 0.5, 'NVVH')"
      ]
     },
     "execution_count": 88,
     "metadata": {},
     "output_type": "execute_result"
    },
    {
     "data": {
      "image/png": "[encoded data removed]",
      "text/plain": [
       "<Figure size 432x288 with 1 Axes>"
      ]
     },
     "metadata": {
      "needs_background": "light"
     },
     "output_type": "display_data"
    }
   ],
   "source": [
    "gdf_with_clean.plot(x='mint_vol',y='y_q',kind='scatter')\n",
    "plt.title('Relationship between mint volatility and NVVH value')\n",
    "plt.xlabel('mint volatility')\n",
    "plt.ylabel('NVVH')"
   ]
  },
  {
   "cell_type": "markdown",
   "id": "ca8c2035-24da-4954-b4de-be2b580b2333",
   "metadata": {},
   "source": [
    "mint volatility is to some extent relate to NVVH, even though we don't have strong evidence to support the conclusion (the data size is small) </br>"
   ]
  },
  {
   "cell_type": "code",
   "execution_count": 89,
   "id": "993942c3-0d9f-4781-a274-ba5166fc0e29",
   "metadata": {},
   "outputs": [
    {
     "data": {
      "text/plain": [
       "count     74.000000\n",
       "mean      22.837834\n",
       "std       32.631597\n",
       "min        0.001505\n",
       "25%        2.891646\n",
       "50%       17.177066\n",
       "75%       27.498417\n",
       "max      234.626620\n",
       "Name: time_in_pool_days, dtype: float64"
      ]
     },
     "execution_count": 89,
     "metadata": {},
     "output_type": "execute_result"
    }
   ],
   "source": [
    "df_temp = df[df.mint_vol > 4.8]\n",
    "df_temp.time_in_pool_days.describe()"
   ]
  },
  {
   "cell_type": "code",
   "execution_count": 90,
   "id": "0dcbc5f0-c27d-48b6-b12e-879b669175ac",
   "metadata": {},
   "outputs": [
    {
     "data": {
      "text/plain": [
       "<AxesSubplot:xlabel='burn_vol', ylabel='y_q'>"
      ]
     },
     "execution_count": 90,
     "metadata": {},
     "output_type": "execute_result"
    },
    {
     "data": {
      "image/png": "[encoded data removed]",
      "text/plain": [
       "<Figure size 432x288 with 1 Axes>"
      ]
     },
     "metadata": {
      "needs_background": "light"
     },
     "output_type": "display_data"
    }
   ],
   "source": [
    "gdf_with_clean.plot(x='burn_vol',y='y_q',kind='scatter')"
   ]
  },
  {
   "cell_type": "markdown",
   "id": "41a5040c-a399-46d8-a5de-b8d4512050b8",
   "metadata": {},
   "source": [
    "burn volatility seems to have no obvious relationship to NVVH. The higher volatility leads to a less stable and less predictable market. </br>"
   ]
  },
  {
   "cell_type": "markdown",
   "id": "a0ada0f5",
   "metadata": {},
   "source": [
    "# Machine Learning on NVH"
   ]
  },
  {
   "cell_type": "markdown",
   "id": "68afee92",
   "metadata": {},
   "source": [
    "## Random Forrest on Raw Data"
   ]
  },
  {
   "cell_type": "code",
   "execution_count": 92,
   "id": "791dd3e5",
   "metadata": {},
   "outputs": [],
   "source": [
    "X = masterdf[['time_in_pool_days', 'eth_rate_mint', 'mint_vol', 'Mint_Price','Mint_Volume']] # need to add more features\n",
    "y = masterdf[['net_value_vs_holding_percentage']]"
   ]
  },
  {
   "cell_type": "code",
   "execution_count": 93,
   "id": "5859e018",
   "metadata": {},
   "outputs": [
    {
     "data": {
      "text/html": [
       "<div>\n",
       "<style scoped>\n",
       "    .dataframe tbody tr th:only-of-type {\n",
       "        vertical-align: middle;\n",
       "    }\n",
       "\n",
       "    .dataframe tbody tr th {\n",
       "        vertical-align: top;\n",
       "    }\n",
       "\n",
       "    .dataframe thead th {\n",
       "        text-align: right;\n",
       "    }\n",
       "</style>\n",
       "<table border=\"1\" class=\"dataframe\">\n",
       "  <thead>\n",
       "    <tr style=\"text-align: right;\">\n",
       "      <th></th>\n",
       "      <th>net_value_vs_holding_percentage</th>\n",
       "    </tr>\n",
       "  </thead>\n",
       "  <tbody>\n",
       "    <tr>\n",
       "      <th>count</th>\n",
       "      <td>282.000000</td>\n",
       "    </tr>\n",
       "    <tr>\n",
       "      <th>mean</th>\n",
       "      <td>319.485037</td>\n",
       "    </tr>\n",
       "    <tr>\n",
       "      <th>std</th>\n",
       "      <td>2779.397486</td>\n",
       "    </tr>\n",
       "    <tr>\n",
       "      <th>min</th>\n",
       "      <td>-40.097436</td>\n",
       "    </tr>\n",
       "    <tr>\n",
       "      <th>25%</th>\n",
       "      <td>0.002593</td>\n",
       "    </tr>\n",
       "    <tr>\n",
       "      <th>50%</th>\n",
       "      <td>0.065100</td>\n",
       "    </tr>\n",
       "    <tr>\n",
       "      <th>75%</th>\n",
       "      <td>0.749113</td>\n",
       "    </tr>\n",
       "    <tr>\n",
       "      <th>max</th>\n",
       "      <td>32452.987726</td>\n",
       "    </tr>\n",
       "  </tbody>\n",
       "</table>\n",
       "</div>"
      ],
      "text/plain": [
       "       net_value_vs_holding_percentage\n",
       "count                       282.000000\n",
       "mean                        319.485037\n",
       "std                        2779.397486\n",
       "min                         -40.097436\n",
       "25%                           0.002593\n",
       "50%                           0.065100\n",
       "75%                           0.749113\n",
       "max                       32452.987726"
      ]
     },
     "execution_count": 93,
     "metadata": {},
     "output_type": "execute_result"
    }
   ],
   "source": [
    "masterdf[['net_value_vs_holding_percentage']].describe()"
   ]
  },
  {
   "cell_type": "code",
   "execution_count": 94,
   "id": "81b814a4",
   "metadata": {},
   "outputs": [
    {
     "name": "stderr",
     "output_type": "stream",
     "text": [
      "/Users/samantha/opt/anaconda3/lib/python3.8/site-packages/pandas/core/indexing.py:1599: SettingWithCopyWarning: \n",
      "A value is trying to be set on a copy of a slice from a DataFrame.\n",
      "Try using .loc[row_indexer,col_indexer] = value instead\n",
      "\n",
      "See the caveats in the documentation: https://pandas.pydata.org/pandas-docs/stable/user_guide/indexing.html#returning-a-view-versus-a-copy\n",
      "  self.obj[key] = infer_fill_value(value)\n",
      "/Users/samantha/opt/anaconda3/lib/python3.8/site-packages/pandas/core/indexing.py:1720: SettingWithCopyWarning: \n",
      "A value is trying to be set on a copy of a slice from a DataFrame.\n",
      "Try using .loc[row_indexer,col_indexer] = value instead\n",
      "\n",
      "See the caveats in the documentation: https://pandas.pydata.org/pandas-docs/stable/user_guide/indexing.html#returning-a-view-versus-a-copy\n",
      "  self._setitem_single_column(loc, value, pi)\n"
     ]
    }
   ],
   "source": [
    "# try for 5+ categories, precision recall (false positives + false negatives) - which categories are you better at predicting\n",
    "# for categories that we are better at predicting, show trends/plots (x vs actual y)\n",
    "# explore feature importances, then only do exercises for features that are important \n",
    "# other models to try: MLP (neural network in scikit learn)\n",
    "k = 0\n",
    "for i in range(len(y)):\n",
    "    if y['net_value_vs_holding_percentage'][i] > 0.749113:\n",
    "        y.loc[i, 'category'] = 'high'\n",
    "    elif 0.002593 < y['net_value_vs_holding_percentage'][i] < 0.749113:\n",
    "        y.loc[i, 'category'] = 'mild'\n",
    "    elif y['net_value_vs_holding_percentage'][i] < 0.002593:\n",
    "        y.loc[i, 'category'] = 'low'"
   ]
  },
  {
   "cell_type": "code",
   "execution_count": 95,
   "id": "d490f662",
   "metadata": {},
   "outputs": [],
   "source": [
    "X_train, X_test, y_train, y_test = train_test_split(X, y, test_size=0.3, random_state=0)"
   ]
  },
  {
   "cell_type": "code",
   "execution_count": 96,
   "id": "19c24bab",
   "metadata": {
    "scrolled": false
   },
   "outputs": [
    {
     "name": "stderr",
     "output_type": "stream",
     "text": [
      "<ipython-input-96-d9ca5f8b8d89>:2: DataConversionWarning: A column-vector y was passed when a 1d array was expected. Please change the shape of y to (n_samples,), for example using ravel().\n",
      "  clf.fit(X_train, y_train[['category']])\n"
     ]
    }
   ],
   "source": [
    "clf = RandomForestClassifier(max_depth=2, random_state=0)\n",
    "clf.fit(X_train, y_train[['category']])\n",
    "ypred = clf.predict(X_test)"
   ]
  },
  {
   "cell_type": "code",
   "execution_count": 925,
   "id": "2512ebb4",
   "metadata": {
    "scrolled": true
   },
   "outputs": [
    {
     "name": "stdout",
     "output_type": "stream",
     "text": [
      "0.6705882352941176\n"
     ]
    }
   ],
   "source": [
    "y_actual = y_test['category'].to_list()\n",
    "k = 0\n",
    "for i in range(len(ypred)):\n",
    "    if(ypred[i] == y_actual[i]) : \n",
    "        k+=1\n",
    "print(k/len(ypred))"
   ]
  },
  {
   "cell_type": "markdown",
   "id": "d55fae77",
   "metadata": {},
   "source": [
    "## Random Forrest on Quartiles"
   ]
  },
  {
   "cell_type": "code",
   "execution_count": 97,
   "id": "7e6c8aa5-8bc8-440b-8c21-e418bd99ba74",
   "metadata": {},
   "outputs": [],
   "source": [
    "df['y_q2'] = pd.qcut(df['net_value_vs_holding_percentage'], 6, labels=range(6))"
   ]
  },
  {
   "cell_type": "code",
   "execution_count": 98,
   "id": "ff0ed23d",
   "metadata": {},
   "outputs": [],
   "source": [
    "X = df[['time_q', 'eth_rate_mint', 'eth_rate_burn']]\n",
    "y = df[['y_q2']]"
   ]
  },
  {
   "cell_type": "code",
   "execution_count": 99,
   "id": "af3db410",
   "metadata": {},
   "outputs": [],
   "source": [
    "X_train, X_test, y_train, y_test = train_test_split(X, y, test_size=0.25, random_state=0)"
   ]
  },
  {
   "cell_type": "code",
   "execution_count": 100,
   "id": "c481880c",
   "metadata": {},
   "outputs": [
    {
     "name": "stderr",
     "output_type": "stream",
     "text": [
      "<ipython-input-100-e1ca3f4b7da1>:2: DataConversionWarning: A column-vector y was passed when a 1d array was expected. Please change the shape of y to (n_samples,), for example using ravel().\n",
      "  clf.fit(X_train, y_train)\n"
     ]
    }
   ],
   "source": [
    "clf = RandomForestClassifier(max_depth=2, random_state=0)\n",
    "clf.fit(X_train, y_train)\n",
    "ypred = clf.predict(X_test)"
   ]
  },
  {
   "cell_type": "code",
   "execution_count": 101,
   "id": "1edc1ccc-2d3d-42f9-bf53-3cecbc9f728d",
   "metadata": {},
   "outputs": [
    {
     "data": {
      "text/plain": [
       "array([0.4116938 , 0.32544679, 0.26285941])"
      ]
     },
     "execution_count": 101,
     "metadata": {},
     "output_type": "execute_result"
    }
   ],
   "source": [
    "clf.feature_importances_"
   ]
  },
  {
   "cell_type": "code",
   "execution_count": 102,
   "id": "ca01dc44-39dd-482f-878d-b86b23042ae5",
   "metadata": {},
   "outputs": [
    {
     "data": {
      "text/plain": [
       "0.6968963240149681"
      ]
     },
     "execution_count": 102,
     "metadata": {},
     "output_type": "execute_result"
    }
   ],
   "source": [
    "r2_score(ypred, y_test)"
   ]
  },
  {
   "cell_type": "code",
   "execution_count": 103,
   "id": "ef37afa6-cf9b-414b-bee3-31eb4caa3063",
   "metadata": {},
   "outputs": [
    {
     "data": {
      "text/plain": [
       "1.0588235294117647"
      ]
     },
     "execution_count": 103,
     "metadata": {},
     "output_type": "execute_result"
    }
   ],
   "source": [
    "mean_squared_error(y_test, ypred)"
   ]
  },
  {
   "cell_type": "code",
   "execution_count": 104,
   "id": "f7c6e0d3-3c56-4e91-909c-9f6f126e3fc9",
   "metadata": {},
   "outputs": [
    {
     "name": "stderr",
     "output_type": "stream",
     "text": [
      "/Users/samantha/opt/anaconda3/lib/python3.8/site-packages/seaborn/distributions.py:2557: FutureWarning: `distplot` is a deprecated function and will be removed in a future version. Please adapt your code to use either `displot` (a figure-level function with similar flexibility) or `histplot` (an axes-level function for histograms).\n",
      "  warnings.warn(msg, FutureWarning)\n",
      "/Users/samantha/opt/anaconda3/lib/python3.8/site-packages/seaborn/distributions.py:2557: FutureWarning: `distplot` is a deprecated function and will be removed in a future version. Please adapt your code to use either `displot` (a figure-level function with similar flexibility) or `histplot` (an axes-level function for histograms).\n",
      "  warnings.warn(msg, FutureWarning)\n"
     ]
    },
    {
     "data": {
      "image/png": "[encoded data removed]",
      "text/plain": [
       "<Figure size 360x504 with 1 Axes>"
      ]
     },
     "metadata": {
      "needs_background": "light"
     },
     "output_type": "display_data"
    }
   ],
   "source": [
    "import seaborn as sns\n",
    "plt.figure(figsize=(5, 7))\n",
    "\n",
    "ax = sns.distplot(y_test, color=\"r\", label=\"Actual Value\")\n",
    "sns.distplot(ypred, color=\"b\", label=\"Fitted Values\" , ax=ax, bins=5)\n",
    "ax.legend(['Actual Value', 'Fitted Values'])\n",
    "plt.title('Actual vs Fitted Values for Price')\n",
    "plt.show()"
   ]
  },
  {
   "cell_type": "markdown",
   "id": "0e3a2915-a1e8-4801-88c3-1fc335ec898c",
   "metadata": {},
   "source": [
    "middle area have low prediction accuracy because overlapping features can be confusing, but in general the model can predict high and low gains </br>"
   ]
  },
  {
   "cell_type": "code",
   "execution_count": 105,
   "id": "2eaf806e-b9a0-4680-92ea-28d071d5faed",
   "metadata": {},
   "outputs": [],
   "source": [
    "y_test_value = y_test['y_q2'].values.to_list()"
   ]
  },
  {
   "cell_type": "code",
   "execution_count": 106,
   "id": "20338b4b-fd8b-49af-be8f-eaf297d85e79",
   "metadata": {},
   "outputs": [
    {
     "data": {
      "text/plain": [
       "0.0784313725490196"
      ]
     },
     "execution_count": 106,
     "metadata": {},
     "output_type": "execute_result"
    }
   ],
   "source": [
    "# percentage of false positive: when we say a higher value for an actual low gain\n",
    "cnt = 0\n",
    "for i in range(len(y_test_value)):\n",
    "    if y_test_value[i] < ypred[i] - 1: # gives a small space for error\n",
    "        cnt += 1\n",
    "cnt / len(y_test_value)"
   ]
  },
  {
   "cell_type": "code",
   "execution_count": 107,
   "id": "1b0f0575-6ea3-435d-a4af-c176be89030c",
   "metadata": {},
   "outputs": [
    {
     "data": {
      "text/plain": [
       "0.058823529411764705"
      ]
     },
     "execution_count": 107,
     "metadata": {},
     "output_type": "execute_result"
    }
   ],
   "source": [
    "# percentage of false positive: when we say a higher value for an actual low gain\n",
    "cnt = 0\n",
    "for i in range(len(y_test_value)):\n",
    "    if y_test_value[i] > ypred[i] + 1: # gives a small space for error\n",
    "        cnt += 1\n",
    "cnt / len(y_test_value)"
   ]
  },
  {
   "cell_type": "code",
   "execution_count": 108,
   "id": "1f2e5b61",
   "metadata": {},
   "outputs": [
    {
     "name": "stderr",
     "output_type": "stream",
     "text": [
      "<ipython-input-108-2ad92956b912>:9: DataConversionWarning: A column-vector y was passed when a 1d array was expected. Please change the shape of y to (n_samples,), for example using ravel().\n",
      "  clf.fit(X_train, y_train)\n",
      "/Users/samantha/opt/anaconda3/lib/python3.8/site-packages/seaborn/distributions.py:2557: FutureWarning: `distplot` is a deprecated function and will be removed in a future version. Please adapt your code to use either `displot` (a figure-level function with similar flexibility) or `histplot` (an axes-level function for histograms).\n",
      "  warnings.warn(msg, FutureWarning)\n",
      "/Users/samantha/opt/anaconda3/lib/python3.8/site-packages/seaborn/distributions.py:2557: FutureWarning: `distplot` is a deprecated function and will be removed in a future version. Please adapt your code to use either `displot` (a figure-level function with similar flexibility) or `histplot` (an axes-level function for histograms).\n",
      "  warnings.warn(msg, FutureWarning)\n"
     ]
    },
    {
     "data": {
      "image/png": "[encoded data removed]",
      "text/plain": [
       "<Figure size 360x504 with 1 Axes>"
      ]
     },
     "metadata": {
      "needs_background": "light"
     },
     "output_type": "display_data"
    },
    {
     "data": {
      "text/plain": [
       "0.058823529411764705"
      ]
     },
     "execution_count": 108,
     "metadata": {},
     "output_type": "execute_result"
    }
   ],
   "source": [
    "df['y_q2'] = pd.qcut(df['net_value_vs_holding_percentage'], 6, labels=range(6))\n",
    "\n",
    "X = df[['time_q', 'eth_rate_mint', 'eth_rate_burn']]\n",
    "y = df[['y_q2']]\n",
    "\n",
    "X_train, X_test, y_train, y_test = train_test_split(X, y, test_size=0.25, random_state=0)\n",
    "\n",
    "clf = RandomForestClassifier(max_depth=2, random_state=0)\n",
    "clf.fit(X_train, y_train)\n",
    "ypred = clf.predict(X_test)\n",
    "\n",
    "clf.feature_importances_\n",
    "\n",
    "r2_score(ypred, y_test)\n",
    "\n",
    "mean_squared_error(y_test, ypred)\n",
    "\n",
    "import seaborn as sns\n",
    "plt.figure(figsize=(5, 7))\n",
    "\n",
    "ax = sns.distplot(y_test, color=\"r\", label=\"Actual Value\")\n",
    "sns.distplot(ypred, color=\"b\", label=\"Fitted Values\" , ax=ax, bins=5)\n",
    "ax.legend(['Actual Value', 'Fitted Values'])\n",
    "plt.title('Actual vs Fitted Values for Price')\n",
    "plt.show()\n",
    "\n",
    "# middle area have low prediction accuracy because overlapping features can be confusing, but in general the model can predict high and low gains </br>\n",
    "\n",
    "y_test_value = y_test['y_q2'].values.to_list()\n",
    "\n",
    "# percentage of false positive: when we say a higher value for an actual low gain\n",
    "cnt = 0\n",
    "for i in range(len(y_test_value)):\n",
    "    if y_test_value[i] < ypred[i] - 1: # gives a small space for error\n",
    "        cnt += 1\n",
    "cnt / len(y_test_value)\n",
    "\n",
    "# percentage of false positive: when we say a higher value for an actual low gain\n",
    "cnt = 0\n",
    "for i in range(len(y_test_value)):\n",
    "    if y_test_value[i] > ypred[i] + 1: # gives a small space for error\n",
    "        cnt += 1\n",
    "cnt / len(y_test_value)"
   ]
  }
 ],
 "metadata": {
  "kernelspec": {
   "display_name": "Python 3",
   "language": "python",
   "name": "python3"
  },
  "language_info": {
   "codemirror_mode": {
    "name": "ipython",
    "version": 3
   },
   "file_extension": ".py",
   "mimetype": "text/x-python",
   "name": "python",
   "nbconvert_exporter": "python",
   "pygments_lexer": "ipython3",
   "version": "3.8.8"
  },
  "toc": {
   "base_numbering": 1,
   "nav_menu": {},
   "number_sections": true,
   "sideBar": true,
   "skip_h1_title": false,
   "title_cell": "Table of Contents",
   "title_sidebar": "Contents",
   "toc_cell": true,
   "toc_position": {
    "height": "calc(100% - 180px)",
    "left": "10px",
    "top": "150px",
    "width": "288px"
   },
   "toc_section_display": true,
   "toc_window_display": true
  }
 },
 "nbformat": 4,
 "nbformat_minor": 5
}
